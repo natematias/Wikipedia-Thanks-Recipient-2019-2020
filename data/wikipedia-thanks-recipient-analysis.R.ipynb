{
 "cells": [
  {
   "cell_type": "markdown",
   "metadata": {},
   "source": [
    "# Wikipedia Thanks Recipient Analysis \n",
    "\n",
    "[J. Nathan Matias](https://natematias.com), June 2024\n",
    "\n",
    "Key documents:\n",
    "* [pre-analysis plan: Receiving Thanks on Wikipedia](https://osf.io/c67rg/)\n",
    "* [data format description](https://docs.google.com/document/d/1plhoDbQryYQ32vZMXu8YmlLSp30QTdup43k6uTePOT4/edit#heading=h.fxaguwxn13cj)\n",
    "* Tresorit data in `Tresors/CivilServant/projects/wikipedia-integration/gratitude-study`\n",
    "\n",
    "Decisions:\n",
    "* With only 786 survey compliers, we are way under the sample needed to test our survey questions. So we will only report summary statistics for survey questions.\n",
    "* Since we aren't testing survey-based hypotheses, we will reduce the number of comparisons that we adjust for.\n",
    "* In this code, I don't adjust for language and sub-group in the meta-analysis. That's unnecessary because difference_in_means accounts for the randomization strategy. I misunderstood that at the time I pre-registered."
   ]
  },
  {
   "cell_type": "code",
   "execution_count": 1,
   "metadata": {},
   "outputs": [
    {
     "name": "stderr",
     "output_type": "stream",
     "text": [
      "Loading required package: car\n",
      "\n",
      "Loading required package: carData\n",
      "\n",
      "Loading required package: lmtest\n",
      "\n",
      "Loading required package: zoo\n",
      "\n",
      "\n",
      "Attaching package: ‘zoo’\n",
      "\n",
      "\n",
      "The following objects are masked from ‘package:base’:\n",
      "\n",
      "    as.Date, as.Date.numeric\n",
      "\n",
      "\n",
      "Loading required package: sandwich\n",
      "\n",
      "Loading required package: survival\n",
      "\n",
      "── \u001b[1mAttaching core tidyverse packages\u001b[22m ─────────────────────────────────────────────────────────────────────────────────────────────────────────────────────────────────────────────── tidyverse 2.0.0 ──\n",
      "\u001b[32m✔\u001b[39m \u001b[34mdplyr    \u001b[39m 1.1.4     \u001b[32m✔\u001b[39m \u001b[34mreadr    \u001b[39m 2.1.5\n",
      "\u001b[32m✔\u001b[39m \u001b[34mforcats  \u001b[39m 1.0.0     \u001b[32m✔\u001b[39m \u001b[34mstringr  \u001b[39m 1.5.1\n",
      "\u001b[32m✔\u001b[39m \u001b[34mggplot2  \u001b[39m 3.5.1     \u001b[32m✔\u001b[39m \u001b[34mtibble   \u001b[39m 3.2.1\n",
      "\u001b[32m✔\u001b[39m \u001b[34mlubridate\u001b[39m 1.9.3     \u001b[32m✔\u001b[39m \u001b[34mtidyr    \u001b[39m 1.3.1\n",
      "\u001b[32m✔\u001b[39m \u001b[34mpurrr    \u001b[39m 1.0.2     \n",
      "── \u001b[1mConflicts\u001b[22m ───────────────────────────────────────────────────────────────────────────────────────────────────────────────────────────────────────────────────────────────── tidyverse_conflicts() ──\n",
      "\u001b[31m✖\u001b[39m \u001b[34mdplyr\u001b[39m::\u001b[32marrange()\u001b[39m   masks \u001b[34mplyr\u001b[39m::arrange()\n",
      "\u001b[31m✖\u001b[39m \u001b[34mpurrr\u001b[39m::\u001b[32mcompact()\u001b[39m   masks \u001b[34mplyr\u001b[39m::compact()\n",
      "\u001b[31m✖\u001b[39m \u001b[34mdplyr\u001b[39m::\u001b[32mcount()\u001b[39m     masks \u001b[34mplyr\u001b[39m::count()\n",
      "\u001b[31m✖\u001b[39m \u001b[34mdplyr\u001b[39m::\u001b[32mdesc()\u001b[39m      masks \u001b[34mplyr\u001b[39m::desc()\n",
      "\u001b[31m✖\u001b[39m \u001b[34mdplyr\u001b[39m::\u001b[32mfailwith()\u001b[39m  masks \u001b[34mplyr\u001b[39m::failwith()\n",
      "\u001b[31m✖\u001b[39m \u001b[34mdplyr\u001b[39m::\u001b[32mfilter()\u001b[39m    masks \u001b[34mstats\u001b[39m::filter()\n",
      "\u001b[31m✖\u001b[39m \u001b[34mdplyr\u001b[39m::\u001b[32mid()\u001b[39m        masks \u001b[34mplyr\u001b[39m::id()\n",
      "\u001b[31m✖\u001b[39m \u001b[34mdplyr\u001b[39m::\u001b[32mlag()\u001b[39m       masks \u001b[34mstats\u001b[39m::lag()\n",
      "\u001b[31m✖\u001b[39m \u001b[34mdplyr\u001b[39m::\u001b[32mmutate()\u001b[39m    masks \u001b[34mplyr\u001b[39m::mutate()\n",
      "\u001b[31m✖\u001b[39m \u001b[34mdplyr\u001b[39m::\u001b[32mrecode()\u001b[39m    masks \u001b[34mcar\u001b[39m::recode()\n",
      "\u001b[31m✖\u001b[39m \u001b[34mdplyr\u001b[39m::\u001b[32mrename()\u001b[39m    masks \u001b[34mplyr\u001b[39m::rename()\n",
      "\u001b[31m✖\u001b[39m \u001b[34mpurrr\u001b[39m::\u001b[32msome()\u001b[39m      masks \u001b[34mcar\u001b[39m::some()\n",
      "\u001b[31m✖\u001b[39m \u001b[34mdplyr\u001b[39m::\u001b[32msummarise()\u001b[39m masks \u001b[34mplyr\u001b[39m::summarise()\n",
      "\u001b[31m✖\u001b[39m \u001b[34mdplyr\u001b[39m::\u001b[32msummarize()\u001b[39m masks \u001b[34mplyr\u001b[39m::summarize()\n",
      "\u001b[36mℹ\u001b[39m Use the conflicted package (\u001b[3m\u001b[34m<http://conflicted.r-lib.org/>\u001b[39m\u001b[23m) to force all conflicts to become errors\n",
      "\n",
      "Attaching package: ‘magrittr’\n",
      "\n",
      "\n",
      "The following object is masked from ‘package:purrr’:\n",
      "\n",
      "    set_names\n",
      "\n",
      "\n",
      "The following object is masked from ‘package:tidyr’:\n",
      "\n",
      "    extract\n",
      "\n",
      "\n",
      "\n",
      "Attaching package: ‘MASS’\n",
      "\n",
      "\n",
      "The following object is masked from ‘package:dplyr’:\n",
      "\n",
      "    select\n",
      "\n",
      "\n",
      "Loading required package: randomizr\n",
      "\n",
      "\n",
      "Attaching package: ‘ggpubr’\n",
      "\n",
      "\n",
      "The following object is masked from ‘package:plyr’:\n",
      "\n",
      "    mutate\n",
      "\n",
      "\n"
     ]
    }
   ],
   "source": [
    "library(plyr)\n",
    "library(AER)\n",
    "library(tidyverse)\n",
    "library(magrittr)\n",
    "library(gmodels)\n",
    "library(MASS)\n",
    "library(estimatr)\n",
    "library(ri2)\n",
    "library(ggplot2)\n",
    "library(ggpubr)   # contains ggarrange\n",
    "library(png)      # to load logo\n",
    "library(grid)\n",
    "\n",
    "### TODO: Add Source Sans as a font for ggplot2\n",
    "library(sysfonts) # to load source sans pro\n",
    "# https://rdrr.io/github/kjhealy/sourcesans/src/R/sourcesans.r\n",
    "\n",
    "## Set visual style\n",
    "catpalette   <- c(\"#333333\", \"#ea5324\", \"#005073\", \"#7D868C\", \"#BDBBBB\", \"#F2F2F2\",\"#F6F2EB\")\n",
    "chartpalette <- c(\"#ea5324\", \"#005073\", \"#7D868C\", \"#333333\", \"#F2F2F2\",\"#BDBBBB\", \"#F6F2EB\")\n",
    "\n",
    "cat.theme <-  theme_bw() +\n",
    "              theme(plot.title = element_text(size=13, face=\"bold\", color=catpalette[3]),\n",
    "                    axis.title.x =element_text(size=10, hjust = -0.01, color = catpalette[1]),\n",
    "                    axis.title.y =element_text(size=10, color = catpalette[1]),\n",
    "                    panel.background = element_rect(fill=catpalette[6]))"
   ]
  },
  {
   "cell_type": "markdown",
   "metadata": {},
   "source": [
    "# Load Data"
   ]
  },
  {
   "cell_type": "code",
   "execution_count": 2,
   "metadata": {},
   "outputs": [],
   "source": [
    "data.path = Sys.getenv('TRESORDIR', '~/Tresors')\n",
    "tresor.path = 'CivilServant/projects/wikipedia-integration/gratitude-study/Data Drills/thankee/post_experiment_analysis'\n",
    "fname = 'grat-thankee-all-pre-post-treatment-vars.csv'\n",
    "thank.fname = '2021-04-30-secondary-thanks.csv'\n",
    "f.path = file.path(data.path, tresor.path, fname)\n",
    "all.participants <- read.csv(f.path)\n",
    "participant.thanks <- read.csv(file.path(data.path, tresor.path, thank.fname))"
   ]
  },
  {
   "cell_type": "code",
   "execution_count": 10,
   "metadata": {},
   "outputs": [],
   "source": [
    "start.date = \"2019-08-02\"\n",
    "end.date   = \"2020-02-11\"\n",
    "\n",
    "end.caption.text = \"Details at: citizensandtech.org/research/how-do-wikipedians-thank-each-other/\n",
    "\n",
    "\n",
    "Citizens & Technology Lab - citizensandtech.org\n",
    "© Creative Commons International Attribution 4.0\"\n",
    "\n",
    "lab.anewc <- \"all newcomers\"\n",
    "lab.newc <- \"newcomers\"\n",
    "lab.exp <- \"experienced\""
   ]
  },
  {
   "cell_type": "code",
   "execution_count": 99,
   "metadata": {},
   "outputs": [
    {
     "data": {
      "text/html": [
       "15558"
      ],
      "text/latex": [
       "15558"
      ],
      "text/markdown": [
       "15558"
      ],
      "text/plain": [
       "[1] 15558"
      ]
     },
     "metadata": {},
     "output_type": "display_data"
    }
   ],
   "source": [
    "### Load the logo for the blog post\n",
    "# cat.logo.filename <- \"../../assets/CAT-Logo-Horizontal-social-media-preview-color.png\"\n",
    "# logo.img <- readPNG(cat.logo.filename)\n",
    "# logo.pngob <- rasterGrob(logo.img)\n",
    "\n",
    "## Print the number of partiicpants in the experiment, before\n",
    "## any randomization blocks are removed for analysis\n",
    "nrow(all.participants)"
   ]
  },
  {
   "cell_type": "markdown",
   "metadata": {},
   "source": [
    "### Convert columns to column names and formats from the experiment plan"
   ]
  },
  {
   "cell_type": "code",
   "execution_count": 100,
   "metadata": {},
   "outputs": [],
   "source": [
    "all.participants$two.week.retention  %<>% as.logical\n",
    "all.participants$complier  %<>% as.logical\n",
    "all.participants$has.email  %<>% as.logical\n",
    "all.participants$thanks.not.received.skipped %<>% as.logical\n",
    "all.participants$thanks.not.received.not.seen  %<>% as.logical\n",
    "all.participants$thanks.not.received.error  %<>% as.logical\n",
    "all.participants$thanks.not.received.user.deleted  %<>% as.logical\n",
    "all.participants$received.multiple.thanks  %<>% as.logical\n",
    "all.participants$complier.app.any.reason  %<>% as.logical\n",
    "\n",
    "all.participants$TREAT <- all.participants$randomization.arm\n",
    "all.participants$block <- all.participants$randomization.block.id\n",
    "all.participants$prev.experience <- all.participants$prev.experience.assignment\n",
    "all.participants$newcomer <- all.participants$prev.experience==\"bin_0\"\n",
    "\n",
    "all.participants$prev.experience.assignment.days <- \n",
    "    as.numeric(str_replace(all.participants$prev.experience, \"bin_\", \"\"))"
   ]
  },
  {
   "cell_type": "markdown",
   "metadata": {},
   "source": [
    "### Remove blocks that include accounts that were deleted"
   ]
  },
  {
   "cell_type": "code",
   "execution_count": 101,
   "metadata": {},
   "outputs": [],
   "source": [
    "blocks.to.omit.deleted <- subset(all.participants, thanks.not.received.user.deleted)$block"
   ]
  },
  {
   "cell_type": "markdown",
   "metadata": {},
   "source": [
    "#### Remove Blocks that were Multiply Thanked"
   ]
  },
  {
   "cell_type": "code",
   "execution_count": 102,
   "metadata": {},
   "outputs": [
    {
     "data": {
      "text/html": [
       "81"
      ],
      "text/latex": [
       "81"
      ],
      "text/markdown": [
       "81"
      ],
      "text/plain": [
       "[1] 81"
      ]
     },
     "metadata": {},
     "output_type": "display_data"
    }
   ],
   "source": [
    "length(unique(subset(all.participants,received.multiple.thanks)$block))\n",
    "blocks.to.omit.multiple.thanks <- unique(subset(all.participants,received.multiple.thanks)$block)"
   ]
  },
  {
   "cell_type": "markdown",
   "metadata": {},
   "source": [
    "#### Remove blocks that were deleted at the time"
   ]
  },
  {
   "cell_type": "code",
   "execution_count": 103,
   "metadata": {},
   "outputs": [
    {
     "data": {
      "text/html": [
       "142"
      ],
      "text/latex": [
       "142"
      ],
      "text/markdown": [
       "142"
      ],
      "text/plain": [
       "[1] 142"
      ]
     },
     "metadata": {},
     "output_type": "display_data"
    }
   ],
   "source": [
    "length(unique(c(blocks.to.omit.multiple.thanks,blocks.to.omit.deleted)))"
   ]
  },
  {
   "cell_type": "markdown",
   "metadata": {},
   "source": [
    "#### Count omitted participants"
   ]
  },
  {
   "cell_type": "code",
   "execution_count": 104,
   "metadata": {},
   "outputs": [
    {
     "data": {
      "text/html": [
       "284"
      ],
      "text/latex": [
       "284"
      ],
      "text/markdown": [
       "284"
      ],
      "text/plain": [
       "[1] 284"
      ]
     },
     "metadata": {},
     "output_type": "display_data"
    },
    {
     "data": {
      "text/html": [
       "15558"
      ],
      "text/latex": [
       "15558"
      ],
      "text/markdown": [
       "15558"
      ],
      "text/plain": [
       "[1] 15558"
      ]
     },
     "metadata": {},
     "output_type": "display_data"
    }
   ],
   "source": [
    "nrow(subset(all.participants, block %in% blocks.to.omit.deleted | block %in% blocks.to.omit.multiple.thanks))\n",
    "nrow(all.participants)"
   ]
  },
  {
   "cell_type": "code",
   "execution_count": 105,
   "metadata": {},
   "outputs": [
    {
     "data": {
      "text/html": [
       "15274"
      ],
      "text/latex": [
       "15274"
      ],
      "text/markdown": [
       "15274"
      ],
      "text/plain": [
       "[1] 15274"
      ]
     },
     "metadata": {},
     "output_type": "display_data"
    }
   ],
   "source": [
    "participants <- subset(all.participants, \n",
    "                       (block %in% blocks.to.omit.deleted)!=TRUE & \n",
    "                       (block %in% blocks.to.omit.multiple.thanks)!=TRUE\n",
    "                      )\n",
    "nrow(participants)"
   ]
  },
  {
   "cell_type": "markdown",
   "metadata": {},
   "source": [
    "### Create counts of accounts by language and newcomer\n",
    "These counts are used in the table of participants."
   ]
  },
  {
   "cell_type": "code",
   "execution_count": 109,
   "metadata": {},
   "outputs": [
    {
     "data": {
      "text/html": [
       "<table class=\"dataframe\">\n",
       "<caption>A data.frame: 5 × 3</caption>\n",
       "<thead>\n",
       "\t<tr><th scope=col>newcomer</th><th scope=col>lang</th><th scope=col>TREAT</th></tr>\n",
       "\t<tr><th scope=col>&lt;lgl&gt;</th><th scope=col>&lt;chr&gt;</th><th scope=col>&lt;int&gt;</th></tr>\n",
       "</thead>\n",
       "<tbody>\n",
       "\t<tr><td> TRUE</td><td>ar</td><td>3072</td></tr>\n",
       "\t<tr><td> TRUE</td><td>de</td><td>5434</td></tr>\n",
       "\t<tr><td>FALSE</td><td>fa</td><td>2416</td></tr>\n",
       "\t<tr><td>FALSE</td><td>pl</td><td>2996</td></tr>\n",
       "\t<tr><td> TRUE</td><td>pl</td><td>1640</td></tr>\n",
       "</tbody>\n",
       "</table>\n"
      ],
      "text/latex": [
       "A data.frame: 5 × 3\n",
       "\\begin{tabular}{lll}\n",
       " newcomer & lang & TREAT\\\\\n",
       " <lgl> & <chr> & <int>\\\\\n",
       "\\hline\n",
       "\t  TRUE & ar & 3072\\\\\n",
       "\t  TRUE & de & 5434\\\\\n",
       "\t FALSE & fa & 2416\\\\\n",
       "\t FALSE & pl & 2996\\\\\n",
       "\t  TRUE & pl & 1640\\\\\n",
       "\\end{tabular}\n"
      ],
      "text/markdown": [
       "\n",
       "A data.frame: 5 × 3\n",
       "\n",
       "| newcomer &lt;lgl&gt; | lang &lt;chr&gt; | TREAT &lt;int&gt; |\n",
       "|---|---|---|\n",
       "|  TRUE | ar | 3072 |\n",
       "|  TRUE | de | 5434 |\n",
       "| FALSE | fa | 2416 |\n",
       "| FALSE | pl | 2996 |\n",
       "|  TRUE | pl | 1640 |\n",
       "\n"
      ],
      "text/plain": [
       "  newcomer lang TREAT\n",
       "1  TRUE    ar   3072 \n",
       "2  TRUE    de   5434 \n",
       "3 FALSE    fa   2416 \n",
       "4 FALSE    pl   2996 \n",
       "5  TRUE    pl   1640 "
      ]
     },
     "metadata": {},
     "output_type": "display_data"
    }
   ],
   "source": [
    "aggregate(all.participants[c(\"TREAT\")], by=list(newcomer=all.participants$newcomer, lang=all.participants$lang), FUN=length)"
   ]
  },
  {
   "cell_type": "code",
   "execution_count": 111,
   "metadata": {},
   "outputs": [
    {
     "name": "stdout",
     "output_type": "stream",
     "text": [
      "[1] \"Polish newcomer % thanked 14 %\"\n",
      "[1] \"German newcomer % thanked 49 %\"\n",
      "[1] \"Arabic newcomer % thanked 13 %\"\n",
      "[1] \"Newcomer % thanked 32 %\"\n",
      "[1] \"Polish experienced % thanked 72 %\"\n",
      "[1] \"Persian experienced % thanked 7.3 %\"\n",
      "[1] \"Experienced % thanked 43 %\"\n"
     ]
    }
   ],
   "source": [
    "print(paste(\"Polish newcomer % thanked\", prettyNum((nrow(subset(all.participants, newcomer==\"TRUE\" & lang==\"pl\" & number.thanks.received>0 & TREAT==TRUE)) / nrow(subset(all.participants, newcomer==\"TRUE\" & lang==\"pl\" & TREAT==TRUE)))*100, digits=2),\"%\"))\n",
    "print(paste(\"German newcomer % thanked\", prettyNum((nrow(subset(all.participants, newcomer==\"TRUE\" & lang==\"de\" & number.thanks.received>0 & TREAT==TRUE)) / nrow(subset(all.participants, newcomer==\"TRUE\" & lang==\"de\" & TREAT==TRUE)))*100, digits=2),\"%\"))\n",
    "print(paste(\"Arabic newcomer % thanked\", prettyNum((nrow(subset(all.participants, newcomer==\"TRUE\" & lang==\"ar\" & number.thanks.received>0 & TREAT==TRUE)) / nrow(subset(all.participants, newcomer==\"TRUE\" & lang==\"ar\" & TREAT==TRUE)))*100, digits=2),\"%\"))\n",
    "\n",
    "print(paste(\"Newcomer % thanked\", prettyNum((nrow(subset(all.participants, newcomer==\"TRUE\" & number.thanks.received>0 & TREAT==TRUE)) / nrow(subset(all.participants, newcomer==\"TRUE\" & TREAT==TRUE)))*100, digits=2),\"%\"))\n",
    "\n",
    "\n",
    "print(paste(\"Polish experienced % thanked\", prettyNum((nrow(subset(all.participants, newcomer==\"FALSE\" & lang==\"pl\" & number.thanks.received>0 & TREAT==TRUE)) / nrow(subset(all.participants, newcomer==\"FALSE\" & lang==\"pl\" & TREAT==TRUE)))*100, digits=2),\"%\"))\n",
    "print(paste(\"Persian experienced % thanked\", prettyNum((nrow(subset(all.participants, newcomer==\"FALSE\" & lang==\"fa\" & number.thanks.received>0 & TREAT==TRUE)) / nrow(subset(all.participants, newcomer==\"FALSE\" & lang==\"fa\" & TREAT==TRUE)))*100, digits=2),\"%\"))\n",
    "print(paste(\"Experienced % thanked\", prettyNum((nrow(subset(all.participants, newcomer==\"FALSE\" & number.thanks.received>0 & TREAT==TRUE)) / nrow(subset(all.participants, newcomer==\"FALSE\" & TREAT==TRUE)))*100, digits=2),\"%\"))\n"
   ]
  },
  {
   "cell_type": "code",
   "execution_count": 112,
   "metadata": {},
   "outputs": [
    {
     "name": "stdout",
     "output_type": "stream",
     "text": [
      "[1] \"Polish newcomer two week retention rate 0.1963415\"\n",
      "[1] \"German newcomer two week retention rate 0.1818182\"\n",
      "[1] \"Arabic newcomer two week retention rate 0.109375\"\n",
      "[1] \"Polish experienced two week retention rate 0.441255\"\n",
      "[1] \"Persian experienced two week retention rate 0.3071192\"\n"
     ]
    }
   ],
   "source": [
    "print(paste(\"Polish newcomer two week retention rate\", prettyNum(nrow(subset(all.participants, newcomer==\"TRUE\" & lang==\"pl\" & TREAT==FALSE & two.week.retention))/\n",
    "                                                                 nrow(subset(all.participants, newcomer==\"TRUE\" & lang==\"pl\" & TREAT==FALSE))                                                                \n",
    "                                                                )))\n",
    "\n",
    "print(paste(\"German newcomer two week retention rate\", prettyNum(nrow(subset(all.participants, newcomer==\"TRUE\" & lang==\"de\" & TREAT==FALSE & two.week.retention))/\n",
    "                                                                 nrow(subset(all.participants, newcomer==\"TRUE\" & lang==\"de\" & TREAT==FALSE))                                                                \n",
    "                                                                )))\n",
    "\n",
    "print(paste(\"Arabic newcomer two week retention rate\", prettyNum(nrow(subset(all.participants, newcomer==\"TRUE\" & lang==\"ar\" & TREAT==FALSE & two.week.retention))/\n",
    "                                                                 nrow(subset(all.participants, newcomer==\"TRUE\" & lang==\"ar\" & TREAT==FALSE))                                                                \n",
    "                                                                )))\n",
    "\n",
    "print(paste(\"Polish experienced two week retention rate\", prettyNum(nrow(subset(all.participants, newcomer==\"FALSE\" & lang==\"pl\" & TREAT==FALSE & two.week.retention))/\n",
    "                                                                 nrow(subset(all.participants, newcomer==\"FALSE\" & lang==\"pl\" & TREAT==FALSE))                                                                \n",
    "                                                                )))\n",
    "\n",
    "print(paste(\"Persian experienced two week retention rate\", prettyNum(nrow(subset(all.participants, newcomer==\"FALSE\" & lang==\"fa\" & TREAT==FALSE & two.week.retention))/\n",
    "                                                                 nrow(subset(all.participants, newcomer==\"FALSE\" & lang==\"fa\" & TREAT==FALSE))                                                                \n",
    "                                                                )))"
   ]
  },
  {
   "cell_type": "code",
   "execution_count": 113,
   "metadata": {},
   "outputs": [
    {
     "data": {
      "text/html": [
       "0.0647786458333333"
      ],
      "text/latex": [
       "0.0647786458333333"
      ],
      "text/markdown": [
       "0.0647786458333333"
      ],
      "text/plain": [
       "[1] 0.06477865"
      ]
     },
     "metadata": {},
     "output_type": "display_data"
    }
   ],
   "source": [
    "nrow(subset(all.participants, newcomer==\"TRUE\" & lang==\"ar\" & number.thanks.received>0)) / nrow(subset(all.participants, newcomer==\"TRUE\" & lang==\"ar\"))"
   ]
  },
  {
   "cell_type": "markdown",
   "metadata": {},
   "source": [
    "# Baseline Descriptive Information\n",
    "Included for anyone who wants to review further details in the study, particularly balance in various variables, but commented out since they are not reported in the paper.\n",
    "\n",
    "## Study Participants"
   ]
  },
  {
   "cell_type": "code",
   "execution_count": 115,
   "metadata": {},
   "outputs": [],
   "source": [
    "# CrossTable(participants$lang, participants$TREAT, \n",
    "#            prop.c = FALSE, prop.r=FALSE, \n",
    "#            prop.t=FALSE, prop.chisq = FALSE)"
   ]
  },
  {
   "cell_type": "markdown",
   "metadata": {},
   "source": [
    "## Previous Experience by Language\n"
   ]
  },
  {
   "cell_type": "code",
   "execution_count": 24,
   "metadata": {},
   "outputs": [],
   "source": [
    "# CrossTable(participants$prev.experience.assignment.days, \n",
    "#            participants$lang, \n",
    "#            prop.c = FALSE, prop.r=FALSE, \n",
    "#            prop.t=FALSE, prop.chisq = FALSE)"
   ]
  },
  {
   "cell_type": "code",
   "execution_count": 25,
   "metadata": {},
   "outputs": [],
   "source": [
    "# CrossTable(participants$lang, \n",
    "#            participants$newcomer, \n",
    "#            prop.c = FALSE, prop.r=FALSE, \n",
    "#            prop.t=FALSE, prop.chisq = FALSE)"
   ]
  },
  {
   "cell_type": "markdown",
   "metadata": {},
   "source": [
    "## Treatment by Previous Experience"
   ]
  },
  {
   "cell_type": "code",
   "execution_count": 119,
   "metadata": {},
   "outputs": [],
   "source": [
    "# CrossTable(participants$prev.experience.assignment.days, participants$TREAT, \n",
    "#            prop.c = FALSE, prop.r=FALSE, \n",
    "#            prop.t=FALSE, prop.chisq = FALSE)"
   ]
  },
  {
   "cell_type": "markdown",
   "metadata": {},
   "source": [
    "## Received Thanks by Experience and Language"
   ]
  },
  {
   "cell_type": "code",
   "execution_count": 27,
   "metadata": {},
   "outputs": [],
   "source": [
    "# CrossTable(subset(participants, TREAT==1)$newcomer, \n",
    "#            subset(participants, TREAT==1)$complier.app.any.reason,\n",
    "#            prop.t=FALSE, prop.chisq=FALSE, prop.c=FALSE)"
   ]
  },
  {
   "cell_type": "code",
   "execution_count": 28,
   "metadata": {},
   "outputs": [],
   "source": [
    "# CrossTable(paste(subset(participants, TREAT==1)$lang, \n",
    "#                  subset(participants, TREAT==1)$newcomer), \n",
    "#            subset(participants, TREAT==1)$complier.app.any.reason,\n",
    "#            prop.t=FALSE, prop.chisq=FALSE, prop.c=FALSE)"
   ]
  },
  {
   "cell_type": "markdown",
   "metadata": {},
   "source": [
    "## Survey Compliance\n",
    "\n",
    "### Survey Compliance by Language"
   ]
  },
  {
   "cell_type": "code",
   "execution_count": 120,
   "metadata": {},
   "outputs": [
    {
     "data": {
      "text/html": [
       "0.0502160534241194"
      ],
      "text/latex": [
       "0.0502160534241194"
      ],
      "text/markdown": [
       "0.0502160534241194"
      ],
      "text/plain": [
       "[1] 0.05021605"
      ]
     },
     "metadata": {},
     "output_type": "display_data"
    }
   ],
   "source": [
    "sum(participants$complier)/nrow(participants)"
   ]
  },
  {
   "cell_type": "code",
   "execution_count": 122,
   "metadata": {},
   "outputs": [],
   "source": [
    "# CrossTable(participants$prev.experience.assignment.days, participants$complier, \n",
    "#            prop.c = FALSE, prop.r=TRUE, \n",
    "#            prop.t=FALSE, prop.chisq = FALSE)"
   ]
  },
  {
   "cell_type": "markdown",
   "metadata": {},
   "source": [
    "# Analysis"
   ]
  },
  {
   "cell_type": "markdown",
   "metadata": {},
   "source": [
    "## Create Study Sub-Samples"
   ]
  },
  {
   "cell_type": "code",
   "execution_count": 123,
   "metadata": {},
   "outputs": [],
   "source": [
    "newcomers.df <- subset(participants, newcomer==TRUE)\n",
    "experienced.df <- subset(participants, newcomer==FALSE)\n",
    "newcomer.compliers.df <- subset(newcomers.df,complier==TRUE)"
   ]
  },
  {
   "cell_type": "code",
   "execution_count": 124,
   "metadata": {},
   "outputs": [],
   "source": [
    "# CrossTable(newcomers.df$lang, newcomers.df$TREAT, \n",
    "#            prop.c = FALSE, prop.r=FALSE, \n",
    "#            prop.t=FALSE, prop.chisq = FALSE)"
   ]
  },
  {
   "cell_type": "code",
   "execution_count": 125,
   "metadata": {},
   "outputs": [],
   "source": [
    "# CrossTable(experienced.df$lang, experienced.df$TREAT, \n",
    "#            prop.c = FALSE, prop.r=FALSE, \n",
    "#            prop.t=FALSE, prop.chisq = FALSE)"
   ]
  },
  {
   "cell_type": "code",
   "execution_count": 128,
   "metadata": {},
   "outputs": [],
   "source": [
    "# CrossTable(newcomers.df$TREAT, newcomers.df$complier, \n",
    "#            prop.c = FALSE, prop.r=TRUE, \n",
    "#            prop.t=FALSE, prop.chisq = FALSE)"
   ]
  },
  {
   "cell_type": "markdown",
   "metadata": {},
   "source": [
    "# Per-Language Analysis Method"
   ]
  },
  {
   "cell_type": "code",
   "execution_count": 129,
   "metadata": {},
   "outputs": [],
   "source": [
    "df.estimates <- function(df, lang=\"all\", subgroup=\"all\"){\n",
    "\n",
    "    df.compliers <- subset(df, complier)\n",
    "\n",
    "    thanks.model.formula <- \"thanks.sent ~ TREAT\"\n",
    "    if(lang==\"all\"){\n",
    "        thanks.model.formula <- paste(thanks.model.formula, \" + lang\")\n",
    "    }\n",
    "    \n",
    "    if(subgroup==\"all\"){\n",
    "        thanks.model.formula <- paste(thanks.model.formula, \" + newcomer\")\n",
    "    }\n",
    "    \n",
    "        \n",
    "    thanks.model         <- glm.nb(thanks.model.formula, data=df)\n",
    "    m.thanks.sent        <- coef(summary(thanks.model))\n",
    "    m.thanks.sent        <- data.frame(cbind(m.thanks.sent, confint(thanks.model)))\n",
    "    names(m.thanks.sent)[4] <- \"pvalue\"\n",
    "    names(m.thanks.sent)[5] <- \"CI.Lower\"\n",
    "    names(m.thanks.sent)[6] <- \"CI.Upper\"\n",
    "    m.thanks.sent$DF       <- thanks.model$df.residual\n",
    "    m.thanks.sent$model    <- \"thanks sent\"\n",
    "    m.thanks.sent$t.value  <- NA\n",
    "    m.thanks.sent$n.size   <- nrow(df)\n",
    "    m.thanks.sent$n.thanked.count <- nrow(subset(df, complier.app.any.reason))\n",
    "    \n",
    "    m.retention            <- data.frame(coef(summary(difference_in_means(two.week.retention ~ TREAT, blocks=block, ci=TRUE, data=df))))\n",
    "    m.retention$model      <- \"retention\"\n",
    "    m.retention$z.value    <- NA\n",
    "    m.retention$n.size     <- nrow(df)\n",
    "    m.retention$n.thanked.count <- nrow(subset(df, complier.app.any.reason))\n",
    "    \n",
    "    m.labor.hours          <- data.frame(coef(summary(difference_in_means(labor.hours.per.day.diff ~ TREAT, blocks=block, ci=TRUE, data=df))))\n",
    "    m.labor.hours$model    <- \"labor hours\"\n",
    "    m.labor.hours$z.value  <- NA\n",
    "    m.labor.hours$n.size   <- nrow(df)\n",
    "    m.labor.hours$n.thanked.count <- nrow(subset(df, complier.app.any.reason))\n",
    "\n",
    "    m.manip.check          <- data.frame(coef(summary(difference_in_means(remembered.thanks<=3 ~ TREAT, ci=TRUE, data=df.compliers))))\n",
    "    m.manip.check$model    <- \"manipulation check\"\n",
    "    m.manip.check$z.value  <- NA\n",
    "    m.manip.check$n.size   <- nrow(df.compliers)\n",
    "    m.manip.check$n.thanked.count <-  nrow(subset(df.compliers, complier.app.any.reason))\n",
    "\n",
    "    names(m.retention)[4]           <- \"pvalue\"\n",
    "    names(m.manip.check)[4]         <- \"pvalue\"\n",
    "    names(m.labor.hours)[4]         <- \"pvalue\"\n",
    "\n",
    "\n",
    "    m.thanks.sent$estimator        <- \"glm.nb\"\n",
    "    m.retention$estimator          <- \"difference_in_means\"\n",
    "    m.labor.hours$estimator        <- \"difference_in_means\"\n",
    "    m.manip.check$estimator        <- \"difference_in_means\"\n",
    "\n",
    "    result.df <- rbind(m.thanks.sent, m.retention, \n",
    "                       m.labor.hours, m.manip.check)\n",
    "    \n",
    "    result.df <- result.df[str_detect(row.names(result.df), \"TREAT\"),]\n",
    "    \n",
    "    #result.df[row.names(result.df)!=\"(Intercept)\",]\n",
    "    \n",
    "    result.df$lang     <- lang\n",
    "    result.df$subgroup <- subgroup\n",
    "    \n",
    "    result.df\n",
    "}"
   ]
  },
  {
   "cell_type": "markdown",
   "metadata": {},
   "source": [
    "### Aggregate and Adjust Results for All Participants"
   ]
  },
  {
   "cell_type": "code",
   "execution_count": 130,
   "metadata": {},
   "outputs": [
    {
     "name": "stderr",
     "output_type": "stream",
     "text": [
      "Waiting for profiling to be done...\n",
      "\n",
      "Waiting for profiling to be done...\n",
      "\n"
     ]
    }
   ],
   "source": [
    "all.results <- df.estimates(participants)\n",
    "all.results <- subset(all.results, model!=\"labor hours\")\n",
    "\n",
    "all.newcomer.results <- df.estimates(subset(participants, newcomer), subgroup=\"newcomer\")\n",
    "all.results <- rbind(all.results, subset(all.newcomer.results, model==\"labor hours\"))\n",
    "\n",
    "## Adjust for multiple comparisons\n",
    "# adjustment needs to be done at the level of each\n",
    "# dataframe, since the tests are different for \n",
    "# different subgroups and languages.\n",
    "# When doing adjustment for multiple comparisons\n",
    "# we omit the manipulation check, since it's not\n",
    "# one of the confirmatory tests\n",
    "\n",
    "## Note: store the original p values in a list so they can be\n",
    "## used for later adjustments\n",
    "all.results.pvalues <- all.results[all.results$model!=\"manipulation check\",]$pvalue\n",
    "\n",
    "\n",
    "all.results[all.results$model!=\"manipulation check\",]$pvalue <- p.adjust(all.results[all.results$model!=\"manipulation check\",]$pvalue, method=\"holm\")"
   ]
  },
  {
   "cell_type": "code",
   "execution_count": 131,
   "metadata": {},
   "outputs": [
    {
     "data": {
      "text/html": [
       "<table class=\"dataframe\">\n",
       "<caption>A data.frame: 4 × 8</caption>\n",
       "<thead>\n",
       "\t<tr><th></th><th scope=col>model</th><th scope=col>Estimate</th><th scope=col>pvalue</th><th scope=col>CI.Lower</th><th scope=col>CI.Upper</th><th scope=col>n.size</th><th scope=col>estimator</th><th scope=col>subgroup</th></tr>\n",
       "\t<tr><th></th><th scope=col>&lt;chr&gt;</th><th scope=col>&lt;dbl&gt;</th><th scope=col>&lt;dbl&gt;</th><th scope=col>&lt;dbl&gt;</th><th scope=col>&lt;dbl&gt;</th><th scope=col>&lt;int&gt;</th><th scope=col>&lt;chr&gt;</th><th scope=col>&lt;chr&gt;</th></tr>\n",
       "</thead>\n",
       "<tbody>\n",
       "\t<tr><th scope=row>TREAT</th><td>thanks sent       </td><td>0.474498984</td><td>2.054607e-03</td><td> 0.1895588964</td><td>0.76009838</td><td>15274</td><td>glm.nb             </td><td>all     </td></tr>\n",
       "\t<tr><th scope=row>TREAT1</th><td>retention         </td><td>0.021998167</td><td>9.329827e-04</td><td> 0.0100450078</td><td>0.03395133</td><td>15274</td><td>difference_in_means</td><td>all     </td></tr>\n",
       "\t<tr><th scope=row>TREAT3</th><td>manipulation check</td><td>0.292051066</td><td>2.074219e-16</td><td> 0.2238649972</td><td>0.36023713</td><td>  767</td><td>difference_in_means</td><td>all     </td></tr>\n",
       "\t<tr><th scope=row>TREAT2</th><td>labor hours       </td><td>0.002876707</td><td>1.150049e-01</td><td>-0.0007008952</td><td>0.00645431</td><td> 9984</td><td>difference_in_means</td><td>newcomer</td></tr>\n",
       "</tbody>\n",
       "</table>\n"
      ],
      "text/latex": [
       "A data.frame: 4 × 8\n",
       "\\begin{tabular}{r|llllllll}\n",
       "  & model & Estimate & pvalue & CI.Lower & CI.Upper & n.size & estimator & subgroup\\\\\n",
       "  & <chr> & <dbl> & <dbl> & <dbl> & <dbl> & <int> & <chr> & <chr>\\\\\n",
       "\\hline\n",
       "\tTREAT & thanks sent        & 0.474498984 & 2.054607e-03 &  0.1895588964 & 0.76009838 & 15274 & glm.nb              & all     \\\\\n",
       "\tTREAT1 & retention          & 0.021998167 & 9.329827e-04 &  0.0100450078 & 0.03395133 & 15274 & difference\\_in\\_means & all     \\\\\n",
       "\tTREAT3 & manipulation check & 0.292051066 & 2.074219e-16 &  0.2238649972 & 0.36023713 &   767 & difference\\_in\\_means & all     \\\\\n",
       "\tTREAT2 & labor hours        & 0.002876707 & 1.150049e-01 & -0.0007008952 & 0.00645431 &  9984 & difference\\_in\\_means & newcomer\\\\\n",
       "\\end{tabular}\n"
      ],
      "text/markdown": [
       "\n",
       "A data.frame: 4 × 8\n",
       "\n",
       "| <!--/--> | model &lt;chr&gt; | Estimate &lt;dbl&gt; | pvalue &lt;dbl&gt; | CI.Lower &lt;dbl&gt; | CI.Upper &lt;dbl&gt; | n.size &lt;int&gt; | estimator &lt;chr&gt; | subgroup &lt;chr&gt; |\n",
       "|---|---|---|---|---|---|---|---|---|\n",
       "| TREAT | thanks sent        | 0.474498984 | 2.054607e-03 |  0.1895588964 | 0.76009838 | 15274 | glm.nb              | all      |\n",
       "| TREAT1 | retention          | 0.021998167 | 9.329827e-04 |  0.0100450078 | 0.03395133 | 15274 | difference_in_means | all      |\n",
       "| TREAT3 | manipulation check | 0.292051066 | 2.074219e-16 |  0.2238649972 | 0.36023713 |   767 | difference_in_means | all      |\n",
       "| TREAT2 | labor hours        | 0.002876707 | 1.150049e-01 | -0.0007008952 | 0.00645431 |  9984 | difference_in_means | newcomer |\n",
       "\n"
      ],
      "text/plain": [
       "       model              Estimate    pvalue       CI.Lower      CI.Upper  \n",
       "TREAT  thanks sent        0.474498984 2.054607e-03  0.1895588964 0.76009838\n",
       "TREAT1 retention          0.021998167 9.329827e-04  0.0100450078 0.03395133\n",
       "TREAT3 manipulation check 0.292051066 2.074219e-16  0.2238649972 0.36023713\n",
       "TREAT2 labor hours        0.002876707 1.150049e-01 -0.0007008952 0.00645431\n",
       "       n.size estimator           subgroup\n",
       "TREAT  15274  glm.nb              all     \n",
       "TREAT1 15274  difference_in_means all     \n",
       "TREAT3   767  difference_in_means all     \n",
       "TREAT2  9984  difference_in_means newcomer"
      ]
     },
     "metadata": {},
     "output_type": "display_data"
    }
   ],
   "source": [
    "all.results[c(\"model\",\"Estimate\", \"pvalue\", \"CI.Lower\", \"CI.Upper\", \"n.size\", \"estimator\", \"subgroup\")]"
   ]
  },
  {
   "cell_type": "markdown",
   "metadata": {},
   "source": [
    "# Generate Sub-Group Analyses"
   ]
  },
  {
   "cell_type": "code",
   "execution_count": 132,
   "metadata": {},
   "outputs": [
    {
     "name": "stderr",
     "output_type": "stream",
     "text": [
      "Waiting for profiling to be done...\n",
      "\n",
      "Waiting for profiling to be done...\n",
      "\n",
      "Waiting for profiling to be done...\n",
      "\n"
     ]
    }
   ],
   "source": [
    "ar.newcomer.results <- df.estimates(subset(participants, lang==\"ar\" & newcomer), lang=\"ar\", subgroup=\"newcomer\")\n",
    "de.newcomer.results <- df.estimates(subset(participants, lang==\"de\" & newcomer), lang=\"de\", subgroup=\"newcomer\")\n",
    "pl.newcomer.results <- df.estimates(subset(participants, lang==\"pl\" & newcomer), lang=\"pl\", subgroup=\"newcomer\")"
   ]
  },
  {
   "cell_type": "code",
   "execution_count": 133,
   "metadata": {},
   "outputs": [
    {
     "name": "stderr",
     "output_type": "stream",
     "text": [
      "Waiting for profiling to be done...\n",
      "\n",
      "Waiting for profiling to be done...\n",
      "\n"
     ]
    }
   ],
   "source": [
    "fa.experienced.results <- df.estimates(subset(participants, lang==\"fa\" & newcomer!=TRUE), lang=\"fa\", subgroup=\"experienced\")\n",
    "fa.experienced.results <- subset(fa.experienced.results,model!=\"labor hours\")\n",
    "\n",
    "pl.experienced.results <- df.estimates(subset(participants, lang==\"pl\" & newcomer!=TRUE), lang=\"pl\", subgroup=\"experienced\")\n",
    "pl.experienced.results <- subset(pl.experienced.results,model!=\"labor hours\")"
   ]
  },
  {
   "cell_type": "code",
   "execution_count": 134,
   "metadata": {},
   "outputs": [],
   "source": [
    "ar.newcomer.results[ar.newcomer.results$model!=\"manipulation check\",]$pvalue <- \n",
    "        p.adjust(ar.newcomer.results[ar.newcomer.results$model!=\"manipulation check\",]$pvalue, method=\"holm\")\n",
    "\n",
    "de.newcomer.results[de.newcomer.results$model!=\"manipulation check\",]$pvalue <- \n",
    "        p.adjust(de.newcomer.results[de.newcomer.results$model!=\"manipulation check\",]$pvalue, method=\"holm\")\n",
    "\n",
    "pl.newcomer.results[pl.newcomer.results$model!=\"manipulation check\",]$pvalue <- \n",
    "        p.adjust(pl.newcomer.results[pl.newcomer.results$model!=\"manipulation check\",]$pvalue, method=\"holm\")\n",
    "\n",
    "fa.experienced.results[fa.experienced.results$model!=\"manipulation check\",]$pvalue <- \n",
    "        p.adjust(fa.experienced.results[fa.experienced.results$model!=\"manipulation check\",]$pvalue, method=\"holm\")\n",
    "\n",
    "pl.experienced.results[pl.experienced.results$model!=\"manipulation check\",]$pvalue <- \n",
    "        p.adjust(pl.experienced.results[pl.experienced.results$model!=\"manipulation check\",]$pvalue, method=\"holm\")"
   ]
  },
  {
   "cell_type": "code",
   "execution_count": 136,
   "metadata": {},
   "outputs": [],
   "source": [
    "all.lang.results <- rbind(ar.newcomer.results, de.newcomer.results,\n",
    "                          pl.newcomer.results, fa.experienced.results,\n",
    "                          pl.experienced.results, all.results)\n",
    "\n",
    "#all.lang.results"
   ]
  },
  {
   "cell_type": "markdown",
   "metadata": {},
   "source": [
    "### Adjust Sub-Group Analyses for Multiple Comparisons"
   ]
  },
  {
   "cell_type": "code",
   "execution_count": 137,
   "metadata": {},
   "outputs": [],
   "source": [
    "all.results[all.results$model!=\"manipulation check\",]$pvalue <- p.adjust(all.results[all.results$model!=\"manipulation check\",]$pvalue, method=\"holm\")"
   ]
  },
  {
   "cell_type": "markdown",
   "metadata": {},
   "source": [
    "# Plot Results"
   ]
  },
  {
   "cell_type": "markdown",
   "metadata": {},
   "source": [
    "### Plot Effect on Labor Hours"
   ]
  },
  {
   "cell_type": "code",
   "execution_count": 138,
   "metadata": {},
   "outputs": [
    {
     "data": {
      "text/html": [
       "<table class=\"dataframe\">\n",
       "<caption>A data.frame: 1 × 14</caption>\n",
       "<thead>\n",
       "\t<tr><th></th><th scope=col>Estimate</th><th scope=col>Std..Error</th><th scope=col>z.value</th><th scope=col>pvalue</th><th scope=col>CI.Lower</th><th scope=col>CI.Upper</th><th scope=col>DF</th><th scope=col>model</th><th scope=col>t.value</th><th scope=col>n.size</th><th scope=col>n.thanked.count</th><th scope=col>estimator</th><th scope=col>lang</th><th scope=col>subgroup</th></tr>\n",
       "\t<tr><th></th><th scope=col>&lt;dbl&gt;</th><th scope=col>&lt;dbl&gt;</th><th scope=col>&lt;dbl&gt;</th><th scope=col>&lt;dbl&gt;</th><th scope=col>&lt;dbl&gt;</th><th scope=col>&lt;dbl&gt;</th><th scope=col>&lt;dbl&gt;</th><th scope=col>&lt;chr&gt;</th><th scope=col>&lt;dbl&gt;</th><th scope=col>&lt;int&gt;</th><th scope=col>&lt;int&gt;</th><th scope=col>&lt;chr&gt;</th><th scope=col>&lt;chr&gt;</th><th scope=col>&lt;chr&gt;</th></tr>\n",
       "</thead>\n",
       "<tbody>\n",
       "\t<tr><th scope=row>TREAT23</th><td>0.002876707</td><td>0.001824898</td><td>NA</td><td>0.1150049</td><td>-0.0007008952</td><td>0.00645431</td><td>4991</td><td>labor hours</td><td>1.576366</td><td>9984</td><td>1572</td><td>difference_in_means</td><td>all</td><td>newcomer</td></tr>\n",
       "</tbody>\n",
       "</table>\n"
      ],
      "text/latex": [
       "A data.frame: 1 × 14\n",
       "\\begin{tabular}{r|llllllllllllll}\n",
       "  & Estimate & Std..Error & z.value & pvalue & CI.Lower & CI.Upper & DF & model & t.value & n.size & n.thanked.count & estimator & lang & subgroup\\\\\n",
       "  & <dbl> & <dbl> & <dbl> & <dbl> & <dbl> & <dbl> & <dbl> & <chr> & <dbl> & <int> & <int> & <chr> & <chr> & <chr>\\\\\n",
       "\\hline\n",
       "\tTREAT23 & 0.002876707 & 0.001824898 & NA & 0.1150049 & -0.0007008952 & 0.00645431 & 4991 & labor hours & 1.576366 & 9984 & 1572 & difference\\_in\\_means & all & newcomer\\\\\n",
       "\\end{tabular}\n"
      ],
      "text/markdown": [
       "\n",
       "A data.frame: 1 × 14\n",
       "\n",
       "| <!--/--> | Estimate &lt;dbl&gt; | Std..Error &lt;dbl&gt; | z.value &lt;dbl&gt; | pvalue &lt;dbl&gt; | CI.Lower &lt;dbl&gt; | CI.Upper &lt;dbl&gt; | DF &lt;dbl&gt; | model &lt;chr&gt; | t.value &lt;dbl&gt; | n.size &lt;int&gt; | n.thanked.count &lt;int&gt; | estimator &lt;chr&gt; | lang &lt;chr&gt; | subgroup &lt;chr&gt; |\n",
       "|---|---|---|---|---|---|---|---|---|---|---|---|---|---|---|\n",
       "| TREAT23 | 0.002876707 | 0.001824898 | NA | 0.1150049 | -0.0007008952 | 0.00645431 | 4991 | labor hours | 1.576366 | 9984 | 1572 | difference_in_means | all | newcomer |\n",
       "\n"
      ],
      "text/plain": [
       "        Estimate    Std..Error  z.value pvalue    CI.Lower      CI.Upper   DF  \n",
       "TREAT23 0.002876707 0.001824898 NA      0.1150049 -0.0007008952 0.00645431 4991\n",
       "        model       t.value  n.size n.thanked.count estimator           lang\n",
       "TREAT23 labor hours 1.576366 9984   1572            difference_in_means all \n",
       "        subgroup\n",
       "TREAT23 newcomer"
      ]
     },
     "metadata": {},
     "output_type": "display_data"
    }
   ],
   "source": [
    "subset(all.lang.results, lang==\"all\" & model == \"labor hours\")"
   ]
  },
  {
   "cell_type": "code",
   "execution_count": 139,
   "metadata": {},
   "outputs": [
    {
     "data": {
      "image/png": "[encoded data removed]",
      "text/plain": [
       "plot without title"
      ]
     },
     "metadata": {
      "image/png": {
       "height": 250,
       "width": 400
      }
     },
     "output_type": "display_data"
    }
   ],
   "source": [
    "options(repr.plot.width = 8, repr.plot.height = 5, repr.plot.res = 100)\n",
    "\n",
    "df1 <- subset(all.lang.results, model==\"labor hours\" & lang == \"all\" & subgroup==\"newcomer\")\n",
    "\n",
    "df2 <- subset(all.lang.results, model==\"labor hours\" & subgroup==\"newcomer\" & lang!=\"all\")\n",
    "\n",
    "\n",
    "labor.hours.participants.count <- prettyNum(df1$n.size, big.mark=\",\")\n",
    "labor.hours.participants.count.new.ar <- prettyNum(subset(df2, lang==\"ar\")$n.size, big.mark=',')\n",
    "labor.hours.participants.count.new.de <- prettyNum(subset(df2, lang==\"de\")$n.size, big.mark=',')\n",
    "labor.hours.participants.count.new.pl <-prettyNum(subset(df2, lang==\"pl\")$n.size, big.mark=',')\n",
    "labor.hours.participants.assigned.perc <-round(df1$n.thanked.count/(df1$n.size/2)*100)\n",
    "labor.hours.participants.assigned.total <-prettyNum(df1$n.size/2, big.mark=\",\")\n",
    "labor.hours.participants.assigned.dimest <- prettyNum(df1$pvalue, digits=2)\n",
    "labor.hours.ylab <- \"Difference in\\nDaily Labor Hours\"\n",
    "\n",
    "\n",
    "labor.hours.plot.caption <- str_interp(\"This study did not detect an effect of organized thanks on changes in the amount of time that \n",
    "newcomers contribute to Wikipedia on average.\")\n",
    "\n",
    "\n",
    "all.plot <- ggplot(df1, aes(lang, Estimate)) +\n",
    "        geom_hline(yintercept = 0, linetype=\"dashed\", color=\"#999999\") +\n",
    "        geom_errorbar(aes(ymax=CI.Upper, ymin=CI.Lower), \n",
    "                      size=1, color=chartpalette[1], width=0.1) +\n",
    "        geom_point(color=chartpalette[1], size=2.5) +\n",
    "        ylab(labor.hours.ylab) +\n",
    "        cat.theme + \n",
    "        theme(axis.title.x=element_blank(),\n",
    "              axis.text.x = element_text(size=12, face=\"bold\", color=chartpalette[1])) +\n",
    "        ylim(-0.01, 0.015)\n",
    "\n",
    "\n",
    "\n",
    "lang.plot <- ggplot(df2, aes(lang, Estimate)) +\n",
    "        geom_hline(yintercept = 0, linetype=\"dashed\", color=\"#999999\") +\n",
    "        geom_errorbar(aes(ymax=CI.Upper, ymin=CI.Lower), \n",
    "                      size=1, color=chartpalette[3], width=0.1) +\n",
    "        geom_point(color=chartpalette[3], size=2.5) +\n",
    "        cat.theme +\n",
    "        theme(axis.text.y = element_blank(),\n",
    "              axis.title  = element_blank(),\n",
    "              axis.title.x = element_blank(),\n",
    "              axis.title.y = element_blank(),\n",
    "              axis.text.x = element_text(size=12, face=\"bold\", color=chartpalette[3])) +\n",
    "        ylim(-0.01, 0.015)\n",
    "\n",
    "labor.hours.plot <- ggarrange(all.plot, lang.plot, ncol=2, nrow=1, widths=c(1.5,3.2))\n",
    "\n",
    "ggsave(file.path('../figs', 'labor.hours.plot.pdf'),\n",
    "       width=6, height=2 , units='in', device=\"pdf\",\n",
    "       plot=labor.hours.plot)\n",
    "\n",
    "\n",
    "## stored for compatibility with previous versions of ggplot\n",
    "# labor.hours.plot <- annotate_figure(labor.hours.plot,\n",
    "#                         bottom=text_grob(labor.hours.plot.caption, \n",
    "#                                          hjust=0, x=0, size=10, \n",
    "#                                          color=chartpalette[4])) +\n",
    "#                     ggsave(file.path('../figs', 'labor.hours.plot.png'),\n",
    "#                           width=6, height=3.375 , units='in')\n",
    "labor.hours.plot"
   ]
  },
  {
   "cell_type": "markdown",
   "metadata": {},
   "source": [
    "### Plot Effect on Two-Week Retention"
   ]
  },
  {
   "cell_type": "code",
   "execution_count": 140,
   "metadata": {},
   "outputs": [
    {
     "data": {
      "image/png": "[encoded data removed]",
      "text/plain": [
       "plot without title"
      ]
     },
     "metadata": {
      "image/png": {
       "height": 250,
       "width": 400
      }
     },
     "output_type": "display_data"
    }
   ],
   "source": [
    "options(repr.plot.width = 8, repr.plot.height = 5, repr.plot.res = 100)\n",
    "\n",
    "ymax = 0.09\n",
    "ymin = -0.03\n",
    "\n",
    "df1 <- subset(all.lang.results, model==\"retention\" & lang == \"all\")\n",
    "df2 <- subset(all.lang.results, model==\"retention\" & lang!=\"all\" & subgroup == \"newcomer\")\n",
    "df3 <- subset(all.newcomer.results, model==\"retention\")\n",
    "df4 <- subset(all.lang.results, model==\"retention\" & lang != \"all\" & subgroup == \"experienced\")\n",
    "\n",
    "\n",
    "retention.plot.est <- prettyNum(df1$Estimate*100, digits=1, format=\"fg\")\n",
    "retention.plot.count.part <-prettyNum(df1$n.size, big.mark=\",\")\n",
    "retention.plot.count.part.new.ar <- prettyNum(subset(df2, lang==\"ar\")$n.size, big.mark=',')\n",
    "retention.plot.count.part.new.de <- prettyNum(subset(df2, lang==\"de\")$n.size, big.mark=',')\n",
    "retention.plot.count.part.new.pl <- prettyNum(subset(df2, lang==\"pl\")$n.size, big.mark=',')\n",
    "retention.plot.count.part.exp.fa <- prettyNum(subset(df4, lang==\"fa\")$n.size, big.mark=',')\n",
    "retention.plot.count.part.exp.pl <-prettyNum(subset(df4, lang==\"pl\")$n.size, big.mark=',')\n",
    "retention.plot.participants.assigned.perc <-round(df1$n.thanked.count/(df1$n.size/2)*100)\n",
    "retention.plot.participants.assigned.total <-prettyNum(df1$n.size/2, big.mark=\",\")\n",
    "retention.plot.participants.assigned.dimest <- prettyNum(df1$pvalue, digits=2)\n",
    "\n",
    "retention.plot.ylab <- \"Effect on Two\\nWeek Retention\"\n",
    "retention.plot.caption <- str_interp(\n",
    "    \"Organized thanking increases two-week retention of Wikipedia contributors by ${retention.plot.est} percentage \n",
    "points on average among experienced and newcomer accounts\")\n",
    " \n",
    "all.plot <- ggplot(df1, aes(lang, Estimate)) +\n",
    "        geom_hline(yintercept = 0, linetype=\"dashed\", color=\"#999999\") +\n",
    "            geom_errorbar(aes(ymax=CI.Upper, ymin=CI.Lower), \n",
    "                          size=1, color=chartpalette[1], width=0.1) +\n",
    "            geom_point(color=chartpalette[1], size=2.5) +\n",
    "            ylab(retention.plot.ylab) +\n",
    "            scale_y_continuous(limits=c(ymin, ymax), breaks=seq(ymin, ymax, by=0.01)) +\n",
    "            cat.theme + \n",
    "            theme(axis.title.x=element_blank(),\n",
    "                  axis.text.x = element_text(size=12, face=\"bold\", color=chartpalette[1]))\n",
    "\n",
    "\n",
    "\n",
    "lang.plot <- ggplot(df2, aes(lang, Estimate)) +\n",
    "        geom_hline(yintercept = 0, linetype=\"dashed\", color=\"#999999\") +\n",
    "        geom_errorbar(aes(ymax=CI.Upper, ymin=CI.Lower), \n",
    "                      size=1, color=chartpalette[4], width=0.1) +\n",
    "        geom_point(color=chartpalette[4], size=2.5) +\n",
    "        annotate(geom=\"text\", x=3.5,y=0.085, label=lab.newc, \n",
    "                 color=chartpalette[4], fontface=2, size=4, hjust=1) +\n",
    "        scale_y_continuous(limits=c(ymin, ymax), breaks=seq(ymin, ymax, by=0.01)) + \n",
    "        cat.theme +\n",
    "        theme(axis.text.y = element_blank(),\n",
    "              axis.title  = element_blank(), \n",
    "              axis.title.x = element_blank(),\n",
    "              axis.text.x = element_text(size=12, face=\"bold\", color=chartpalette[4]))\n",
    "\n",
    "\n",
    "\n",
    "# all.newcomer.plot <- ggplot(df3, aes(lang, Estimate)) +\n",
    "#         geom_hline(yintercept = 0, linetype=\"dashed\", color=\"#999999\") +\n",
    "#         geom_errorbar(aes(ymax=df3$CI.Upper, ymin=df3$CI.Lower), \n",
    "#                       size=1, color=chartpalette[4], width=0.1) +\n",
    "#         geom_point(color=chartpalette[4]) +\n",
    "#         scale_y_continuous(limits=c(ymin, ymax), breaks=seq(ymin, ymax, by=0.01)) + \n",
    "#         scale_x_discrete(labels =c(lab.anewc))  +\n",
    "#         cat.theme + \n",
    "#         theme(axis.text.y = element_blank(),\n",
    "#               axis.title=element_blank(),\n",
    "#               axis.text.x = element_text(size=12, face=\"bold\", color=chartpalette[4]))\n",
    "\n",
    "\n",
    "experienced.plot <- ggplot(df4, aes(lang, Estimate)) +\n",
    "        geom_hline(yintercept = 0, linetype=\"dashed\", color=\"#999999\") +\n",
    "        geom_errorbar(aes(ymax=CI.Upper, ymin=CI.Lower), \n",
    "                      size=1, color=chartpalette[3], width=0.1) +\n",
    "        geom_point(color=chartpalette[3], size=2.5) +\n",
    "        annotate(geom=\"text\", x=2.5,y=0.085, label=lab.exp, \n",
    "                 color=chartpalette[3], fontface=2, size=4, hjust=1) +\n",
    "        scale_y_continuous( limits=c(ymin, ymax), breaks=seq(ymin, ymax, by=0.01)) + \n",
    "        cat.theme + \n",
    "        theme(axis.text.y = element_blank(),\n",
    "              axis.title.x = element_blank(),\n",
    "              axis.title=element_blank(),\n",
    "              axis.text.x = element_text(size=12, face=\"bold\", color=chartpalette[3]))\n",
    "\n",
    "retention.plot <- ggarrange(all.plot, experienced.plot, lang.plot, ncol=3, nrow=1, widths=c(2,3, 4))\n",
    "\n",
    "ggsave(file.path('../figs', 'retention.plot.pdf'),\n",
    "       width=6, height=2 , device=\"pdf\", units='in',\n",
    "       plot=retention.plot)\n",
    "\n",
    "## stored for compatibility with previous versions of ggplot\n",
    "# retention.plot <- annotate_figure(retention.plot,\n",
    "#                         bottom=text_grob(retention.plot.caption, \n",
    "#                                          hjust=0, x=0, size=10, \n",
    "#                                          color=chartpalette[4]))+\n",
    "#                     ggsave(file.path('../figs', 'retention.plot.png'),\n",
    "#                           width=6, height=3.375 , units='in')\n",
    "retention.plot"
   ]
  },
  {
   "cell_type": "markdown",
   "metadata": {},
   "source": [
    "### Plot effect on rate of thanks"
   ]
  },
  {
   "cell_type": "code",
   "execution_count": 141,
   "metadata": {},
   "outputs": [
    {
     "data": {
      "image/png": "[encoded data removed]",
      "text/plain": [
       "plot without title"
      ]
     },
     "metadata": {
      "image/png": {
       "height": 250,
       "width": 400
      }
     },
     "output_type": "display_data"
    }
   ],
   "source": [
    "options(repr.plot.width = 8, repr.plot.height = 5, repr.plot.res = 100)\n",
    "\n",
    "ymax = 6\n",
    "ymin = 0\n",
    "scale.by = 0.5\n",
    "\n",
    "df1 <- subset(all.lang.results, model==\"thanks sent\" & lang == \"all\")\n",
    "df2 <- subset(all.lang.results, model==\"thanks sent\" & lang!=\"all\" & subgroup == \"newcomer\")\n",
    "df3 <- subset(all.lang.results, model==\"thanks sent\" & lang != \"all\" & subgroup == \"experienced\")\n",
    "\n",
    "thanks.sent.est <- prettyNum(exp(df1$Estimate), digits=2)\n",
    "thanks.sent.ci.lower <- prettyNum(exp(df1$CI.Lower), digits=2, format=\"fg\")\n",
    "thanks.sent.ci.upper <- prettyNum(exp(df1$CI.Upper), digits=2, format=\"fg\")\n",
    "thanks.sent.part <- prettyNum(df1$n.size, big.mark=\",\")\n",
    "thanks.sent.new.ar <- prettyNum(subset(df2, lang==\"ar\")$n.size, big.mark=',')\n",
    "thanks.sent.new.de <- prettyNum(subset(df2, lang==\"de\")$n.size, big.mark=',')\n",
    "thanks.sent.new.pl <- prettyNum(subset(df2, lang==\"pl\")$n.size, big.mark=',')\n",
    "thanks.sent.exp.fa <- prettyNum(subset(df3, lang==\"fa\")$n.size, big.mark=',')\n",
    "thanks.sent.exp.pl <- prettyNum(subset(df3, lang==\"pl\")$n.size, big.mark=',')\n",
    "thanks.sent.assigned.perc <-round(df1$n.thanked.count/(df1$n.size/2)*100)\n",
    "thanks.sent.assigned.total <-prettyNum(df1$n.size/2, big.mark=\",\")\n",
    "thanks.sent.assigned.dimest <- prettyNum(df1$pvalue, digits=2)\n",
    "\n",
    "\n",
    "\n",
    "thanks.sent.ylab <- \"Incidence rate ratio\\nof thanks sent\"\n",
    "thanks.sent.plot.caption <- str_interp(\"Organizing to thank Wikipedia volunteers caused them to thank others and increased the thanks they sent \n",
    "by ${thanks.sent.est} times on average\")\n",
    "\n",
    "\n",
    "all.plot <- ggplot(df1, aes(lang, exp(Estimate))) +\n",
    "        geom_hline(yintercept = 1, linetype=\"dashed\", color=\"#999999\") +\n",
    "            geom_errorbar(aes(ymax=exp(CI.Upper), ymin=exp(CI.Lower)), \n",
    "                          size=1, color=chartpalette[1], width=0.25) +\n",
    "            geom_point(color=chartpalette[1], size=2.5) +\n",
    "            ylab(thanks.sent.ylab) +\n",
    "            scale_y_continuous(limits=c(ymin, ymax), breaks=seq(ymin, ymax, by=scale.by)) +\n",
    "            cat.theme + \n",
    "            theme(axis.title.x=element_blank(),\n",
    "                  axis.text.x = element_text(size=12, face=\"bold\", color=chartpalette[1]))\n",
    "\n",
    "\n",
    "\n",
    "newcomer.plot <- ggplot(df2, aes(lang, exp(Estimate))) +\n",
    "        geom_hline(yintercept = 1, linetype=\"dashed\", color=\"#999999\") +\n",
    "        geom_errorbar(aes(ymax=exp(CI.Upper), ymin=exp(CI.Lower)), \n",
    "                      size=1, color=chartpalette[4], width=0.1) +\n",
    "        geom_point(color=chartpalette[4], size=2.5) +\n",
    "        annotate(geom=\"text\", x=0.45,y=6, label=lab.newc, \n",
    "                 color=chartpalette[4], fontface=2, size=4, hjust=0) +\n",
    "        scale_y_continuous(limits=c(ymin, ymax), breaks=seq(ymin, ymax, by=scale.by)) + \n",
    "        cat.theme +\n",
    "        theme(axis.text.y = element_blank(),\n",
    "              axis.title  = element_blank(),\n",
    "              axis.title.x = element_blank(),\n",
    "              axis.title.y = element_blank(),\n",
    "              axis.text.x = element_text(size=12, face=\"bold\", color=chartpalette[4]))\n",
    "\n",
    "\n",
    "\n",
    "experienced.plot <- ggplot(df3, aes(lang, exp(Estimate))) +\n",
    "        geom_hline(yintercept = 1, linetype=\"dashed\", color=\"#999999\") +\n",
    "        geom_errorbar(aes(ymax=exp(CI.Upper), ymin=exp(CI.Lower)), \n",
    "                      size=1, color=chartpalette[3], width=0.1) +\n",
    "        geom_point(color=chartpalette[3], size=2.5) +\n",
    "        annotate(geom=\"text\", x=0.45,y=6, label=lab.exp, \n",
    "                 color=chartpalette[3], fontface=2, size=4, hjust=0) +\n",
    "        scale_y_continuous( limits=c(ymin, ymax), breaks=seq(ymin, ymax, by=scale.by)) + \n",
    "        cat.theme + \n",
    "        theme(axis.text.y = element_blank(),\n",
    "              axis.title=element_blank(),\n",
    "              axis.title.x = element_blank(),\n",
    "              axis.title.y = element_blank(),\n",
    "              axis.text.x = element_text(size=12, face=\"bold\", color=chartpalette[3]))\n",
    "\n",
    "thanks.sent.plot <- ggarrange(all.plot,  experienced.plot, newcomer.plot, ncol=3, nrow=1, widths=c(1.2,2.5, 4))\n",
    "\n",
    "ggsave(file.path('../figs', 'thanks.sent.plot.pdf'),\n",
    "       width=6, height=2, device=\"pdf\", units='in',\n",
    "       plot=thanks.sent.plot)\n",
    "\n",
    "## stored for compatibility with previous versions of ggplot\n",
    "# thanks.sent.plot <- annotate_figure(thanks.sent.plot,\n",
    "#                         bottom=text_grob(thanks.sent.plot.caption, \n",
    "#                                          hjust=0, x=0, size=10, \n",
    "#                                          color=chartpalette[4]))+\n",
    "#                     ggsave(file.path('../figs', 'thanks.sent.plot.png'),\n",
    "#                           width=6, height=4 , units='in')\n",
    "thanks.sent.plot"
   ]
  },
  {
   "cell_type": "markdown",
   "metadata": {},
   "source": [
    "# Tables of All Results"
   ]
  },
  {
   "cell_type": "code",
   "execution_count": 143,
   "metadata": {},
   "outputs": [
    {
     "data": {
      "text/html": [
       "<table class=\"dataframe\">\n",
       "<caption>A data.frame: 22 × 14</caption>\n",
       "<thead>\n",
       "\t<tr><th></th><th scope=col>Estimate</th><th scope=col>Std..Error</th><th scope=col>z.value</th><th scope=col>pvalue</th><th scope=col>CI.Lower</th><th scope=col>CI.Upper</th><th scope=col>DF</th><th scope=col>model</th><th scope=col>t.value</th><th scope=col>n.size</th><th scope=col>n.thanked.count</th><th scope=col>estimator</th><th scope=col>lang</th><th scope=col>subgroup</th></tr>\n",
       "\t<tr><th></th><th scope=col>&lt;dbl&gt;</th><th scope=col>&lt;dbl&gt;</th><th scope=col>&lt;dbl&gt;</th><th scope=col>&lt;dbl&gt;</th><th scope=col>&lt;dbl&gt;</th><th scope=col>&lt;dbl&gt;</th><th scope=col>&lt;dbl&gt;</th><th scope=col>&lt;chr&gt;</th><th scope=col>&lt;dbl&gt;</th><th scope=col>&lt;int&gt;</th><th scope=col>&lt;int&gt;</th><th scope=col>&lt;chr&gt;</th><th scope=col>&lt;chr&gt;</th><th scope=col>&lt;chr&gt;</th></tr>\n",
       "</thead>\n",
       "<tbody>\n",
       "\t<tr><th scope=row>TREAT</th><td> 0.405465108</td><td>0.435633350</td><td>0.9307485</td><td>6.621430e-01</td><td>-4.513355e-01</td><td>1.266331151</td><td> 3034.00000</td><td>thanks sent       </td><td>        NA</td><td> 3036</td><td> 189</td><td>glm.nb             </td><td>ar </td><td>newcomer   </td></tr>\n",
       "\t<tr><th scope=row>TREAT1</th><td> 0.027009223</td><td>0.011373685</td><td>       NA</td><td>5.305927e-02</td><td> 4.699410e-03</td><td>0.049319036</td><td> 1517.00000</td><td>retention         </td><td> 2.3747117</td><td> 3036</td><td> 189</td><td>difference_in_means</td><td>ar </td><td>newcomer   </td></tr>\n",
       "\t<tr><th scope=row>TREAT2</th><td>-0.002333275</td><td>0.002399823</td><td>       NA</td><td>6.621430e-01</td><td>-7.040598e-03</td><td>0.002374048</td><td> 1517.00000</td><td>labor hours       </td><td>-0.9722694</td><td> 3036</td><td> 189</td><td>difference_in_means</td><td>ar </td><td>newcomer   </td></tr>\n",
       "\t<tr><th scope=row>TREAT3</th><td> 0.200000000</td><td>0.210818511</td><td>       NA</td><td>3.558411e-01</td><td>-2.441866e-01</td><td>0.644186588</td><td>   17.30769</td><td>manipulation check</td><td> 0.9486833</td><td>   22</td><td>  11</td><td>difference_in_means</td><td>ar </td><td>newcomer   </td></tr>\n",
       "\t<tr><th scope=row>TREAT4</th><td> 0.656242624</td><td>0.260767478</td><td>2.5165815</td><td>3.554984e-02</td><td> 1.438366e-01</td><td>1.169359242</td><td> 5316.00000</td><td>thanks sent       </td><td>        NA</td><td> 5318</td><td>1268</td><td>glm.nb             </td><td>de </td><td>newcomer   </td></tr>\n",
       "\t<tr><th scope=row>TREAT11</th><td> 0.016923656</td><td>0.010192528</td><td>       NA</td><td>9.695231e-02</td><td>-3.062433e-03</td><td>0.036909744</td><td> 2658.00000</td><td>retention         </td><td> 1.6603983</td><td> 5318</td><td>1268</td><td>difference_in_means</td><td>de </td><td>newcomer   </td></tr>\n",
       "\t<tr><th scope=row>TREAT21</th><td> 0.005559013</td><td>0.002806535</td><td>       NA</td><td>9.544694e-02</td><td> 5.580008e-05</td><td>0.011062226</td><td> 2658.00000</td><td>labor hours       </td><td> 1.9807391</td><td> 5318</td><td>1268</td><td>difference_in_means</td><td>de </td><td>newcomer   </td></tr>\n",
       "\t<tr><th scope=row>TREAT31</th><td> 0.369369369</td><td>0.077406029</td><td>       NA</td><td>4.445988e-06</td><td> 2.163661e-01</td><td>0.522372655</td><td>  143.50657</td><td>manipulation check</td><td> 4.7718424</td><td>  146</td><td>  74</td><td>difference_in_means</td><td>de </td><td>newcomer   </td></tr>\n",
       "\t<tr><th scope=row>TREAT5</th><td> 0.896746136</td><td>0.449821136</td><td>1.9935616</td><td>1.386000e-01</td><td> 1.075717e-02</td><td>1.788012090</td><td> 1628.00000</td><td>thanks sent       </td><td>        NA</td><td> 1630</td><td> 115</td><td>glm.nb             </td><td>pl </td><td>newcomer   </td></tr>\n",
       "\t<tr><th scope=row>TREAT12</th><td> 0.017177914</td><td>0.018447266</td><td>       NA</td><td>7.040625e-01</td><td>-1.903190e-02</td><td>0.053387732</td><td>  814.00000</td><td>retention         </td><td> 0.9311902</td><td> 1630</td><td> 115</td><td>difference_in_means</td><td>pl </td><td>newcomer   </td></tr>\n",
       "\t<tr><th scope=row>TREAT22</th><td> 0.003829471</td><td>0.004590713</td><td>       NA</td><td>7.040625e-01</td><td>-5.181560e-03</td><td>0.012840501</td><td>  814.00000</td><td>labor hours       </td><td> 0.8341778</td><td> 1630</td><td> 115</td><td>difference_in_means</td><td>pl </td><td>newcomer   </td></tr>\n",
       "\t<tr><th scope=row>TREAT32</th><td> 0.266666667</td><td>0.216491771</td><td>       NA</td><td>2.331294e-01</td><td>-1.865885e-01</td><td>0.719921794</td><td>   18.91820</td><td>manipulation check</td><td> 1.2317635</td><td>   22</td><td>  12</td><td>difference_in_means</td><td>pl </td><td>newcomer   </td></tr>\n",
       "\t<tr><th scope=row>TREAT6</th><td> 0.125739678</td><td>0.365660287</td><td>0.3438702</td><td>7.309439e-01</td><td>-5.976532e-01</td><td>0.849154107</td><td> 2352.00000</td><td>thanks sent       </td><td>        NA</td><td> 2354</td><td>  75</td><td>glm.nb             </td><td>fa </td><td>experienced</td></tr>\n",
       "\t<tr><th scope=row>TREAT13</th><td> 0.053525913</td><td>0.017328479</td><td>       NA</td><td>4.112216e-03</td><td> 1.952773e-02</td><td>0.087524099</td><td> 1176.00000</td><td>retention         </td><td> 3.0888986</td><td> 2354</td><td>  75</td><td>difference_in_means</td><td>fa </td><td>experienced</td></tr>\n",
       "\t<tr><th scope=row>TREAT33</th><td>-0.500000000</td><td>0.500000000</td><td>       NA</td><td>5.000000e-01</td><td>-6.853102e+00</td><td>5.853102368</td><td>    1.00000</td><td>manipulation check</td><td>-1.0000000</td><td>    4</td><td>   2</td><td>difference_in_means</td><td>fa </td><td>experienced</td></tr>\n",
       "\t<tr><th scope=row>TREAT7</th><td> 0.323400155</td><td>0.270780632</td><td>1.1943253</td><td>4.647015e-01</td><td>-2.100154e-01</td><td>0.856848674</td><td> 2934.00000</td><td>thanks sent       </td><td>        NA</td><td> 2936</td><td>1055</td><td>glm.nb             </td><td>pl </td><td>experienced</td></tr>\n",
       "\t<tr><th scope=row>TREAT14</th><td> 0.003405995</td><td>0.015129963</td><td>       NA</td><td>8.219205e-01</td><td>-2.627267e-02</td><td>0.033084664</td><td> 1467.00000</td><td>retention         </td><td> 0.2251159</td><td> 2936</td><td>1055</td><td>difference_in_means</td><td>pl </td><td>experienced</td></tr>\n",
       "\t<tr><th scope=row>TREAT34</th><td> 0.280817844</td><td>0.040359277</td><td>       NA</td><td>9.727908e-12</td><td> 2.015429e-01</td><td>0.360092804</td><td>  557.09011</td><td>manipulation check</td><td> 6.9579503</td><td>  573</td><td> 270</td><td>difference_in_means</td><td>pl </td><td>experienced</td></tr>\n",
       "\t<tr><th scope=row>TREAT8</th><td> 0.474498984</td><td>0.144534751</td><td>3.2829405</td><td>2.054607e-03</td><td> 1.895589e-01</td><td>0.760098381</td><td>15268.00000</td><td>thanks sent       </td><td>        NA</td><td>15274</td><td>2702</td><td>glm.nb             </td><td>all</td><td>all        </td></tr>\n",
       "\t<tr><th scope=row>TREAT15</th><td> 0.021998167</td><td>0.006097696</td><td>       NA</td><td>9.329827e-04</td><td> 1.004501e-02</td><td>0.033951326</td><td> 7636.00000</td><td>retention         </td><td> 3.6076195</td><td>15274</td><td>2702</td><td>difference_in_means</td><td>all</td><td>all        </td></tr>\n",
       "\t<tr><th scope=row>TREAT35</th><td> 0.292051066</td><td>0.034733535</td><td>       NA</td><td>2.074219e-16</td><td> 2.238650e-01</td><td>0.360237134</td><td>  753.04830</td><td>manipulation check</td><td> 8.4083313</td><td>  767</td><td> 369</td><td>difference_in_means</td><td>all</td><td>all        </td></tr>\n",
       "\t<tr><th scope=row>TREAT23</th><td> 0.002876707</td><td>0.001824898</td><td>       NA</td><td>1.150049e-01</td><td>-7.008952e-04</td><td>0.006454310</td><td> 4991.00000</td><td>labor hours       </td><td> 1.5763658</td><td> 9984</td><td>1572</td><td>difference_in_means</td><td>all</td><td>newcomer   </td></tr>\n",
       "</tbody>\n",
       "</table>\n"
      ],
      "text/latex": [
       "A data.frame: 22 × 14\n",
       "\\begin{tabular}{r|llllllllllllll}\n",
       "  & Estimate & Std..Error & z.value & pvalue & CI.Lower & CI.Upper & DF & model & t.value & n.size & n.thanked.count & estimator & lang & subgroup\\\\\n",
       "  & <dbl> & <dbl> & <dbl> & <dbl> & <dbl> & <dbl> & <dbl> & <chr> & <dbl> & <int> & <int> & <chr> & <chr> & <chr>\\\\\n",
       "\\hline\n",
       "\tTREAT &  0.405465108 & 0.435633350 & 0.9307485 & 6.621430e-01 & -4.513355e-01 & 1.266331151 &  3034.00000 & thanks sent        &         NA &  3036 &  189 & glm.nb              & ar  & newcomer   \\\\\n",
       "\tTREAT1 &  0.027009223 & 0.011373685 &        NA & 5.305927e-02 &  4.699410e-03 & 0.049319036 &  1517.00000 & retention          &  2.3747117 &  3036 &  189 & difference\\_in\\_means & ar  & newcomer   \\\\\n",
       "\tTREAT2 & -0.002333275 & 0.002399823 &        NA & 6.621430e-01 & -7.040598e-03 & 0.002374048 &  1517.00000 & labor hours        & -0.9722694 &  3036 &  189 & difference\\_in\\_means & ar  & newcomer   \\\\\n",
       "\tTREAT3 &  0.200000000 & 0.210818511 &        NA & 3.558411e-01 & -2.441866e-01 & 0.644186588 &    17.30769 & manipulation check &  0.9486833 &    22 &   11 & difference\\_in\\_means & ar  & newcomer   \\\\\n",
       "\tTREAT4 &  0.656242624 & 0.260767478 & 2.5165815 & 3.554984e-02 &  1.438366e-01 & 1.169359242 &  5316.00000 & thanks sent        &         NA &  5318 & 1268 & glm.nb              & de  & newcomer   \\\\\n",
       "\tTREAT11 &  0.016923656 & 0.010192528 &        NA & 9.695231e-02 & -3.062433e-03 & 0.036909744 &  2658.00000 & retention          &  1.6603983 &  5318 & 1268 & difference\\_in\\_means & de  & newcomer   \\\\\n",
       "\tTREAT21 &  0.005559013 & 0.002806535 &        NA & 9.544694e-02 &  5.580008e-05 & 0.011062226 &  2658.00000 & labor hours        &  1.9807391 &  5318 & 1268 & difference\\_in\\_means & de  & newcomer   \\\\\n",
       "\tTREAT31 &  0.369369369 & 0.077406029 &        NA & 4.445988e-06 &  2.163661e-01 & 0.522372655 &   143.50657 & manipulation check &  4.7718424 &   146 &   74 & difference\\_in\\_means & de  & newcomer   \\\\\n",
       "\tTREAT5 &  0.896746136 & 0.449821136 & 1.9935616 & 1.386000e-01 &  1.075717e-02 & 1.788012090 &  1628.00000 & thanks sent        &         NA &  1630 &  115 & glm.nb              & pl  & newcomer   \\\\\n",
       "\tTREAT12 &  0.017177914 & 0.018447266 &        NA & 7.040625e-01 & -1.903190e-02 & 0.053387732 &   814.00000 & retention          &  0.9311902 &  1630 &  115 & difference\\_in\\_means & pl  & newcomer   \\\\\n",
       "\tTREAT22 &  0.003829471 & 0.004590713 &        NA & 7.040625e-01 & -5.181560e-03 & 0.012840501 &   814.00000 & labor hours        &  0.8341778 &  1630 &  115 & difference\\_in\\_means & pl  & newcomer   \\\\\n",
       "\tTREAT32 &  0.266666667 & 0.216491771 &        NA & 2.331294e-01 & -1.865885e-01 & 0.719921794 &    18.91820 & manipulation check &  1.2317635 &    22 &   12 & difference\\_in\\_means & pl  & newcomer   \\\\\n",
       "\tTREAT6 &  0.125739678 & 0.365660287 & 0.3438702 & 7.309439e-01 & -5.976532e-01 & 0.849154107 &  2352.00000 & thanks sent        &         NA &  2354 &   75 & glm.nb              & fa  & experienced\\\\\n",
       "\tTREAT13 &  0.053525913 & 0.017328479 &        NA & 4.112216e-03 &  1.952773e-02 & 0.087524099 &  1176.00000 & retention          &  3.0888986 &  2354 &   75 & difference\\_in\\_means & fa  & experienced\\\\\n",
       "\tTREAT33 & -0.500000000 & 0.500000000 &        NA & 5.000000e-01 & -6.853102e+00 & 5.853102368 &     1.00000 & manipulation check & -1.0000000 &     4 &    2 & difference\\_in\\_means & fa  & experienced\\\\\n",
       "\tTREAT7 &  0.323400155 & 0.270780632 & 1.1943253 & 4.647015e-01 & -2.100154e-01 & 0.856848674 &  2934.00000 & thanks sent        &         NA &  2936 & 1055 & glm.nb              & pl  & experienced\\\\\n",
       "\tTREAT14 &  0.003405995 & 0.015129963 &        NA & 8.219205e-01 & -2.627267e-02 & 0.033084664 &  1467.00000 & retention          &  0.2251159 &  2936 & 1055 & difference\\_in\\_means & pl  & experienced\\\\\n",
       "\tTREAT34 &  0.280817844 & 0.040359277 &        NA & 9.727908e-12 &  2.015429e-01 & 0.360092804 &   557.09011 & manipulation check &  6.9579503 &   573 &  270 & difference\\_in\\_means & pl  & experienced\\\\\n",
       "\tTREAT8 &  0.474498984 & 0.144534751 & 3.2829405 & 2.054607e-03 &  1.895589e-01 & 0.760098381 & 15268.00000 & thanks sent        &         NA & 15274 & 2702 & glm.nb              & all & all        \\\\\n",
       "\tTREAT15 &  0.021998167 & 0.006097696 &        NA & 9.329827e-04 &  1.004501e-02 & 0.033951326 &  7636.00000 & retention          &  3.6076195 & 15274 & 2702 & difference\\_in\\_means & all & all        \\\\\n",
       "\tTREAT35 &  0.292051066 & 0.034733535 &        NA & 2.074219e-16 &  2.238650e-01 & 0.360237134 &   753.04830 & manipulation check &  8.4083313 &   767 &  369 & difference\\_in\\_means & all & all        \\\\\n",
       "\tTREAT23 &  0.002876707 & 0.001824898 &        NA & 1.150049e-01 & -7.008952e-04 & 0.006454310 &  4991.00000 & labor hours        &  1.5763658 &  9984 & 1572 & difference\\_in\\_means & all & newcomer   \\\\\n",
       "\\end{tabular}\n"
      ],
      "text/markdown": [
       "\n",
       "A data.frame: 22 × 14\n",
       "\n",
       "| <!--/--> | Estimate &lt;dbl&gt; | Std..Error &lt;dbl&gt; | z.value &lt;dbl&gt; | pvalue &lt;dbl&gt; | CI.Lower &lt;dbl&gt; | CI.Upper &lt;dbl&gt; | DF &lt;dbl&gt; | model &lt;chr&gt; | t.value &lt;dbl&gt; | n.size &lt;int&gt; | n.thanked.count &lt;int&gt; | estimator &lt;chr&gt; | lang &lt;chr&gt; | subgroup &lt;chr&gt; |\n",
       "|---|---|---|---|---|---|---|---|---|---|---|---|---|---|---|\n",
       "| TREAT |  0.405465108 | 0.435633350 | 0.9307485 | 6.621430e-01 | -4.513355e-01 | 1.266331151 |  3034.00000 | thanks sent        |         NA |  3036 |  189 | glm.nb              | ar  | newcomer    |\n",
       "| TREAT1 |  0.027009223 | 0.011373685 |        NA | 5.305927e-02 |  4.699410e-03 | 0.049319036 |  1517.00000 | retention          |  2.3747117 |  3036 |  189 | difference_in_means | ar  | newcomer    |\n",
       "| TREAT2 | -0.002333275 | 0.002399823 |        NA | 6.621430e-01 | -7.040598e-03 | 0.002374048 |  1517.00000 | labor hours        | -0.9722694 |  3036 |  189 | difference_in_means | ar  | newcomer    |\n",
       "| TREAT3 |  0.200000000 | 0.210818511 |        NA | 3.558411e-01 | -2.441866e-01 | 0.644186588 |    17.30769 | manipulation check |  0.9486833 |    22 |   11 | difference_in_means | ar  | newcomer    |\n",
       "| TREAT4 |  0.656242624 | 0.260767478 | 2.5165815 | 3.554984e-02 |  1.438366e-01 | 1.169359242 |  5316.00000 | thanks sent        |         NA |  5318 | 1268 | glm.nb              | de  | newcomer    |\n",
       "| TREAT11 |  0.016923656 | 0.010192528 |        NA | 9.695231e-02 | -3.062433e-03 | 0.036909744 |  2658.00000 | retention          |  1.6603983 |  5318 | 1268 | difference_in_means | de  | newcomer    |\n",
       "| TREAT21 |  0.005559013 | 0.002806535 |        NA | 9.544694e-02 |  5.580008e-05 | 0.011062226 |  2658.00000 | labor hours        |  1.9807391 |  5318 | 1268 | difference_in_means | de  | newcomer    |\n",
       "| TREAT31 |  0.369369369 | 0.077406029 |        NA | 4.445988e-06 |  2.163661e-01 | 0.522372655 |   143.50657 | manipulation check |  4.7718424 |   146 |   74 | difference_in_means | de  | newcomer    |\n",
       "| TREAT5 |  0.896746136 | 0.449821136 | 1.9935616 | 1.386000e-01 |  1.075717e-02 | 1.788012090 |  1628.00000 | thanks sent        |         NA |  1630 |  115 | glm.nb              | pl  | newcomer    |\n",
       "| TREAT12 |  0.017177914 | 0.018447266 |        NA | 7.040625e-01 | -1.903190e-02 | 0.053387732 |   814.00000 | retention          |  0.9311902 |  1630 |  115 | difference_in_means | pl  | newcomer    |\n",
       "| TREAT22 |  0.003829471 | 0.004590713 |        NA | 7.040625e-01 | -5.181560e-03 | 0.012840501 |   814.00000 | labor hours        |  0.8341778 |  1630 |  115 | difference_in_means | pl  | newcomer    |\n",
       "| TREAT32 |  0.266666667 | 0.216491771 |        NA | 2.331294e-01 | -1.865885e-01 | 0.719921794 |    18.91820 | manipulation check |  1.2317635 |    22 |   12 | difference_in_means | pl  | newcomer    |\n",
       "| TREAT6 |  0.125739678 | 0.365660287 | 0.3438702 | 7.309439e-01 | -5.976532e-01 | 0.849154107 |  2352.00000 | thanks sent        |         NA |  2354 |   75 | glm.nb              | fa  | experienced |\n",
       "| TREAT13 |  0.053525913 | 0.017328479 |        NA | 4.112216e-03 |  1.952773e-02 | 0.087524099 |  1176.00000 | retention          |  3.0888986 |  2354 |   75 | difference_in_means | fa  | experienced |\n",
       "| TREAT33 | -0.500000000 | 0.500000000 |        NA | 5.000000e-01 | -6.853102e+00 | 5.853102368 |     1.00000 | manipulation check | -1.0000000 |     4 |    2 | difference_in_means | fa  | experienced |\n",
       "| TREAT7 |  0.323400155 | 0.270780632 | 1.1943253 | 4.647015e-01 | -2.100154e-01 | 0.856848674 |  2934.00000 | thanks sent        |         NA |  2936 | 1055 | glm.nb              | pl  | experienced |\n",
       "| TREAT14 |  0.003405995 | 0.015129963 |        NA | 8.219205e-01 | -2.627267e-02 | 0.033084664 |  1467.00000 | retention          |  0.2251159 |  2936 | 1055 | difference_in_means | pl  | experienced |\n",
       "| TREAT34 |  0.280817844 | 0.040359277 |        NA | 9.727908e-12 |  2.015429e-01 | 0.360092804 |   557.09011 | manipulation check |  6.9579503 |   573 |  270 | difference_in_means | pl  | experienced |\n",
       "| TREAT8 |  0.474498984 | 0.144534751 | 3.2829405 | 2.054607e-03 |  1.895589e-01 | 0.760098381 | 15268.00000 | thanks sent        |         NA | 15274 | 2702 | glm.nb              | all | all         |\n",
       "| TREAT15 |  0.021998167 | 0.006097696 |        NA | 9.329827e-04 |  1.004501e-02 | 0.033951326 |  7636.00000 | retention          |  3.6076195 | 15274 | 2702 | difference_in_means | all | all         |\n",
       "| TREAT35 |  0.292051066 | 0.034733535 |        NA | 2.074219e-16 |  2.238650e-01 | 0.360237134 |   753.04830 | manipulation check |  8.4083313 |   767 |  369 | difference_in_means | all | all         |\n",
       "| TREAT23 |  0.002876707 | 0.001824898 |        NA | 1.150049e-01 | -7.008952e-04 | 0.006454310 |  4991.00000 | labor hours        |  1.5763658 |  9984 | 1572 | difference_in_means | all | newcomer    |\n",
       "\n"
      ],
      "text/plain": [
       "        Estimate     Std..Error  z.value   pvalue       CI.Lower     \n",
       "TREAT    0.405465108 0.435633350 0.9307485 6.621430e-01 -4.513355e-01\n",
       "TREAT1   0.027009223 0.011373685        NA 5.305927e-02  4.699410e-03\n",
       "TREAT2  -0.002333275 0.002399823        NA 6.621430e-01 -7.040598e-03\n",
       "TREAT3   0.200000000 0.210818511        NA 3.558411e-01 -2.441866e-01\n",
       "TREAT4   0.656242624 0.260767478 2.5165815 3.554984e-02  1.438366e-01\n",
       "TREAT11  0.016923656 0.010192528        NA 9.695231e-02 -3.062433e-03\n",
       "TREAT21  0.005559013 0.002806535        NA 9.544694e-02  5.580008e-05\n",
       "TREAT31  0.369369369 0.077406029        NA 4.445988e-06  2.163661e-01\n",
       "TREAT5   0.896746136 0.449821136 1.9935616 1.386000e-01  1.075717e-02\n",
       "TREAT12  0.017177914 0.018447266        NA 7.040625e-01 -1.903190e-02\n",
       "TREAT22  0.003829471 0.004590713        NA 7.040625e-01 -5.181560e-03\n",
       "TREAT32  0.266666667 0.216491771        NA 2.331294e-01 -1.865885e-01\n",
       "TREAT6   0.125739678 0.365660287 0.3438702 7.309439e-01 -5.976532e-01\n",
       "TREAT13  0.053525913 0.017328479        NA 4.112216e-03  1.952773e-02\n",
       "TREAT33 -0.500000000 0.500000000        NA 5.000000e-01 -6.853102e+00\n",
       "TREAT7   0.323400155 0.270780632 1.1943253 4.647015e-01 -2.100154e-01\n",
       "TREAT14  0.003405995 0.015129963        NA 8.219205e-01 -2.627267e-02\n",
       "TREAT34  0.280817844 0.040359277        NA 9.727908e-12  2.015429e-01\n",
       "TREAT8   0.474498984 0.144534751 3.2829405 2.054607e-03  1.895589e-01\n",
       "TREAT15  0.021998167 0.006097696        NA 9.329827e-04  1.004501e-02\n",
       "TREAT35  0.292051066 0.034733535        NA 2.074219e-16  2.238650e-01\n",
       "TREAT23  0.002876707 0.001824898        NA 1.150049e-01 -7.008952e-04\n",
       "        CI.Upper    DF          model              t.value    n.size\n",
       "TREAT   1.266331151  3034.00000 thanks sent                NA  3036 \n",
       "TREAT1  0.049319036  1517.00000 retention           2.3747117  3036 \n",
       "TREAT2  0.002374048  1517.00000 labor hours        -0.9722694  3036 \n",
       "TREAT3  0.644186588    17.30769 manipulation check  0.9486833    22 \n",
       "TREAT4  1.169359242  5316.00000 thanks sent                NA  5318 \n",
       "TREAT11 0.036909744  2658.00000 retention           1.6603983  5318 \n",
       "TREAT21 0.011062226  2658.00000 labor hours         1.9807391  5318 \n",
       "TREAT31 0.522372655   143.50657 manipulation check  4.7718424   146 \n",
       "TREAT5  1.788012090  1628.00000 thanks sent                NA  1630 \n",
       "TREAT12 0.053387732   814.00000 retention           0.9311902  1630 \n",
       "TREAT22 0.012840501   814.00000 labor hours         0.8341778  1630 \n",
       "TREAT32 0.719921794    18.91820 manipulation check  1.2317635    22 \n",
       "TREAT6  0.849154107  2352.00000 thanks sent                NA  2354 \n",
       "TREAT13 0.087524099  1176.00000 retention           3.0888986  2354 \n",
       "TREAT33 5.853102368     1.00000 manipulation check -1.0000000     4 \n",
       "TREAT7  0.856848674  2934.00000 thanks sent                NA  2936 \n",
       "TREAT14 0.033084664  1467.00000 retention           0.2251159  2936 \n",
       "TREAT34 0.360092804   557.09011 manipulation check  6.9579503   573 \n",
       "TREAT8  0.760098381 15268.00000 thanks sent                NA 15274 \n",
       "TREAT15 0.033951326  7636.00000 retention           3.6076195 15274 \n",
       "TREAT35 0.360237134   753.04830 manipulation check  8.4083313   767 \n",
       "TREAT23 0.006454310  4991.00000 labor hours         1.5763658  9984 \n",
       "        n.thanked.count estimator           lang subgroup   \n",
       "TREAT    189            glm.nb              ar   newcomer   \n",
       "TREAT1   189            difference_in_means ar   newcomer   \n",
       "TREAT2   189            difference_in_means ar   newcomer   \n",
       "TREAT3    11            difference_in_means ar   newcomer   \n",
       "TREAT4  1268            glm.nb              de   newcomer   \n",
       "TREAT11 1268            difference_in_means de   newcomer   \n",
       "TREAT21 1268            difference_in_means de   newcomer   \n",
       "TREAT31   74            difference_in_means de   newcomer   \n",
       "TREAT5   115            glm.nb              pl   newcomer   \n",
       "TREAT12  115            difference_in_means pl   newcomer   \n",
       "TREAT22  115            difference_in_means pl   newcomer   \n",
       "TREAT32   12            difference_in_means pl   newcomer   \n",
       "TREAT6    75            glm.nb              fa   experienced\n",
       "TREAT13   75            difference_in_means fa   experienced\n",
       "TREAT33    2            difference_in_means fa   experienced\n",
       "TREAT7  1055            glm.nb              pl   experienced\n",
       "TREAT14 1055            difference_in_means pl   experienced\n",
       "TREAT34  270            difference_in_means pl   experienced\n",
       "TREAT8  2702            glm.nb              all  all        \n",
       "TREAT15 2702            difference_in_means all  all        \n",
       "TREAT35  369            difference_in_means all  all        \n",
       "TREAT23 1572            difference_in_means all  newcomer   "
      ]
     },
     "metadata": {},
     "output_type": "display_data"
    }
   ],
   "source": [
    "all.lang.results"
   ]
  },
  {
   "cell_type": "markdown",
   "metadata": {},
   "source": [
    "# Complier Average Causal Effect\n",
    "We use two stage least squares regression to estimate the complier average causal effect."
   ]
  },
  {
   "cell_type": "code",
   "execution_count": 144,
   "metadata": {},
   "outputs": [],
   "source": [
    "## this method generates complier average treatment effect estimates\n",
    "## for a given subgroup of the study. It assumes that rates of actual\n",
    "## thanking by volunteers will vary by language and newcomer status\n",
    "\n",
    "df.cace.estimates <- function(df, lang=\"all\", subgroup=\"all\"){\n",
    "\n",
    "    \n",
    "    treat.prob.formula <- \"complier.app.any.reason ~ TREAT\"\n",
    "    if(lang==\"all\"){\n",
    "        treat.prob.formula <- paste(treat.prob.formula, \" + lang\")\n",
    "    }\n",
    "    \n",
    "    if(subgroup==\"all\"){\n",
    "        treat.prob.formula <- paste(treat.prob.formula, \" + newcomer\")\n",
    "    }\n",
    "    \n",
    "    treat.prob.m <- lm(treat.prob.formula, data=df)\n",
    "    \n",
    "    df$iv <- predict(treat.prob.m, df)\n",
    "\n",
    "    df.compliers <- subset(df, complier)\n",
    "    \n",
    "\n",
    "    thanks.model         <- glm.nb(thanks.sent ~ iv, data=df)\n",
    "    m.thanks.sent        <- coef(summary(thanks.model))\n",
    "    m.thanks.sent        <- data.frame(cbind(m.thanks.sent, confint(thanks.model)))\n",
    "    names(m.thanks.sent)[4] <- \"pvalue\"\n",
    "    names(m.thanks.sent)[5] <- \"CI.Lower\"\n",
    "    names(m.thanks.sent)[6] <- \"CI.Upper\"\n",
    "    m.thanks.sent$DF       <- thanks.model$df.residual\n",
    "    m.thanks.sent$model    <- \"thanks sent\"\n",
    "    m.thanks.sent$t.value  <- NA\n",
    "    m.thanks.sent$n.size   <- nrow(df)\n",
    "    m.thanks.sent$n.thanked.count <- nrow(subset(df, complier.app.any.reason))\n",
    "    \n",
    "    retention.model        <- lm(two.week.retention ~ iv, data=df)\n",
    "    m.retention            <- data.frame(coef(summary(retention.model)))\n",
    "    m.retention            <- cbind(m.retention, confint(retention.model))\n",
    "    names(m.retention)[4]  <- \"pvalue\"\n",
    "    names(m.retention)[5]  <- \"CI.Lower\"\n",
    "    names(m.retention)[6]  <- \"CI.Upper\"\n",
    "    m.retention$DF         <- retention.model$df\n",
    "    m.retention$model      <- \"retention\"\n",
    "    m.retention$z.value    <- NA\n",
    "    m.retention$n.size     <- nrow(df)\n",
    "    m.retention$n.thanked.count <- nrow(subset(df, complier.app.any.reason))\n",
    "    \n",
    "    labor.hour.model       <- lm(labor.hours.per.day.diff ~ iv, data=df)\n",
    "    m.labor.hours          <- data.frame(coef(summary(labor.hour.model)))\n",
    "    m.labor.hours          <- cbind(m.labor.hours, confint(labor.hour.model))\n",
    "    names(m.labor.hours)[4] <- \"pvalue\"\n",
    "    names(m.labor.hours)[5] <- \"CI.Lower\"\n",
    "    names(m.labor.hours)[6] <- \"CI.Upper\"\n",
    "    m.labor.hours$DF       <- labor.hour.model$df    \n",
    "    m.labor.hours$model    <- \"labor hours\"\n",
    "    m.labor.hours$z.value  <- NA\n",
    "    m.labor.hours$n.size   <- nrow(df)\n",
    "    m.labor.hours$n.thanked.count <- nrow(subset(df, complier.app.any.reason))\n",
    "\n",
    "    manip.check.model      <- lm(remembered.thanks<=3 ~ iv, data=df.compliers)\n",
    "    m.manip.check          <- data.frame(coef(summary(manip.check.model)))\n",
    "    m.manip.check          <- cbind(m.manip.check, confint(manip.check.model))\n",
    "    names(m.manip.check)[4] <- \"pvalue\"\n",
    "    names(m.manip.check)[5] <- \"CI.Lower\"\n",
    "    names(m.manip.check)[6] <- \"CI.Upper\"\n",
    "    m.manip.check$DF       <- manip.check.model$df    \n",
    "    m.manip.check$model    <- \"manipulation check\"\n",
    "    m.manip.check$z.value  <- NA\n",
    "    m.manip.check$n.size   <- nrow(df.compliers)\n",
    "    m.manip.check$n.thanked.count <-  nrow(subset(df.compliers, complier.app.any.reason))\n",
    "\n",
    "    m.thanks.sent$estimator        <- \"glm.nb\"\n",
    "    m.retention$estimator          <- \"2sls\"\n",
    "    m.labor.hours$estimator        <- \"2sls\"\n",
    "    m.manip.check$estimator        <- \"2sls\"\n",
    "\n",
    "    result.df <- rbind(m.retention, m.labor.hours, m.thanks.sent,\n",
    "                       m.manip.check)\n",
    "    \n",
    "    #result.df <- result.df[row.names(result.df)!=\"(Intercept)\",]\n",
    "    \n",
    "    result.df$lang     <- lang\n",
    "    result.df$subgroup <- subgroup\n",
    "    \n",
    "    result.df\n",
    "}"
   ]
  },
  {
   "cell_type": "markdown",
   "metadata": {},
   "source": [
    "#### Estimate CACE Results"
   ]
  },
  {
   "cell_type": "code",
   "execution_count": 145,
   "metadata": {},
   "outputs": [
    {
     "name": "stderr",
     "output_type": "stream",
     "text": [
      "Waiting for profiling to be done...\n",
      "\n",
      "Waiting for profiling to be done...\n",
      "\n",
      "Waiting for profiling to be done...\n",
      "\n",
      "Waiting for profiling to be done...\n",
      "\n",
      "Waiting for profiling to be done...\n",
      "\n",
      "Waiting for profiling to be done...\n",
      "\n",
      "Waiting for profiling to be done...\n",
      "\n",
      "Waiting for profiling to be done...\n",
      "\n"
     ]
    }
   ],
   "source": [
    "ar.newcomer.cace.results <- df.cace.estimates(subset(participants, lang==\"ar\" & newcomer), lang=\"ar\", subgroup=\"newcomer\")\n",
    "de.newcomer.cace.results <- df.cace.estimates(subset(participants, lang==\"de\" & newcomer), lang=\"de\", subgroup=\"newcomer\")\n",
    "pl.newcomer.cace.results <- df.cace.estimates(subset(participants, lang==\"pl\" & newcomer), lang=\"pl\", subgroup=\"newcomer\")\n",
    "\n",
    "fa.experienced.cace.results <- df.cace.estimates(subset(participants, lang==\"fa\" & newcomer!=TRUE), lang=\"fa\", subgroup=\"experienced\")\n",
    "fa.experienced.cace.results <- subset(fa.experienced.cace.results,model!=\"labor hours\")\n",
    "\n",
    "pl.experienced.cace.results <- df.cace.estimates(subset(participants, lang==\"pl\" & newcomer!=TRUE), lang=\"pl\", subgroup=\"experienced\")\n",
    "pl.experienced.cace.results <- subset(pl.experienced.cace.results,model!=\"labor hours\")\n",
    "\n",
    "all.newcomer.cace.df <- df.cace.estimates(subset(participants, newcomer), subgroup=\"newcomer\")\n",
    "all.experienced.cace.df <- df.cace.estimates(subset(participants, newcomer!=TRUE), subgroup=\"experienced\")\n",
    "all.experienced.cace.df <- subset(all.experienced.cace.df,model!=\"labor hours\")\n",
    "\n",
    "## create a dataframe of the main results table\n",
    "all.cace.df <- df.cace.estimates(participants)\n",
    "\n",
    "## create a dataframe of all results, for plotting charts\n",
    "all.cace.models.df <- rbind(\n",
    "    ar.newcomer.cace.results, \n",
    "    de.newcomer.cace.results, \n",
    "    pl.newcomer.cace.results,\n",
    "    fa.experienced.cace.results,\n",
    "    pl.experienced.cace.results,\n",
    "    all.newcomer.cace.df,\n",
    "    all.experienced.cace.df,\n",
    "    all.cace.df\n",
    "    )"
   ]
  },
  {
   "cell_type": "code",
   "execution_count": 150,
   "metadata": {},
   "outputs": [],
   "source": [
    "## In case readers want to view subgroups of CACE models"
   ]
  },
  {
   "cell_type": "code",
   "execution_count": 151,
   "metadata": {},
   "outputs": [],
   "source": [
    "# subset(all.cace.models.df, model ==\"retention\" & \n",
    "#                           str_detect(row.names(all.cace.models.df), \"Intercept\")!=TRUE)"
   ]
  },
  {
   "cell_type": "code",
   "execution_count": 152,
   "metadata": {},
   "outputs": [],
   "source": [
    "# subset(all.cace.models.df, model ==\"labor hours\" & \n",
    "#                           str_detect(row.names(all.cace.models.df), \"Intercept\")!=TRUE)"
   ]
  },
  {
   "cell_type": "code",
   "execution_count": 153,
   "metadata": {},
   "outputs": [],
   "source": [
    "# subset(all.cace.models.df, model ==\"thanks sent\" & \n",
    "#                           str_detect(row.names(all.cace.models.df), \"Intercept\")!=TRUE)"
   ]
  },
  {
   "cell_type": "markdown",
   "metadata": {},
   "source": [
    "## Adjust p Values for CACE\n",
    "Here, we adjust the CACE p values for all of the pre-registered analyses, as well as the CACE analyses."
   ]
  },
  {
   "cell_type": "code",
   "execution_count": 154,
   "metadata": {},
   "outputs": [
    {
     "data": {
      "text/html": [
       "<table class=\"dataframe\">\n",
       "<caption>A data.frame: 4 × 15</caption>\n",
       "<thead>\n",
       "\t<tr><th></th><th scope=col>factor</th><th scope=col>Estimate</th><th scope=col>Std..Error</th><th scope=col>t.value</th><th scope=col>pvalue</th><th scope=col>CI.Lower</th><th scope=col>CI.Upper</th><th scope=col>DF</th><th scope=col>model</th><th scope=col>z.value</th><th scope=col>n.size</th><th scope=col>n.thanked.count</th><th scope=col>estimator</th><th scope=col>lang</th><th scope=col>subgroup</th></tr>\n",
       "\t<tr><th></th><th scope=col>&lt;chr&gt;</th><th scope=col>&lt;dbl&gt;</th><th scope=col>&lt;dbl&gt;</th><th scope=col>&lt;dbl&gt;</th><th scope=col>&lt;dbl&gt;</th><th scope=col>&lt;dbl&gt;</th><th scope=col>&lt;dbl&gt;</th><th scope=col>&lt;int&gt;</th><th scope=col>&lt;chr&gt;</th><th scope=col>&lt;dbl&gt;</th><th scope=col>&lt;int&gt;</th><th scope=col>&lt;int&gt;</th><th scope=col>&lt;chr&gt;</th><th scope=col>&lt;chr&gt;</th><th scope=col>&lt;chr&gt;</th></tr>\n",
       "</thead>\n",
       "<tbody>\n",
       "\t<tr><th scope=row>iv</th><td>iv </td><td>0.197622356</td><td>0.016224987</td><td>12.180124</td><td>3.420956e-33</td><td> 0.165819445</td><td>0.229425267</td><td>15272</td><td>retention         </td><td>      NA</td><td>15274</td><td>2702</td><td>2sls  </td><td>all</td><td>all</td></tr>\n",
       "\t<tr><th scope=row>iv1</th><td>iv1</td><td>0.001252543</td><td>0.004405865</td><td> 0.284290</td><td>7.761920e-01</td><td>-0.007383478</td><td>0.009888565</td><td>15272</td><td>labor hours       </td><td>      NA</td><td>15274</td><td>2702</td><td>2sls  </td><td>all</td><td>all</td></tr>\n",
       "\t<tr><th scope=row>iv2</th><td>iv2</td><td>1.541253787</td><td>0.357115721</td><td>       NA</td><td>7.949909e-05</td><td> 0.896165950</td><td>2.190497607</td><td>15272</td><td>thanks sent       </td><td>4.315839</td><td>15274</td><td>2702</td><td>glm.nb</td><td>all</td><td>all</td></tr>\n",
       "\t<tr><th scope=row>iv3</th><td>iv3</td><td>0.687856191</td><td>0.091222590</td><td> 7.540415</td><td>1.339146e-13</td><td> 0.508777635</td><td>0.866934747</td><td>  759</td><td>manipulation check</td><td>      NA</td><td>  767</td><td> 369</td><td>2sls  </td><td>all</td><td>all</td></tr>\n",
       "</tbody>\n",
       "</table>\n"
      ],
      "text/latex": [
       "A data.frame: 4 × 15\n",
       "\\begin{tabular}{r|lllllllllllllll}\n",
       "  & factor & Estimate & Std..Error & t.value & pvalue & CI.Lower & CI.Upper & DF & model & z.value & n.size & n.thanked.count & estimator & lang & subgroup\\\\\n",
       "  & <chr> & <dbl> & <dbl> & <dbl> & <dbl> & <dbl> & <dbl> & <int> & <chr> & <dbl> & <int> & <int> & <chr> & <chr> & <chr>\\\\\n",
       "\\hline\n",
       "\tiv & iv  & 0.197622356 & 0.016224987 & 12.180124 & 3.420956e-33 &  0.165819445 & 0.229425267 & 15272 & retention          &       NA & 15274 & 2702 & 2sls   & all & all\\\\\n",
       "\tiv1 & iv1 & 0.001252543 & 0.004405865 &  0.284290 & 7.761920e-01 & -0.007383478 & 0.009888565 & 15272 & labor hours        &       NA & 15274 & 2702 & 2sls   & all & all\\\\\n",
       "\tiv2 & iv2 & 1.541253787 & 0.357115721 &        NA & 7.949909e-05 &  0.896165950 & 2.190497607 & 15272 & thanks sent        & 4.315839 & 15274 & 2702 & glm.nb & all & all\\\\\n",
       "\tiv3 & iv3 & 0.687856191 & 0.091222590 &  7.540415 & 1.339146e-13 &  0.508777635 & 0.866934747 &   759 & manipulation check &       NA &   767 &  369 & 2sls   & all & all\\\\\n",
       "\\end{tabular}\n"
      ],
      "text/markdown": [
       "\n",
       "A data.frame: 4 × 15\n",
       "\n",
       "| <!--/--> | factor &lt;chr&gt; | Estimate &lt;dbl&gt; | Std..Error &lt;dbl&gt; | t.value &lt;dbl&gt; | pvalue &lt;dbl&gt; | CI.Lower &lt;dbl&gt; | CI.Upper &lt;dbl&gt; | DF &lt;int&gt; | model &lt;chr&gt; | z.value &lt;dbl&gt; | n.size &lt;int&gt; | n.thanked.count &lt;int&gt; | estimator &lt;chr&gt; | lang &lt;chr&gt; | subgroup &lt;chr&gt; |\n",
       "|---|---|---|---|---|---|---|---|---|---|---|---|---|---|---|---|\n",
       "| iv | iv  | 0.197622356 | 0.016224987 | 12.180124 | 3.420956e-33 |  0.165819445 | 0.229425267 | 15272 | retention          |       NA | 15274 | 2702 | 2sls   | all | all |\n",
       "| iv1 | iv1 | 0.001252543 | 0.004405865 |  0.284290 | 7.761920e-01 | -0.007383478 | 0.009888565 | 15272 | labor hours        |       NA | 15274 | 2702 | 2sls   | all | all |\n",
       "| iv2 | iv2 | 1.541253787 | 0.357115721 |        NA | 7.949909e-05 |  0.896165950 | 2.190497607 | 15272 | thanks sent        | 4.315839 | 15274 | 2702 | glm.nb | all | all |\n",
       "| iv3 | iv3 | 0.687856191 | 0.091222590 |  7.540415 | 1.339146e-13 |  0.508777635 | 0.866934747 |   759 | manipulation check |       NA |   767 |  369 | 2sls   | all | all |\n",
       "\n"
      ],
      "text/plain": [
       "    factor Estimate    Std..Error  t.value   pvalue       CI.Lower    \n",
       "iv  iv     0.197622356 0.016224987 12.180124 3.420956e-33  0.165819445\n",
       "iv1 iv1    0.001252543 0.004405865  0.284290 7.761920e-01 -0.007383478\n",
       "iv2 iv2    1.541253787 0.357115721        NA 7.949909e-05  0.896165950\n",
       "iv3 iv3    0.687856191 0.091222590  7.540415 1.339146e-13  0.508777635\n",
       "    CI.Upper    DF    model              z.value  n.size n.thanked.count\n",
       "iv  0.229425267 15272 retention                NA 15274  2702           \n",
       "iv1 0.009888565 15272 labor hours              NA 15274  2702           \n",
       "iv2 2.190497607 15272 thanks sent        4.315839 15274  2702           \n",
       "iv3 0.866934747   759 manipulation check       NA   767   369           \n",
       "    estimator lang subgroup\n",
       "iv  2sls      all  all     \n",
       "iv1 2sls      all  all     \n",
       "iv2 glm.nb    all  all     \n",
       "iv3 2sls      all  all     "
      ]
     },
     "metadata": {},
     "output_type": "display_data"
    }
   ],
   "source": [
    "## append all p values from the paper into a single list\n",
    "## then adjust the p-values\n",
    "## then return the first three, so they can be added to the adjustments\n",
    "\n",
    "all.cace.iv.df <-  cbind(factor = rownames(all.cace.df), all.cace.df)\n",
    "all.cace.iv.df <- subset(all.cace.iv.df, substring(all.cace.iv.df$factor, 0,2)==\"iv\")\n",
    "\n",
    "all.cace.iv.df[all.cace.iv.df$model!=\"manipulation check\",]$pvalue <- \n",
    "        p.adjust(c(all.cace.iv.df[all.cace.iv.df$model!=\"manipulation check\",]$pvalue,all.results.pvalues))[1:3]\n",
    "all.cace.iv.df"
   ]
  },
  {
   "cell_type": "markdown",
   "metadata": {},
   "source": [
    "## Plot CACE"
   ]
  },
  {
   "cell_type": "code",
   "execution_count": 155,
   "metadata": {},
   "outputs": [],
   "source": [
    "dotsize = 1.5\n",
    "errorsize = 1\n",
    "all.cace.models.df <-  cbind(factor = rownames(all.cace.models.df), all.cace.models.df)"
   ]
  },
  {
   "cell_type": "code",
   "execution_count": 156,
   "metadata": {},
   "outputs": [
    {
     "data": {
      "text/html": [
       "<table class=\"dataframe\">\n",
       "<caption>A data.frame: 29 × 15</caption>\n",
       "<thead>\n",
       "\t<tr><th></th><th scope=col>factor</th><th scope=col>Estimate</th><th scope=col>Std..Error</th><th scope=col>t.value</th><th scope=col>pvalue</th><th scope=col>CI.Lower</th><th scope=col>CI.Upper</th><th scope=col>DF</th><th scope=col>model</th><th scope=col>z.value</th><th scope=col>n.size</th><th scope=col>n.thanked.count</th><th scope=col>estimator</th><th scope=col>lang</th><th scope=col>subgroup</th></tr>\n",
       "\t<tr><th></th><th scope=col>&lt;chr&gt;</th><th scope=col>&lt;dbl&gt;</th><th scope=col>&lt;dbl&gt;</th><th scope=col>&lt;dbl&gt;</th><th scope=col>&lt;dbl&gt;</th><th scope=col>&lt;dbl&gt;</th><th scope=col>&lt;dbl&gt;</th><th scope=col>&lt;int&gt;</th><th scope=col>&lt;chr&gt;</th><th scope=col>&lt;dbl&gt;</th><th scope=col>&lt;int&gt;</th><th scope=col>&lt;int&gt;</th><th scope=col>&lt;chr&gt;</th><th scope=col>&lt;chr&gt;</th><th scope=col>&lt;chr&gt;</th></tr>\n",
       "</thead>\n",
       "<tbody>\n",
       "\t<tr><th scope=row>iv</th><td>iv  </td><td> 0.216931217</td><td>0.095210286</td><td> 2.2784431</td><td>2.276941e-02</td><td> 3.024801e-02</td><td> 0.403614421</td><td> 3034</td><td>retention         </td><td>       NA</td><td> 3036</td><td> 189</td><td>2sls  </td><td>ar </td><td>newcomer   </td></tr>\n",
       "\t<tr><th scope=row>iv1</th><td>iv1 </td><td>-0.018740272</td><td>0.019547635</td><td>-0.9586977</td><td>3.377875e-01</td><td>-5.706822e-02</td><td> 0.019587678</td><td> 3034</td><td>labor hours       </td><td>       NA</td><td> 3036</td><td> 189</td><td>2sls  </td><td>ar </td><td>newcomer   </td></tr>\n",
       "\t<tr><th scope=row>iv2</th><td>iv2 </td><td> 3.256592773</td><td>3.498896428</td><td>        NA</td><td>3.519836e-01</td><td>-3.625012e+00</td><td>10.170850197</td><td> 3034</td><td>thanks sent       </td><td>0.9307485</td><td> 3036</td><td> 189</td><td>glm.nb</td><td>ar </td><td>newcomer   </td></tr>\n",
       "\t<tr><th scope=row>iv3</th><td>iv3 </td><td> 1.606349206</td><td>1.693240737</td><td> 0.9486833</td><td>3.553458e-01</td><td>-1.951018e+00</td><td> 5.163715989</td><td>   18</td><td>manipulation check</td><td>       NA</td><td>   22</td><td>  11</td><td>2sls  </td><td>ar </td><td>newcomer   </td></tr>\n",
       "\t<tr><th scope=row>iv4</th><td>iv4 </td><td> 0.035488959</td><td>0.022599886</td><td> 1.5703158</td><td>1.164012e-01</td><td>-8.816091e-03</td><td> 0.079794009</td><td> 5316</td><td>retention         </td><td>       NA</td><td> 5318</td><td>1268</td><td>2sls  </td><td>de </td><td>newcomer   </td></tr>\n",
       "\t<tr><th scope=row>iv11</th><td>iv11</td><td> 0.011657268</td><td>0.006062119</td><td> 1.9229691</td><td>5.453729e-02</td><td>-2.269731e-04</td><td> 0.023541508</td><td> 5316</td><td>labor hours       </td><td>       NA</td><td> 5318</td><td>1268</td><td>2sls  </td><td>de </td><td>newcomer   </td></tr>\n",
       "\t<tr><th scope=row>iv21</th><td>iv21</td><td> 1.376142852</td><td>0.546830224</td><td>        NA</td><td>1.184995e-02</td><td> 3.016257e-01</td><td> 2.452150019</td><td> 5316</td><td>thanks sent       </td><td>2.5165815</td><td> 5318</td><td>1268</td><td>glm.nb</td><td>de </td><td>newcomer   </td></tr>\n",
       "\t<tr><th scope=row>iv31</th><td>iv31</td><td> 0.774568733</td><td>0.162251151</td><td> 4.7738875</td><td>4.394985e-06</td><td> 4.538672e-01</td><td> 1.095270312</td><td>  144</td><td>manipulation check</td><td>       NA</td><td>  146</td><td>  74</td><td>2sls  </td><td>de </td><td>newcomer   </td></tr>\n",
       "\t<tr><th scope=row>iv5</th><td>iv5 </td><td> 0.121739130</td><td>0.141443359</td><td> 0.8606917</td><td>3.895346e-01</td><td>-1.556910e-01</td><td> 0.399169277</td><td> 1628</td><td>retention         </td><td>       NA</td><td> 1630</td><td> 115</td><td>2sls  </td><td>pl </td><td>newcomer   </td></tr>\n",
       "\t<tr><th scope=row>iv12</th><td>iv12</td><td> 0.027139291</td><td>0.033722951</td><td> 0.8047721</td><td>4.210687e-01</td><td>-3.900565e-02</td><td> 0.093284238</td><td> 1628</td><td>labor hours       </td><td>       NA</td><td> 1630</td><td> 115</td><td>2sls  </td><td>pl </td><td>newcomer   </td></tr>\n",
       "\t<tr><th scope=row>iv22</th><td>iv22</td><td> 6.355200875</td><td>3.187862832</td><td>        NA</td><td>4.619999e-02</td><td> 7.623563e-02</td><td>12.671563939</td><td> 1628</td><td>thanks sent       </td><td>1.9935616</td><td> 1630</td><td> 115</td><td>glm.nb</td><td>pl </td><td>newcomer   </td></tr>\n",
       "\t<tr><th scope=row>iv32</th><td>iv32</td><td> 1.889855072</td><td>1.527308098</td><td> 1.2373764</td><td>2.302788e-01</td><td>-1.296054e+00</td><td> 5.075763938</td><td>   20</td><td>manipulation check</td><td>       NA</td><td>   22</td><td>  12</td><td>2sls  </td><td>pl </td><td>newcomer   </td></tr>\n",
       "\t<tr><th scope=row>iv6</th><td>iv6 </td><td> 0.840000000</td><td>0.304429879</td><td> 2.7592561</td><td>5.838180e-03</td><td> 2.430212e-01</td><td> 1.436978807</td><td> 2352</td><td>retention         </td><td>       NA</td><td> 2354</td><td>  75</td><td>2sls  </td><td>fa </td><td>experienced</td></tr>\n",
       "\t<tr><th scope=row>iv23</th><td>iv23</td><td> 1.973274680</td><td>5.738428768</td><td>        NA</td><td>7.309439e-01</td><td>-9.379171e+00</td><td>13.326058453</td><td> 2352</td><td>thanks sent       </td><td>0.3438702</td><td> 2354</td><td>  75</td><td>glm.nb</td><td>fa </td><td>experienced</td></tr>\n",
       "\t<tr><th scope=row>iv33</th><td>iv33</td><td>-7.846666667</td><td>7.846666667</td><td>-1.0000000</td><td>4.226497e-01</td><td>-4.160815e+01</td><td>25.914815086</td><td>    2</td><td>manipulation check</td><td>       NA</td><td>    4</td><td>   2</td><td>2sls  </td><td>fa </td><td>experienced</td></tr>\n",
       "\t<tr><th scope=row>iv7</th><td>iv7 </td><td> 0.004739336</td><td>0.025529786</td><td> 0.1856395</td><td>8.527403e-01</td><td>-4.531877e-02</td><td> 0.054797448</td><td> 2934</td><td>retention         </td><td>       NA</td><td> 2936</td><td>1055</td><td>2sls  </td><td>pl </td><td>experienced</td></tr>\n",
       "\t<tr><th scope=row>iv24</th><td>iv24</td><td> 0.450001353</td><td>0.376782908</td><td>        NA</td><td>2.323508e-01</td><td>-2.922299e-01</td><td> 1.192278534</td><td> 2934</td><td>thanks sent       </td><td>1.1943253</td><td> 2936</td><td>1055</td><td>glm.nb</td><td>pl </td><td>experienced</td></tr>\n",
       "\t<tr><th scope=row>iv34</th><td>iv34</td><td> 0.390749379</td><td>0.056084804</td><td> 6.9671168</td><td>9.005972e-12</td><td> 2.805900e-01</td><td> 0.500908720</td><td>  567</td><td>manipulation check</td><td>       NA</td><td>  573</td><td> 270</td><td>2sls  </td><td>pl </td><td>experienced</td></tr>\n",
       "\t<tr><th scope=row>iv8</th><td>iv8 </td><td> 0.105408899</td><td>0.020993112</td><td> 5.0211184</td><td>5.225931e-07</td><td> 6.425817e-02</td><td> 0.146559632</td><td> 9982</td><td>retention         </td><td>       NA</td><td> 9984</td><td>1572</td><td>2sls  </td><td>all</td><td>newcomer   </td></tr>\n",
       "\t<tr><th scope=row>iv13</th><td>iv13</td><td> 0.010153043</td><td>0.005223702</td><td> 1.9436488</td><td>5.196588e-02</td><td>-8.646709e-05</td><td> 0.020392552</td><td> 9982</td><td>labor hours       </td><td>       NA</td><td> 9984</td><td>1572</td><td>2sls  </td><td>all</td><td>newcomer   </td></tr>\n",
       "\t<tr><th scope=row>iv25</th><td>iv25</td><td> 2.537117004</td><td>0.561968634</td><td>        NA</td><td>6.340794e-06</td><td> 1.438453e+00</td><td> 3.650019357</td><td> 9982</td><td>thanks sent       </td><td>4.5146950</td><td> 9984</td><td>1572</td><td>glm.nb</td><td>all</td><td>newcomer   </td></tr>\n",
       "\t<tr><th scope=row>iv35</th><td>iv35</td><td> 1.001842230</td><td>0.200025123</td><td> 5.0085820</td><td>1.268817e-06</td><td> 6.072326e-01</td><td> 1.396451815</td><td>  186</td><td>manipulation check</td><td>       NA</td><td>  190</td><td>  97</td><td>2sls  </td><td>all</td><td>newcomer   </td></tr>\n",
       "\t<tr><th scope=row>iv9</th><td>iv9 </td><td> 0.163524877</td><td>0.024928932</td><td> 6.5596423</td><td>5.907984e-11</td><td> 1.146539e-01</td><td> 0.212395872</td><td> 5288</td><td>retention         </td><td>       NA</td><td> 5290</td><td>1130</td><td>2sls  </td><td>all</td><td>experienced</td></tr>\n",
       "\t<tr><th scope=row>iv26</th><td>iv26</td><td> 0.754453498</td><td>0.404674280</td><td>        NA</td><td>6.227291e-02</td><td>-2.580041e-02</td><td> 1.534162078</td><td> 5288</td><td>thanks sent       </td><td>1.8643475</td><td> 5290</td><td>1130</td><td>glm.nb</td><td>all</td><td>experienced</td></tr>\n",
       "\t<tr><th scope=row>iv36</th><td>iv36</td><td> 0.621724800</td><td>0.093692814</td><td> 6.6357789</td><td>7.510324e-11</td><td> 4.377002e-01</td><td> 0.805749409</td><td>  571</td><td>manipulation check</td><td>       NA</td><td>  577</td><td> 272</td><td>2sls  </td><td>all</td><td>experienced</td></tr>\n",
       "\t<tr><th scope=row>iv10</th><td>iv10</td><td> 0.197622356</td><td>0.016224987</td><td>12.1801240</td><td>5.701594e-34</td><td> 1.658194e-01</td><td> 0.229425267</td><td>15272</td><td>retention         </td><td>       NA</td><td>15274</td><td>2702</td><td>2sls  </td><td>all</td><td>all        </td></tr>\n",
       "\t<tr><th scope=row>iv14</th><td>iv14</td><td> 0.001252543</td><td>0.004405865</td><td> 0.2842900</td><td>7.761920e-01</td><td>-7.383478e-03</td><td> 0.009888565</td><td>15272</td><td>labor hours       </td><td>       NA</td><td>15274</td><td>2702</td><td>2sls  </td><td>all</td><td>all        </td></tr>\n",
       "\t<tr><th scope=row>iv27</th><td>iv27</td><td> 1.541253787</td><td>0.357115721</td><td>        NA</td><td>1.589982e-05</td><td> 8.961659e-01</td><td> 2.190497607</td><td>15272</td><td>thanks sent       </td><td>4.3158385</td><td>15274</td><td>2702</td><td>glm.nb</td><td>all</td><td>all        </td></tr>\n",
       "\t<tr><th scope=row>iv37</th><td>iv37</td><td> 0.687856191</td><td>0.091222590</td><td> 7.5404151</td><td>1.339146e-13</td><td> 5.087776e-01</td><td> 0.866934747</td><td>  759</td><td>manipulation check</td><td>       NA</td><td>  767</td><td> 369</td><td>2sls  </td><td>all</td><td>all        </td></tr>\n",
       "</tbody>\n",
       "</table>\n"
      ],
      "text/latex": [
       "A data.frame: 29 × 15\n",
       "\\begin{tabular}{r|lllllllllllllll}\n",
       "  & factor & Estimate & Std..Error & t.value & pvalue & CI.Lower & CI.Upper & DF & model & z.value & n.size & n.thanked.count & estimator & lang & subgroup\\\\\n",
       "  & <chr> & <dbl> & <dbl> & <dbl> & <dbl> & <dbl> & <dbl> & <int> & <chr> & <dbl> & <int> & <int> & <chr> & <chr> & <chr>\\\\\n",
       "\\hline\n",
       "\tiv & iv   &  0.216931217 & 0.095210286 &  2.2784431 & 2.276941e-02 &  3.024801e-02 &  0.403614421 &  3034 & retention          &        NA &  3036 &  189 & 2sls   & ar  & newcomer   \\\\\n",
       "\tiv1 & iv1  & -0.018740272 & 0.019547635 & -0.9586977 & 3.377875e-01 & -5.706822e-02 &  0.019587678 &  3034 & labor hours        &        NA &  3036 &  189 & 2sls   & ar  & newcomer   \\\\\n",
       "\tiv2 & iv2  &  3.256592773 & 3.498896428 &         NA & 3.519836e-01 & -3.625012e+00 & 10.170850197 &  3034 & thanks sent        & 0.9307485 &  3036 &  189 & glm.nb & ar  & newcomer   \\\\\n",
       "\tiv3 & iv3  &  1.606349206 & 1.693240737 &  0.9486833 & 3.553458e-01 & -1.951018e+00 &  5.163715989 &    18 & manipulation check &        NA &    22 &   11 & 2sls   & ar  & newcomer   \\\\\n",
       "\tiv4 & iv4  &  0.035488959 & 0.022599886 &  1.5703158 & 1.164012e-01 & -8.816091e-03 &  0.079794009 &  5316 & retention          &        NA &  5318 & 1268 & 2sls   & de  & newcomer   \\\\\n",
       "\tiv11 & iv11 &  0.011657268 & 0.006062119 &  1.9229691 & 5.453729e-02 & -2.269731e-04 &  0.023541508 &  5316 & labor hours        &        NA &  5318 & 1268 & 2sls   & de  & newcomer   \\\\\n",
       "\tiv21 & iv21 &  1.376142852 & 0.546830224 &         NA & 1.184995e-02 &  3.016257e-01 &  2.452150019 &  5316 & thanks sent        & 2.5165815 &  5318 & 1268 & glm.nb & de  & newcomer   \\\\\n",
       "\tiv31 & iv31 &  0.774568733 & 0.162251151 &  4.7738875 & 4.394985e-06 &  4.538672e-01 &  1.095270312 &   144 & manipulation check &        NA &   146 &   74 & 2sls   & de  & newcomer   \\\\\n",
       "\tiv5 & iv5  &  0.121739130 & 0.141443359 &  0.8606917 & 3.895346e-01 & -1.556910e-01 &  0.399169277 &  1628 & retention          &        NA &  1630 &  115 & 2sls   & pl  & newcomer   \\\\\n",
       "\tiv12 & iv12 &  0.027139291 & 0.033722951 &  0.8047721 & 4.210687e-01 & -3.900565e-02 &  0.093284238 &  1628 & labor hours        &        NA &  1630 &  115 & 2sls   & pl  & newcomer   \\\\\n",
       "\tiv22 & iv22 &  6.355200875 & 3.187862832 &         NA & 4.619999e-02 &  7.623563e-02 & 12.671563939 &  1628 & thanks sent        & 1.9935616 &  1630 &  115 & glm.nb & pl  & newcomer   \\\\\n",
       "\tiv32 & iv32 &  1.889855072 & 1.527308098 &  1.2373764 & 2.302788e-01 & -1.296054e+00 &  5.075763938 &    20 & manipulation check &        NA &    22 &   12 & 2sls   & pl  & newcomer   \\\\\n",
       "\tiv6 & iv6  &  0.840000000 & 0.304429879 &  2.7592561 & 5.838180e-03 &  2.430212e-01 &  1.436978807 &  2352 & retention          &        NA &  2354 &   75 & 2sls   & fa  & experienced\\\\\n",
       "\tiv23 & iv23 &  1.973274680 & 5.738428768 &         NA & 7.309439e-01 & -9.379171e+00 & 13.326058453 &  2352 & thanks sent        & 0.3438702 &  2354 &   75 & glm.nb & fa  & experienced\\\\\n",
       "\tiv33 & iv33 & -7.846666667 & 7.846666667 & -1.0000000 & 4.226497e-01 & -4.160815e+01 & 25.914815086 &     2 & manipulation check &        NA &     4 &    2 & 2sls   & fa  & experienced\\\\\n",
       "\tiv7 & iv7  &  0.004739336 & 0.025529786 &  0.1856395 & 8.527403e-01 & -4.531877e-02 &  0.054797448 &  2934 & retention          &        NA &  2936 & 1055 & 2sls   & pl  & experienced\\\\\n",
       "\tiv24 & iv24 &  0.450001353 & 0.376782908 &         NA & 2.323508e-01 & -2.922299e-01 &  1.192278534 &  2934 & thanks sent        & 1.1943253 &  2936 & 1055 & glm.nb & pl  & experienced\\\\\n",
       "\tiv34 & iv34 &  0.390749379 & 0.056084804 &  6.9671168 & 9.005972e-12 &  2.805900e-01 &  0.500908720 &   567 & manipulation check &        NA &   573 &  270 & 2sls   & pl  & experienced\\\\\n",
       "\tiv8 & iv8  &  0.105408899 & 0.020993112 &  5.0211184 & 5.225931e-07 &  6.425817e-02 &  0.146559632 &  9982 & retention          &        NA &  9984 & 1572 & 2sls   & all & newcomer   \\\\\n",
       "\tiv13 & iv13 &  0.010153043 & 0.005223702 &  1.9436488 & 5.196588e-02 & -8.646709e-05 &  0.020392552 &  9982 & labor hours        &        NA &  9984 & 1572 & 2sls   & all & newcomer   \\\\\n",
       "\tiv25 & iv25 &  2.537117004 & 0.561968634 &         NA & 6.340794e-06 &  1.438453e+00 &  3.650019357 &  9982 & thanks sent        & 4.5146950 &  9984 & 1572 & glm.nb & all & newcomer   \\\\\n",
       "\tiv35 & iv35 &  1.001842230 & 0.200025123 &  5.0085820 & 1.268817e-06 &  6.072326e-01 &  1.396451815 &   186 & manipulation check &        NA &   190 &   97 & 2sls   & all & newcomer   \\\\\n",
       "\tiv9 & iv9  &  0.163524877 & 0.024928932 &  6.5596423 & 5.907984e-11 &  1.146539e-01 &  0.212395872 &  5288 & retention          &        NA &  5290 & 1130 & 2sls   & all & experienced\\\\\n",
       "\tiv26 & iv26 &  0.754453498 & 0.404674280 &         NA & 6.227291e-02 & -2.580041e-02 &  1.534162078 &  5288 & thanks sent        & 1.8643475 &  5290 & 1130 & glm.nb & all & experienced\\\\\n",
       "\tiv36 & iv36 &  0.621724800 & 0.093692814 &  6.6357789 & 7.510324e-11 &  4.377002e-01 &  0.805749409 &   571 & manipulation check &        NA &   577 &  272 & 2sls   & all & experienced\\\\\n",
       "\tiv10 & iv10 &  0.197622356 & 0.016224987 & 12.1801240 & 5.701594e-34 &  1.658194e-01 &  0.229425267 & 15272 & retention          &        NA & 15274 & 2702 & 2sls   & all & all        \\\\\n",
       "\tiv14 & iv14 &  0.001252543 & 0.004405865 &  0.2842900 & 7.761920e-01 & -7.383478e-03 &  0.009888565 & 15272 & labor hours        &        NA & 15274 & 2702 & 2sls   & all & all        \\\\\n",
       "\tiv27 & iv27 &  1.541253787 & 0.357115721 &         NA & 1.589982e-05 &  8.961659e-01 &  2.190497607 & 15272 & thanks sent        & 4.3158385 & 15274 & 2702 & glm.nb & all & all        \\\\\n",
       "\tiv37 & iv37 &  0.687856191 & 0.091222590 &  7.5404151 & 1.339146e-13 &  5.087776e-01 &  0.866934747 &   759 & manipulation check &        NA &   767 &  369 & 2sls   & all & all        \\\\\n",
       "\\end{tabular}\n"
      ],
      "text/markdown": [
       "\n",
       "A data.frame: 29 × 15\n",
       "\n",
       "| <!--/--> | factor &lt;chr&gt; | Estimate &lt;dbl&gt; | Std..Error &lt;dbl&gt; | t.value &lt;dbl&gt; | pvalue &lt;dbl&gt; | CI.Lower &lt;dbl&gt; | CI.Upper &lt;dbl&gt; | DF &lt;int&gt; | model &lt;chr&gt; | z.value &lt;dbl&gt; | n.size &lt;int&gt; | n.thanked.count &lt;int&gt; | estimator &lt;chr&gt; | lang &lt;chr&gt; | subgroup &lt;chr&gt; |\n",
       "|---|---|---|---|---|---|---|---|---|---|---|---|---|---|---|---|\n",
       "| iv | iv   |  0.216931217 | 0.095210286 |  2.2784431 | 2.276941e-02 |  3.024801e-02 |  0.403614421 |  3034 | retention          |        NA |  3036 |  189 | 2sls   | ar  | newcomer    |\n",
       "| iv1 | iv1  | -0.018740272 | 0.019547635 | -0.9586977 | 3.377875e-01 | -5.706822e-02 |  0.019587678 |  3034 | labor hours        |        NA |  3036 |  189 | 2sls   | ar  | newcomer    |\n",
       "| iv2 | iv2  |  3.256592773 | 3.498896428 |         NA | 3.519836e-01 | -3.625012e+00 | 10.170850197 |  3034 | thanks sent        | 0.9307485 |  3036 |  189 | glm.nb | ar  | newcomer    |\n",
       "| iv3 | iv3  |  1.606349206 | 1.693240737 |  0.9486833 | 3.553458e-01 | -1.951018e+00 |  5.163715989 |    18 | manipulation check |        NA |    22 |   11 | 2sls   | ar  | newcomer    |\n",
       "| iv4 | iv4  |  0.035488959 | 0.022599886 |  1.5703158 | 1.164012e-01 | -8.816091e-03 |  0.079794009 |  5316 | retention          |        NA |  5318 | 1268 | 2sls   | de  | newcomer    |\n",
       "| iv11 | iv11 |  0.011657268 | 0.006062119 |  1.9229691 | 5.453729e-02 | -2.269731e-04 |  0.023541508 |  5316 | labor hours        |        NA |  5318 | 1268 | 2sls   | de  | newcomer    |\n",
       "| iv21 | iv21 |  1.376142852 | 0.546830224 |         NA | 1.184995e-02 |  3.016257e-01 |  2.452150019 |  5316 | thanks sent        | 2.5165815 |  5318 | 1268 | glm.nb | de  | newcomer    |\n",
       "| iv31 | iv31 |  0.774568733 | 0.162251151 |  4.7738875 | 4.394985e-06 |  4.538672e-01 |  1.095270312 |   144 | manipulation check |        NA |   146 |   74 | 2sls   | de  | newcomer    |\n",
       "| iv5 | iv5  |  0.121739130 | 0.141443359 |  0.8606917 | 3.895346e-01 | -1.556910e-01 |  0.399169277 |  1628 | retention          |        NA |  1630 |  115 | 2sls   | pl  | newcomer    |\n",
       "| iv12 | iv12 |  0.027139291 | 0.033722951 |  0.8047721 | 4.210687e-01 | -3.900565e-02 |  0.093284238 |  1628 | labor hours        |        NA |  1630 |  115 | 2sls   | pl  | newcomer    |\n",
       "| iv22 | iv22 |  6.355200875 | 3.187862832 |         NA | 4.619999e-02 |  7.623563e-02 | 12.671563939 |  1628 | thanks sent        | 1.9935616 |  1630 |  115 | glm.nb | pl  | newcomer    |\n",
       "| iv32 | iv32 |  1.889855072 | 1.527308098 |  1.2373764 | 2.302788e-01 | -1.296054e+00 |  5.075763938 |    20 | manipulation check |        NA |    22 |   12 | 2sls   | pl  | newcomer    |\n",
       "| iv6 | iv6  |  0.840000000 | 0.304429879 |  2.7592561 | 5.838180e-03 |  2.430212e-01 |  1.436978807 |  2352 | retention          |        NA |  2354 |   75 | 2sls   | fa  | experienced |\n",
       "| iv23 | iv23 |  1.973274680 | 5.738428768 |         NA | 7.309439e-01 | -9.379171e+00 | 13.326058453 |  2352 | thanks sent        | 0.3438702 |  2354 |   75 | glm.nb | fa  | experienced |\n",
       "| iv33 | iv33 | -7.846666667 | 7.846666667 | -1.0000000 | 4.226497e-01 | -4.160815e+01 | 25.914815086 |     2 | manipulation check |        NA |     4 |    2 | 2sls   | fa  | experienced |\n",
       "| iv7 | iv7  |  0.004739336 | 0.025529786 |  0.1856395 | 8.527403e-01 | -4.531877e-02 |  0.054797448 |  2934 | retention          |        NA |  2936 | 1055 | 2sls   | pl  | experienced |\n",
       "| iv24 | iv24 |  0.450001353 | 0.376782908 |         NA | 2.323508e-01 | -2.922299e-01 |  1.192278534 |  2934 | thanks sent        | 1.1943253 |  2936 | 1055 | glm.nb | pl  | experienced |\n",
       "| iv34 | iv34 |  0.390749379 | 0.056084804 |  6.9671168 | 9.005972e-12 |  2.805900e-01 |  0.500908720 |   567 | manipulation check |        NA |   573 |  270 | 2sls   | pl  | experienced |\n",
       "| iv8 | iv8  |  0.105408899 | 0.020993112 |  5.0211184 | 5.225931e-07 |  6.425817e-02 |  0.146559632 |  9982 | retention          |        NA |  9984 | 1572 | 2sls   | all | newcomer    |\n",
       "| iv13 | iv13 |  0.010153043 | 0.005223702 |  1.9436488 | 5.196588e-02 | -8.646709e-05 |  0.020392552 |  9982 | labor hours        |        NA |  9984 | 1572 | 2sls   | all | newcomer    |\n",
       "| iv25 | iv25 |  2.537117004 | 0.561968634 |         NA | 6.340794e-06 |  1.438453e+00 |  3.650019357 |  9982 | thanks sent        | 4.5146950 |  9984 | 1572 | glm.nb | all | newcomer    |\n",
       "| iv35 | iv35 |  1.001842230 | 0.200025123 |  5.0085820 | 1.268817e-06 |  6.072326e-01 |  1.396451815 |   186 | manipulation check |        NA |   190 |   97 | 2sls   | all | newcomer    |\n",
       "| iv9 | iv9  |  0.163524877 | 0.024928932 |  6.5596423 | 5.907984e-11 |  1.146539e-01 |  0.212395872 |  5288 | retention          |        NA |  5290 | 1130 | 2sls   | all | experienced |\n",
       "| iv26 | iv26 |  0.754453498 | 0.404674280 |         NA | 6.227291e-02 | -2.580041e-02 |  1.534162078 |  5288 | thanks sent        | 1.8643475 |  5290 | 1130 | glm.nb | all | experienced |\n",
       "| iv36 | iv36 |  0.621724800 | 0.093692814 |  6.6357789 | 7.510324e-11 |  4.377002e-01 |  0.805749409 |   571 | manipulation check |        NA |   577 |  272 | 2sls   | all | experienced |\n",
       "| iv10 | iv10 |  0.197622356 | 0.016224987 | 12.1801240 | 5.701594e-34 |  1.658194e-01 |  0.229425267 | 15272 | retention          |        NA | 15274 | 2702 | 2sls   | all | all         |\n",
       "| iv14 | iv14 |  0.001252543 | 0.004405865 |  0.2842900 | 7.761920e-01 | -7.383478e-03 |  0.009888565 | 15272 | labor hours        |        NA | 15274 | 2702 | 2sls   | all | all         |\n",
       "| iv27 | iv27 |  1.541253787 | 0.357115721 |         NA | 1.589982e-05 |  8.961659e-01 |  2.190497607 | 15272 | thanks sent        | 4.3158385 | 15274 | 2702 | glm.nb | all | all         |\n",
       "| iv37 | iv37 |  0.687856191 | 0.091222590 |  7.5404151 | 1.339146e-13 |  5.087776e-01 |  0.866934747 |   759 | manipulation check |        NA |   767 |  369 | 2sls   | all | all         |\n",
       "\n"
      ],
      "text/plain": [
       "     factor Estimate     Std..Error  t.value    pvalue       CI.Lower     \n",
       "iv   iv      0.216931217 0.095210286  2.2784431 2.276941e-02  3.024801e-02\n",
       "iv1  iv1    -0.018740272 0.019547635 -0.9586977 3.377875e-01 -5.706822e-02\n",
       "iv2  iv2     3.256592773 3.498896428         NA 3.519836e-01 -3.625012e+00\n",
       "iv3  iv3     1.606349206 1.693240737  0.9486833 3.553458e-01 -1.951018e+00\n",
       "iv4  iv4     0.035488959 0.022599886  1.5703158 1.164012e-01 -8.816091e-03\n",
       "iv11 iv11    0.011657268 0.006062119  1.9229691 5.453729e-02 -2.269731e-04\n",
       "iv21 iv21    1.376142852 0.546830224         NA 1.184995e-02  3.016257e-01\n",
       "iv31 iv31    0.774568733 0.162251151  4.7738875 4.394985e-06  4.538672e-01\n",
       "iv5  iv5     0.121739130 0.141443359  0.8606917 3.895346e-01 -1.556910e-01\n",
       "iv12 iv12    0.027139291 0.033722951  0.8047721 4.210687e-01 -3.900565e-02\n",
       "iv22 iv22    6.355200875 3.187862832         NA 4.619999e-02  7.623563e-02\n",
       "iv32 iv32    1.889855072 1.527308098  1.2373764 2.302788e-01 -1.296054e+00\n",
       "iv6  iv6     0.840000000 0.304429879  2.7592561 5.838180e-03  2.430212e-01\n",
       "iv23 iv23    1.973274680 5.738428768         NA 7.309439e-01 -9.379171e+00\n",
       "iv33 iv33   -7.846666667 7.846666667 -1.0000000 4.226497e-01 -4.160815e+01\n",
       "iv7  iv7     0.004739336 0.025529786  0.1856395 8.527403e-01 -4.531877e-02\n",
       "iv24 iv24    0.450001353 0.376782908         NA 2.323508e-01 -2.922299e-01\n",
       "iv34 iv34    0.390749379 0.056084804  6.9671168 9.005972e-12  2.805900e-01\n",
       "iv8  iv8     0.105408899 0.020993112  5.0211184 5.225931e-07  6.425817e-02\n",
       "iv13 iv13    0.010153043 0.005223702  1.9436488 5.196588e-02 -8.646709e-05\n",
       "iv25 iv25    2.537117004 0.561968634         NA 6.340794e-06  1.438453e+00\n",
       "iv35 iv35    1.001842230 0.200025123  5.0085820 1.268817e-06  6.072326e-01\n",
       "iv9  iv9     0.163524877 0.024928932  6.5596423 5.907984e-11  1.146539e-01\n",
       "iv26 iv26    0.754453498 0.404674280         NA 6.227291e-02 -2.580041e-02\n",
       "iv36 iv36    0.621724800 0.093692814  6.6357789 7.510324e-11  4.377002e-01\n",
       "iv10 iv10    0.197622356 0.016224987 12.1801240 5.701594e-34  1.658194e-01\n",
       "iv14 iv14    0.001252543 0.004405865  0.2842900 7.761920e-01 -7.383478e-03\n",
       "iv27 iv27    1.541253787 0.357115721         NA 1.589982e-05  8.961659e-01\n",
       "iv37 iv37    0.687856191 0.091222590  7.5404151 1.339146e-13  5.087776e-01\n",
       "     CI.Upper     DF    model              z.value   n.size n.thanked.count\n",
       "iv    0.403614421  3034 retention                 NA  3036   189           \n",
       "iv1   0.019587678  3034 labor hours               NA  3036   189           \n",
       "iv2  10.170850197  3034 thanks sent        0.9307485  3036   189           \n",
       "iv3   5.163715989    18 manipulation check        NA    22    11           \n",
       "iv4   0.079794009  5316 retention                 NA  5318  1268           \n",
       "iv11  0.023541508  5316 labor hours               NA  5318  1268           \n",
       "iv21  2.452150019  5316 thanks sent        2.5165815  5318  1268           \n",
       "iv31  1.095270312   144 manipulation check        NA   146    74           \n",
       "iv5   0.399169277  1628 retention                 NA  1630   115           \n",
       "iv12  0.093284238  1628 labor hours               NA  1630   115           \n",
       "iv22 12.671563939  1628 thanks sent        1.9935616  1630   115           \n",
       "iv32  5.075763938    20 manipulation check        NA    22    12           \n",
       "iv6   1.436978807  2352 retention                 NA  2354    75           \n",
       "iv23 13.326058453  2352 thanks sent        0.3438702  2354    75           \n",
       "iv33 25.914815086     2 manipulation check        NA     4     2           \n",
       "iv7   0.054797448  2934 retention                 NA  2936  1055           \n",
       "iv24  1.192278534  2934 thanks sent        1.1943253  2936  1055           \n",
       "iv34  0.500908720   567 manipulation check        NA   573   270           \n",
       "iv8   0.146559632  9982 retention                 NA  9984  1572           \n",
       "iv13  0.020392552  9982 labor hours               NA  9984  1572           \n",
       "iv25  3.650019357  9982 thanks sent        4.5146950  9984  1572           \n",
       "iv35  1.396451815   186 manipulation check        NA   190    97           \n",
       "iv9   0.212395872  5288 retention                 NA  5290  1130           \n",
       "iv26  1.534162078  5288 thanks sent        1.8643475  5290  1130           \n",
       "iv36  0.805749409   571 manipulation check        NA   577   272           \n",
       "iv10  0.229425267 15272 retention                 NA 15274  2702           \n",
       "iv14  0.009888565 15272 labor hours               NA 15274  2702           \n",
       "iv27  2.190497607 15272 thanks sent        4.3158385 15274  2702           \n",
       "iv37  0.866934747   759 manipulation check        NA   767   369           \n",
       "     estimator lang subgroup   \n",
       "iv   2sls      ar   newcomer   \n",
       "iv1  2sls      ar   newcomer   \n",
       "iv2  glm.nb    ar   newcomer   \n",
       "iv3  2sls      ar   newcomer   \n",
       "iv4  2sls      de   newcomer   \n",
       "iv11 2sls      de   newcomer   \n",
       "iv21 glm.nb    de   newcomer   \n",
       "iv31 2sls      de   newcomer   \n",
       "iv5  2sls      pl   newcomer   \n",
       "iv12 2sls      pl   newcomer   \n",
       "iv22 glm.nb    pl   newcomer   \n",
       "iv32 2sls      pl   newcomer   \n",
       "iv6  2sls      fa   experienced\n",
       "iv23 glm.nb    fa   experienced\n",
       "iv33 2sls      fa   experienced\n",
       "iv7  2sls      pl   experienced\n",
       "iv24 glm.nb    pl   experienced\n",
       "iv34 2sls      pl   experienced\n",
       "iv8  2sls      all  newcomer   \n",
       "iv13 2sls      all  newcomer   \n",
       "iv25 glm.nb    all  newcomer   \n",
       "iv35 2sls      all  newcomer   \n",
       "iv9  2sls      all  experienced\n",
       "iv26 glm.nb    all  experienced\n",
       "iv36 2sls      all  experienced\n",
       "iv10 2sls      all  all        \n",
       "iv14 2sls      all  all        \n",
       "iv27 glm.nb    all  all        \n",
       "iv37 2sls      all  all        "
      ]
     },
     "metadata": {},
     "output_type": "display_data"
    }
   ],
   "source": [
    "all.cace.models.iv.df <- subset(all.cace.models.df, substring(all.cace.models.df$factor, 0,2)==\"iv\")\n",
    "all.cace.models.iv.df"
   ]
  },
  {
   "cell_type": "markdown",
   "metadata": {},
   "source": [
    "### Plot IV Labor Hours"
   ]
  },
  {
   "cell_type": "code",
   "execution_count": 157,
   "metadata": {},
   "outputs": [],
   "source": [
    "options(repr.plot.width = 8, repr.plot.height = 5, repr.plot.res = 100)\n",
    "\n",
    "lh1 <- subset(all.cace.models.iv.df, model==\"labor hours\" & lang == \"all\" & subgroup==\"newcomer\")\n",
    "\n",
    "lh2 <- subset(all.cace.models.iv.df, model==\"labor hours\" & subgroup==\"newcomer\" & lang!=\"all\")\n"
   ]
  },
  {
   "cell_type": "code",
   "execution_count": 158,
   "metadata": {},
   "outputs": [],
   "source": [
    "labor.hours.iv.participants.count <- prettyNum(lh1$n.size, big.mark=\",\")\n",
    "labor.hours.iv.participants.count.new.ar <- prettyNum(subset(lh2, lang==\"ar\")$n.size, big.mark=',')\n",
    "labor.hours.iv.participants.count.new.de <- prettyNum(subset(lh2, lang==\"de\")$n.size, big.mark=',')\n",
    "labor.hours.iv.participants.count.new.pl <-prettyNum(subset(lh2, lang==\"pl\")$n.size, big.mark=',')\n",
    "labor.hours.iv.participants.assigned.perc <-round(lh1$n.thanked.count/(lh1$n.size/2)*100)\n",
    "labor.hours.iv.participants.assigned.total <-prettyNum(lh1$n.size/2, big.mark=\",\")\n",
    "labor.hours.iv.participants.assigned.dimest <- prettyNum(lh1$pvalue, digits=2)\n",
    "labor.hours.iv.ylab <- \"Difference in\\nDaily Labor Hours\"\n",
    "\n",
    "\n",
    "labor.hours.iv.plot.caption <- str_interp(\"This study did not detect an effect of organized thanks on changes in the amount of time that \n",
    "newcomers contribute to Wikipedia on average.\")"
   ]
  },
  {
   "cell_type": "code",
   "execution_count": 159,
   "metadata": {},
   "outputs": [
    {
     "data": {
      "text/html": [
       "<table class=\"dataframe\">\n",
       "<caption>A data.frame: 1 × 15</caption>\n",
       "<thead>\n",
       "\t<tr><th></th><th scope=col>factor</th><th scope=col>Estimate</th><th scope=col>Std..Error</th><th scope=col>t.value</th><th scope=col>pvalue</th><th scope=col>CI.Lower</th><th scope=col>CI.Upper</th><th scope=col>DF</th><th scope=col>model</th><th scope=col>z.value</th><th scope=col>n.size</th><th scope=col>n.thanked.count</th><th scope=col>estimator</th><th scope=col>lang</th><th scope=col>subgroup</th></tr>\n",
       "\t<tr><th></th><th scope=col>&lt;chr&gt;</th><th scope=col>&lt;dbl&gt;</th><th scope=col>&lt;dbl&gt;</th><th scope=col>&lt;dbl&gt;</th><th scope=col>&lt;dbl&gt;</th><th scope=col>&lt;dbl&gt;</th><th scope=col>&lt;dbl&gt;</th><th scope=col>&lt;int&gt;</th><th scope=col>&lt;chr&gt;</th><th scope=col>&lt;dbl&gt;</th><th scope=col>&lt;int&gt;</th><th scope=col>&lt;int&gt;</th><th scope=col>&lt;chr&gt;</th><th scope=col>&lt;chr&gt;</th><th scope=col>&lt;chr&gt;</th></tr>\n",
       "</thead>\n",
       "<tbody>\n",
       "\t<tr><th scope=row>iv13</th><td>iv13</td><td>0.01015304</td><td>0.005223702</td><td>1.943649</td><td>0.05196588</td><td>-8.646709e-05</td><td>0.02039255</td><td>9982</td><td>labor hours</td><td>NA</td><td>9984</td><td>1572</td><td>2sls</td><td>all</td><td>newcomer</td></tr>\n",
       "</tbody>\n",
       "</table>\n"
      ],
      "text/latex": [
       "A data.frame: 1 × 15\n",
       "\\begin{tabular}{r|lllllllllllllll}\n",
       "  & factor & Estimate & Std..Error & t.value & pvalue & CI.Lower & CI.Upper & DF & model & z.value & n.size & n.thanked.count & estimator & lang & subgroup\\\\\n",
       "  & <chr> & <dbl> & <dbl> & <dbl> & <dbl> & <dbl> & <dbl> & <int> & <chr> & <dbl> & <int> & <int> & <chr> & <chr> & <chr>\\\\\n",
       "\\hline\n",
       "\tiv13 & iv13 & 0.01015304 & 0.005223702 & 1.943649 & 0.05196588 & -8.646709e-05 & 0.02039255 & 9982 & labor hours & NA & 9984 & 1572 & 2sls & all & newcomer\\\\\n",
       "\\end{tabular}\n"
      ],
      "text/markdown": [
       "\n",
       "A data.frame: 1 × 15\n",
       "\n",
       "| <!--/--> | factor &lt;chr&gt; | Estimate &lt;dbl&gt; | Std..Error &lt;dbl&gt; | t.value &lt;dbl&gt; | pvalue &lt;dbl&gt; | CI.Lower &lt;dbl&gt; | CI.Upper &lt;dbl&gt; | DF &lt;int&gt; | model &lt;chr&gt; | z.value &lt;dbl&gt; | n.size &lt;int&gt; | n.thanked.count &lt;int&gt; | estimator &lt;chr&gt; | lang &lt;chr&gt; | subgroup &lt;chr&gt; |\n",
       "|---|---|---|---|---|---|---|---|---|---|---|---|---|---|---|---|\n",
       "| iv13 | iv13 | 0.01015304 | 0.005223702 | 1.943649 | 0.05196588 | -8.646709e-05 | 0.02039255 | 9982 | labor hours | NA | 9984 | 1572 | 2sls | all | newcomer |\n",
       "\n"
      ],
      "text/plain": [
       "     factor Estimate   Std..Error  t.value  pvalue     CI.Lower      CI.Upper  \n",
       "iv13 iv13   0.01015304 0.005223702 1.943649 0.05196588 -8.646709e-05 0.02039255\n",
       "     DF   model       z.value n.size n.thanked.count estimator lang subgroup\n",
       "iv13 9982 labor hours NA      9984   1572            2sls      all  newcomer"
      ]
     },
     "metadata": {},
     "output_type": "display_data"
    }
   ],
   "source": [
    "lh1"
   ]
  },
  {
   "cell_type": "code",
   "execution_count": 204,
   "metadata": {},
   "outputs": [],
   "source": [
    "lh.all.plot <- ggplot(lh1, aes(lang, Estimate)) +\n",
    "        geom_hline(yintercept = 0, linetype=\"dashed\", color=\"#999999\") +\n",
    "        geom_errorbar(aes(ymax=CI.Upper, ymin=CI.Lower), \n",
    "                      size=errorsize, color=chartpalette[1], width=0.1) +\n",
    "        geom_point(color=chartpalette[1], size=dotsize) +\n",
    "        ylab(labor.hours.iv.ylab) +\n",
    "        cat.theme + \n",
    "        theme(axis.title.x=element_blank(),\n",
    "              axis.text.x = element_text(size=12, face=\"bold\", color=chartpalette[1])) +\n",
    "        ylim(-0.06, 0.1)\n",
    "\n",
    "#lh.all.plot"
   ]
  },
  {
   "cell_type": "code",
   "execution_count": 164,
   "metadata": {},
   "outputs": [
    {
     "data": {
      "text/html": [
       "<table class=\"dataframe\">\n",
       "<caption>A data.frame: 3 × 15</caption>\n",
       "<thead>\n",
       "\t<tr><th></th><th scope=col>factor</th><th scope=col>Estimate</th><th scope=col>Std..Error</th><th scope=col>t.value</th><th scope=col>pvalue</th><th scope=col>CI.Lower</th><th scope=col>CI.Upper</th><th scope=col>DF</th><th scope=col>model</th><th scope=col>z.value</th><th scope=col>n.size</th><th scope=col>n.thanked.count</th><th scope=col>estimator</th><th scope=col>lang</th><th scope=col>subgroup</th></tr>\n",
       "\t<tr><th></th><th scope=col>&lt;chr&gt;</th><th scope=col>&lt;dbl&gt;</th><th scope=col>&lt;dbl&gt;</th><th scope=col>&lt;dbl&gt;</th><th scope=col>&lt;dbl&gt;</th><th scope=col>&lt;dbl&gt;</th><th scope=col>&lt;dbl&gt;</th><th scope=col>&lt;int&gt;</th><th scope=col>&lt;chr&gt;</th><th scope=col>&lt;dbl&gt;</th><th scope=col>&lt;int&gt;</th><th scope=col>&lt;int&gt;</th><th scope=col>&lt;chr&gt;</th><th scope=col>&lt;chr&gt;</th><th scope=col>&lt;chr&gt;</th></tr>\n",
       "</thead>\n",
       "<tbody>\n",
       "\t<tr><th scope=row>iv1</th><td>iv1 </td><td>-0.01874027</td><td>0.019547635</td><td>-0.9586977</td><td>0.33778746</td><td>-0.0570682221</td><td>0.01958768</td><td>3034</td><td>labor hours</td><td>NA</td><td>3036</td><td> 189</td><td>2sls</td><td>ar</td><td>newcomer</td></tr>\n",
       "\t<tr><th scope=row>iv11</th><td>iv11</td><td> 0.01165727</td><td>0.006062119</td><td> 1.9229691</td><td>0.05453729</td><td>-0.0002269731</td><td>0.02354151</td><td>5316</td><td>labor hours</td><td>NA</td><td>5318</td><td>1268</td><td>2sls</td><td>de</td><td>newcomer</td></tr>\n",
       "\t<tr><th scope=row>iv12</th><td>iv12</td><td> 0.02713929</td><td>0.033722951</td><td> 0.8047721</td><td>0.42106870</td><td>-0.0390056546</td><td>0.09328424</td><td>1628</td><td>labor hours</td><td>NA</td><td>1630</td><td> 115</td><td>2sls</td><td>pl</td><td>newcomer</td></tr>\n",
       "</tbody>\n",
       "</table>\n"
      ],
      "text/latex": [
       "A data.frame: 3 × 15\n",
       "\\begin{tabular}{r|lllllllllllllll}\n",
       "  & factor & Estimate & Std..Error & t.value & pvalue & CI.Lower & CI.Upper & DF & model & z.value & n.size & n.thanked.count & estimator & lang & subgroup\\\\\n",
       "  & <chr> & <dbl> & <dbl> & <dbl> & <dbl> & <dbl> & <dbl> & <int> & <chr> & <dbl> & <int> & <int> & <chr> & <chr> & <chr>\\\\\n",
       "\\hline\n",
       "\tiv1 & iv1  & -0.01874027 & 0.019547635 & -0.9586977 & 0.33778746 & -0.0570682221 & 0.01958768 & 3034 & labor hours & NA & 3036 &  189 & 2sls & ar & newcomer\\\\\n",
       "\tiv11 & iv11 &  0.01165727 & 0.006062119 &  1.9229691 & 0.05453729 & -0.0002269731 & 0.02354151 & 5316 & labor hours & NA & 5318 & 1268 & 2sls & de & newcomer\\\\\n",
       "\tiv12 & iv12 &  0.02713929 & 0.033722951 &  0.8047721 & 0.42106870 & -0.0390056546 & 0.09328424 & 1628 & labor hours & NA & 1630 &  115 & 2sls & pl & newcomer\\\\\n",
       "\\end{tabular}\n"
      ],
      "text/markdown": [
       "\n",
       "A data.frame: 3 × 15\n",
       "\n",
       "| <!--/--> | factor &lt;chr&gt; | Estimate &lt;dbl&gt; | Std..Error &lt;dbl&gt; | t.value &lt;dbl&gt; | pvalue &lt;dbl&gt; | CI.Lower &lt;dbl&gt; | CI.Upper &lt;dbl&gt; | DF &lt;int&gt; | model &lt;chr&gt; | z.value &lt;dbl&gt; | n.size &lt;int&gt; | n.thanked.count &lt;int&gt; | estimator &lt;chr&gt; | lang &lt;chr&gt; | subgroup &lt;chr&gt; |\n",
       "|---|---|---|---|---|---|---|---|---|---|---|---|---|---|---|---|\n",
       "| iv1 | iv1  | -0.01874027 | 0.019547635 | -0.9586977 | 0.33778746 | -0.0570682221 | 0.01958768 | 3034 | labor hours | NA | 3036 |  189 | 2sls | ar | newcomer |\n",
       "| iv11 | iv11 |  0.01165727 | 0.006062119 |  1.9229691 | 0.05453729 | -0.0002269731 | 0.02354151 | 5316 | labor hours | NA | 5318 | 1268 | 2sls | de | newcomer |\n",
       "| iv12 | iv12 |  0.02713929 | 0.033722951 |  0.8047721 | 0.42106870 | -0.0390056546 | 0.09328424 | 1628 | labor hours | NA | 1630 |  115 | 2sls | pl | newcomer |\n",
       "\n"
      ],
      "text/plain": [
       "     factor Estimate    Std..Error  t.value    pvalue     CI.Lower     \n",
       "iv1  iv1    -0.01874027 0.019547635 -0.9586977 0.33778746 -0.0570682221\n",
       "iv11 iv11    0.01165727 0.006062119  1.9229691 0.05453729 -0.0002269731\n",
       "iv12 iv12    0.02713929 0.033722951  0.8047721 0.42106870 -0.0390056546\n",
       "     CI.Upper   DF   model       z.value n.size n.thanked.count estimator lang\n",
       "iv1  0.01958768 3034 labor hours NA      3036    189            2sls      ar  \n",
       "iv11 0.02354151 5316 labor hours NA      5318   1268            2sls      de  \n",
       "iv12 0.09328424 1628 labor hours NA      1630    115            2sls      pl  \n",
       "     subgroup\n",
       "iv1  newcomer\n",
       "iv11 newcomer\n",
       "iv12 newcomer"
      ]
     },
     "metadata": {},
     "output_type": "display_data"
    }
   ],
   "source": [
    "lh2"
   ]
  },
  {
   "cell_type": "code",
   "execution_count": 205,
   "metadata": {},
   "outputs": [],
   "source": [
    "lh.lang.plot <- ggplot(lh2, aes(lang, Estimate)) +\n",
    "        geom_hline(yintercept = 0, linetype=\"dashed\", color=\"#999999\") +\n",
    "        geom_errorbar(aes(ymax=CI.Upper, ymin=CI.Lower), \n",
    "                      size=errorsize, color=chartpalette[3], width=0.1) +\n",
    "        geom_point(color=chartpalette[3], size=dotsize) +\n",
    "        cat.theme +\n",
    "        theme(axis.text.y = element_blank(),\n",
    "              axis.title  = element_blank(), \n",
    "              axis.title.x=element_blank(),\n",
    "              axis.text.x = element_text(size=12, face=\"bold\", color=chartpalette[3])) +\n",
    "         ylab(\"\") +\n",
    "         xlab(\"\") +\n",
    "        ylim(-0.06, 0.1)\n",
    "\n",
    "#lh.lang.plot"
   ]
  },
  {
   "cell_type": "code",
   "execution_count": 167,
   "metadata": {},
   "outputs": [
    {
     "data": {
      "image/png": "[encoded data removed]",
      "text/plain": [
       "plot without title"
      ]
     },
     "metadata": {
      "image/png": {
       "height": 250,
       "width": 400
      }
     },
     "output_type": "display_data"
    }
   ],
   "source": [
    "labor.hours.iv.plot <- ggarrange(lh.all.plot, lh.lang.plot, ncol=2, nrow=1, widths=c(1.5,3.2))\n",
    "\n",
    "ggsave(file.path('../figs', 'labor.hours.iv.plot.pdf'),\n",
    "       width=6, height=2 , units='in', device=\"pdf\",\n",
    "       plot=labor.hours.iv.plot)\n",
    "\n",
    "labor.hours.iv.plot\n",
    "\n",
    "## keep for compatibility with previous versions of ggplot2 \n",
    "# labor.hours.iv.plot <- annotate_figure(labor.hours.iv.plot,\n",
    "#                         bottom=text_grob(labor.hours.iv.plot.caption, \n",
    "#                                          hjust=0, x=0, size=10, \n",
    "#                                          color=chartpalette[4])) +\n",
    "#                     ggsave(file.path('../figs', 'labor.hours.iv.plot.png'),\n",
    "#                           width=6, height=3.375 , units='in')\n",
    "#labor.hours.iv.plot"
   ]
  },
  {
   "cell_type": "markdown",
   "metadata": {},
   "source": [
    "### Plot IV Two Week Retention"
   ]
  },
  {
   "cell_type": "code",
   "execution_count": 183,
   "metadata": {},
   "outputs": [],
   "source": [
    "options(repr.plot.width = 8, repr.plot.height = 5, repr.plot.res = 100)\n",
    "\n",
    "ymax = 0.5\n",
    "ymin = -0.2"
   ]
  },
  {
   "cell_type": "code",
   "execution_count": 184,
   "metadata": {},
   "outputs": [],
   "source": [
    "#all.cace.models.iv.df\n",
    "twr1 <- subset(all.cace.models.iv.df, model==\"retention\" & lang == \"all\" & subgroup == \"all\")\n",
    "twr2 <- subset(all.cace.models.iv.df, model==\"retention\" & lang!=\"all\" & subgroup == \"newcomer\")\n",
    "# twr3 <- subset(all.newcomer.results, model==\"retention\")\n",
    "twr4 <- subset(all.lang.results, model==\"retention\" & lang != \"all\" & subgroup == \"experienced\")"
   ]
  },
  {
   "cell_type": "code",
   "execution_count": 185,
   "metadata": {},
   "outputs": [],
   "source": [
    "retention.iv.plot.est <- prettyNum(twr1$Estimate*100, digits=1, format=\"fg\")\n",
    "retention.iv.plot.count.part <-prettyNum(twr1$n.size, big.mark=\",\")\n",
    "retention.iv.plot.count.part.new.ar <- prettyNum(subset(twr2, lang==\"ar\")$n.size, big.mark=',')\n",
    "retention.iv.plot.count.part.new.de <- prettyNum(subset(twr2, lang==\"de\")$n.size, big.mark=',')\n",
    "retention.iv.plot.count.part.new.pl <- prettyNum(subset(twr2, lang==\"pl\")$n.size, big.mark=',')\n",
    "retention.iv.plot.count.part.exp.fa <- prettyNum(subset(twr4, lang==\"fa\")$n.size, big.mark=',')\n",
    "retention.iv.plot.count.part.exp.pl <-prettyNum(subset(twr4, lang==\"pl\")$n.size, big.mark=',')\n",
    "retention.iv.plot.participants.assigned.perc <-round(twr1$n.thanked.count/(twr1$n.size/2)*100)\n",
    "retention.iv.plot.participants.assigned.total <-prettyNum(twr1$n.size/2, big.mark=\",\")\n",
    "retention.iv.plot.participants.assigned.dimest <- prettyNum(twr1$pvalue, digits=2)\n",
    "\n",
    "retention.iv.plot.ylab <- \"Effect on Two\\nWeek Retention\"\n",
    "retention.iv.plot.caption <- str_interp(\n",
    "    \"Organized thanking increases two-week retention of Wikipedia contributors by ${retention.iv.plot.est} percentage \n",
    "points on average among experienced and newcomer accounts\")"
   ]
  },
  {
   "cell_type": "code",
   "execution_count": 186,
   "metadata": {},
   "outputs": [
    {
     "data": {
      "text/html": [
       "<table class=\"dataframe\">\n",
       "<caption>A data.frame: 1 × 15</caption>\n",
       "<thead>\n",
       "\t<tr><th></th><th scope=col>factor</th><th scope=col>Estimate</th><th scope=col>Std..Error</th><th scope=col>t.value</th><th scope=col>pvalue</th><th scope=col>CI.Lower</th><th scope=col>CI.Upper</th><th scope=col>DF</th><th scope=col>model</th><th scope=col>z.value</th><th scope=col>n.size</th><th scope=col>n.thanked.count</th><th scope=col>estimator</th><th scope=col>lang</th><th scope=col>subgroup</th></tr>\n",
       "\t<tr><th></th><th scope=col>&lt;chr&gt;</th><th scope=col>&lt;dbl&gt;</th><th scope=col>&lt;dbl&gt;</th><th scope=col>&lt;dbl&gt;</th><th scope=col>&lt;dbl&gt;</th><th scope=col>&lt;dbl&gt;</th><th scope=col>&lt;dbl&gt;</th><th scope=col>&lt;int&gt;</th><th scope=col>&lt;chr&gt;</th><th scope=col>&lt;dbl&gt;</th><th scope=col>&lt;int&gt;</th><th scope=col>&lt;int&gt;</th><th scope=col>&lt;chr&gt;</th><th scope=col>&lt;chr&gt;</th><th scope=col>&lt;chr&gt;</th></tr>\n",
       "</thead>\n",
       "<tbody>\n",
       "\t<tr><th scope=row>iv10</th><td>iv10</td><td>0.1976224</td><td>0.01622499</td><td>12.18012</td><td>5.701594e-34</td><td>0.1658194</td><td>0.2294253</td><td>15272</td><td>retention</td><td>NA</td><td>15274</td><td>2702</td><td>2sls</td><td>all</td><td>all</td></tr>\n",
       "</tbody>\n",
       "</table>\n"
      ],
      "text/latex": [
       "A data.frame: 1 × 15\n",
       "\\begin{tabular}{r|lllllllllllllll}\n",
       "  & factor & Estimate & Std..Error & t.value & pvalue & CI.Lower & CI.Upper & DF & model & z.value & n.size & n.thanked.count & estimator & lang & subgroup\\\\\n",
       "  & <chr> & <dbl> & <dbl> & <dbl> & <dbl> & <dbl> & <dbl> & <int> & <chr> & <dbl> & <int> & <int> & <chr> & <chr> & <chr>\\\\\n",
       "\\hline\n",
       "\tiv10 & iv10 & 0.1976224 & 0.01622499 & 12.18012 & 5.701594e-34 & 0.1658194 & 0.2294253 & 15272 & retention & NA & 15274 & 2702 & 2sls & all & all\\\\\n",
       "\\end{tabular}\n"
      ],
      "text/markdown": [
       "\n",
       "A data.frame: 1 × 15\n",
       "\n",
       "| <!--/--> | factor &lt;chr&gt; | Estimate &lt;dbl&gt; | Std..Error &lt;dbl&gt; | t.value &lt;dbl&gt; | pvalue &lt;dbl&gt; | CI.Lower &lt;dbl&gt; | CI.Upper &lt;dbl&gt; | DF &lt;int&gt; | model &lt;chr&gt; | z.value &lt;dbl&gt; | n.size &lt;int&gt; | n.thanked.count &lt;int&gt; | estimator &lt;chr&gt; | lang &lt;chr&gt; | subgroup &lt;chr&gt; |\n",
       "|---|---|---|---|---|---|---|---|---|---|---|---|---|---|---|---|\n",
       "| iv10 | iv10 | 0.1976224 | 0.01622499 | 12.18012 | 5.701594e-34 | 0.1658194 | 0.2294253 | 15272 | retention | NA | 15274 | 2702 | 2sls | all | all |\n",
       "\n"
      ],
      "text/plain": [
       "     factor Estimate  Std..Error t.value  pvalue       CI.Lower  CI.Upper \n",
       "iv10 iv10   0.1976224 0.01622499 12.18012 5.701594e-34 0.1658194 0.2294253\n",
       "     DF    model     z.value n.size n.thanked.count estimator lang subgroup\n",
       "iv10 15272 retention NA      15274  2702            2sls      all  all     "
      ]
     },
     "metadata": {},
     "output_type": "display_data"
    }
   ],
   "source": [
    "twr1"
   ]
  },
  {
   "cell_type": "code",
   "execution_count": 187,
   "metadata": {},
   "outputs": [],
   "source": [
    "twr.all.plot <- ggplot(twr1, aes(lang, Estimate)) +\n",
    "        geom_hline(yintercept = 0, linetype=\"dashed\", color=\"#999999\") +\n",
    "            geom_errorbar(aes(ymax=CI.Upper, ymin=CI.Lower), \n",
    "                          size=errorsize, color=chartpalette[1], width=0.2) +\n",
    "            geom_point(color=chartpalette[1], size=dotsize) +\n",
    "            ylab(retention.iv.plot.ylab) +\n",
    "            scale_y_continuous(limits=c(ymin, ymax), breaks=seq(ymin, ymax, by=0.1)) +\n",
    "            cat.theme + \n",
    "            theme(axis.title.x=element_blank(),\n",
    "                  axis.text.x = element_text(size=12, face=\"bold\", color=chartpalette[1]))\n",
    "\n",
    "#twr.all.plot\n",
    "\n",
    "twr.lang.plot <- ggplot(twr2, aes(lang, Estimate)) +\n",
    "        geom_hline(yintercept = 0, linetype=\"dashed\", color=\"#999999\") +\n",
    "        geom_errorbar(aes(ymax=CI.Upper, ymin=CI.Lower), \n",
    "                      size=errorsize, color=chartpalette[4], width=0.1) +\n",
    "        geom_point(color=chartpalette[4], size=dotsize) +\n",
    "        annotate(geom=\"text\", x=3.5,y=0.49, label=lab.newc, \n",
    "                 color=chartpalette[4], fontface=2, size=4, hjust=1) +\n",
    "        scale_y_continuous(limits=c(ymin, ymax), breaks=seq(ymin, ymax, by=0.1)) + \n",
    "        cat.theme +\n",
    "        theme(axis.text.y = element_blank(),\n",
    "              axis.title.y = element_blank(),\n",
    "              axis.title  = element_blank(),\n",
    "              axis.title.x = element_blank(),\n",
    "              axis.text.x = element_text(size=12, face=\"bold\", color=chartpalette[4]))\n",
    "#twr.lang.plot"
   ]
  },
  {
   "cell_type": "code",
   "execution_count": 188,
   "metadata": {},
   "outputs": [
    {
     "data": {
      "text/html": [
       "<table class=\"dataframe\">\n",
       "<caption>A data.frame: 2 × 14</caption>\n",
       "<thead>\n",
       "\t<tr><th></th><th scope=col>Estimate</th><th scope=col>Std..Error</th><th scope=col>z.value</th><th scope=col>pvalue</th><th scope=col>CI.Lower</th><th scope=col>CI.Upper</th><th scope=col>DF</th><th scope=col>model</th><th scope=col>t.value</th><th scope=col>n.size</th><th scope=col>n.thanked.count</th><th scope=col>estimator</th><th scope=col>lang</th><th scope=col>subgroup</th></tr>\n",
       "\t<tr><th></th><th scope=col>&lt;dbl&gt;</th><th scope=col>&lt;dbl&gt;</th><th scope=col>&lt;dbl&gt;</th><th scope=col>&lt;dbl&gt;</th><th scope=col>&lt;dbl&gt;</th><th scope=col>&lt;dbl&gt;</th><th scope=col>&lt;dbl&gt;</th><th scope=col>&lt;chr&gt;</th><th scope=col>&lt;dbl&gt;</th><th scope=col>&lt;int&gt;</th><th scope=col>&lt;int&gt;</th><th scope=col>&lt;chr&gt;</th><th scope=col>&lt;chr&gt;</th><th scope=col>&lt;chr&gt;</th></tr>\n",
       "</thead>\n",
       "<tbody>\n",
       "\t<tr><th scope=row>TREAT13</th><td>0.053525913</td><td>0.01732848</td><td>NA</td><td>0.004112216</td><td> 0.01952773</td><td>0.08752410</td><td>1176</td><td>retention</td><td>3.0888986</td><td>2354</td><td>  75</td><td>difference_in_means</td><td>fa</td><td>experienced</td></tr>\n",
       "\t<tr><th scope=row>TREAT14</th><td>0.003405995</td><td>0.01512996</td><td>NA</td><td>0.821920504</td><td>-0.02627267</td><td>0.03308466</td><td>1467</td><td>retention</td><td>0.2251159</td><td>2936</td><td>1055</td><td>difference_in_means</td><td>pl</td><td>experienced</td></tr>\n",
       "</tbody>\n",
       "</table>\n"
      ],
      "text/latex": [
       "A data.frame: 2 × 14\n",
       "\\begin{tabular}{r|llllllllllllll}\n",
       "  & Estimate & Std..Error & z.value & pvalue & CI.Lower & CI.Upper & DF & model & t.value & n.size & n.thanked.count & estimator & lang & subgroup\\\\\n",
       "  & <dbl> & <dbl> & <dbl> & <dbl> & <dbl> & <dbl> & <dbl> & <chr> & <dbl> & <int> & <int> & <chr> & <chr> & <chr>\\\\\n",
       "\\hline\n",
       "\tTREAT13 & 0.053525913 & 0.01732848 & NA & 0.004112216 &  0.01952773 & 0.08752410 & 1176 & retention & 3.0888986 & 2354 &   75 & difference\\_in\\_means & fa & experienced\\\\\n",
       "\tTREAT14 & 0.003405995 & 0.01512996 & NA & 0.821920504 & -0.02627267 & 0.03308466 & 1467 & retention & 0.2251159 & 2936 & 1055 & difference\\_in\\_means & pl & experienced\\\\\n",
       "\\end{tabular}\n"
      ],
      "text/markdown": [
       "\n",
       "A data.frame: 2 × 14\n",
       "\n",
       "| <!--/--> | Estimate &lt;dbl&gt; | Std..Error &lt;dbl&gt; | z.value &lt;dbl&gt; | pvalue &lt;dbl&gt; | CI.Lower &lt;dbl&gt; | CI.Upper &lt;dbl&gt; | DF &lt;dbl&gt; | model &lt;chr&gt; | t.value &lt;dbl&gt; | n.size &lt;int&gt; | n.thanked.count &lt;int&gt; | estimator &lt;chr&gt; | lang &lt;chr&gt; | subgroup &lt;chr&gt; |\n",
       "|---|---|---|---|---|---|---|---|---|---|---|---|---|---|---|\n",
       "| TREAT13 | 0.053525913 | 0.01732848 | NA | 0.004112216 |  0.01952773 | 0.08752410 | 1176 | retention | 3.0888986 | 2354 |   75 | difference_in_means | fa | experienced |\n",
       "| TREAT14 | 0.003405995 | 0.01512996 | NA | 0.821920504 | -0.02627267 | 0.03308466 | 1467 | retention | 0.2251159 | 2936 | 1055 | difference_in_means | pl | experienced |\n",
       "\n"
      ],
      "text/plain": [
       "        Estimate    Std..Error z.value pvalue      CI.Lower    CI.Upper   DF  \n",
       "TREAT13 0.053525913 0.01732848 NA      0.004112216  0.01952773 0.08752410 1176\n",
       "TREAT14 0.003405995 0.01512996 NA      0.821920504 -0.02627267 0.03308466 1467\n",
       "        model     t.value   n.size n.thanked.count estimator           lang\n",
       "TREAT13 retention 3.0888986 2354     75            difference_in_means fa  \n",
       "TREAT14 retention 0.2251159 2936   1055            difference_in_means pl  \n",
       "        subgroup   \n",
       "TREAT13 experienced\n",
       "TREAT14 experienced"
      ]
     },
     "metadata": {},
     "output_type": "display_data"
    }
   ],
   "source": [
    "twr4"
   ]
  },
  {
   "cell_type": "code",
   "execution_count": 189,
   "metadata": {},
   "outputs": [
    {
     "data": {
      "image/png": "[encoded data removed]",
      "text/plain": [
       "plot without title"
      ]
     },
     "metadata": {
      "image/png": {
       "height": 250,
       "width": 400
      }
     },
     "output_type": "display_data"
    }
   ],
   "source": [
    "twr.experienced.plot <- ggplot(twr4, aes(lang, Estimate)) +\n",
    "        geom_hline(yintercept = 0, linetype=\"dashed\", color=\"#999999\") +\n",
    "        geom_errorbar(aes(ymax=CI.Upper, ymin=CI.Lower), \n",
    "                      size=errorsize, color=chartpalette[3], width=0.1) +\n",
    "        geom_point(color=chartpalette[3], size=dotsize) +\n",
    "        annotate(geom=\"text\", x=2.5,y=0.49, label=lab.exp, \n",
    "                 color=chartpalette[3], fontface=2, size=4, hjust=1) +\n",
    "        scale_y_continuous( limits=c(ymin, ymax), breaks=seq(ymin, ymax, by=0.1)) + \n",
    "        cat.theme + \n",
    "        theme(axis.text.y = element_blank(),\n",
    "              axis.title=element_blank(),\n",
    "              axis.title.x = element_blank(),\n",
    "              axis.title.y = element_blank(),\n",
    "              axis.text.x = element_text(size=12, face=\"bold\", color=chartpalette[3]))\n",
    "\n",
    "#twr.experienced.plot\n",
    "retention.iv.plot <- ggarrange(twr.all.plot, twr.experienced.plot, twr.lang.plot, ncol=3, nrow=1, widths=c(2,3, 4))\n",
    "\n",
    "ggsave(file.path('../figs', 'retention.iv.plot.pdf'),\n",
    "       width=6, height=2 , device=\"pdf\", units='in',\n",
    "       plot=retention.iv.plot)\n",
    "\n",
    "## keep for compatibility with previous versions of ggplot2\n",
    "# retention.iv.plot <- annotate_figure(retention.plot,\n",
    "#                         bottom=text_grob(retention.iv.plot.caption, \n",
    "#                                          hjust=0, x=0, size=10, \n",
    "#                                          color=chartpalette[4]))+\n",
    "#                     ggsave(file.path('../figs', 'retention.iv.plot.png'),\n",
    "#                           width=6, height=3.375 , units='in')\n",
    "retention.iv.plot"
   ]
  },
  {
   "cell_type": "markdown",
   "metadata": {},
   "source": [
    "### Plot IV Effect on Rate of Thanks"
   ]
  },
  {
   "cell_type": "code",
   "execution_count": 190,
   "metadata": {},
   "outputs": [
    {
     "data": {
      "text/html": [
       "<table class=\"dataframe\">\n",
       "<caption>A data.frame: 1 × 15</caption>\n",
       "<thead>\n",
       "\t<tr><th></th><th scope=col>factor</th><th scope=col>Estimate</th><th scope=col>Std..Error</th><th scope=col>t.value</th><th scope=col>pvalue</th><th scope=col>CI.Lower</th><th scope=col>CI.Upper</th><th scope=col>DF</th><th scope=col>model</th><th scope=col>z.value</th><th scope=col>n.size</th><th scope=col>n.thanked.count</th><th scope=col>estimator</th><th scope=col>lang</th><th scope=col>subgroup</th></tr>\n",
       "\t<tr><th></th><th scope=col>&lt;chr&gt;</th><th scope=col>&lt;dbl&gt;</th><th scope=col>&lt;dbl&gt;</th><th scope=col>&lt;dbl&gt;</th><th scope=col>&lt;dbl&gt;</th><th scope=col>&lt;dbl&gt;</th><th scope=col>&lt;dbl&gt;</th><th scope=col>&lt;int&gt;</th><th scope=col>&lt;chr&gt;</th><th scope=col>&lt;dbl&gt;</th><th scope=col>&lt;int&gt;</th><th scope=col>&lt;int&gt;</th><th scope=col>&lt;chr&gt;</th><th scope=col>&lt;chr&gt;</th><th scope=col>&lt;chr&gt;</th></tr>\n",
       "</thead>\n",
       "<tbody>\n",
       "\t<tr><th scope=row>iv27</th><td>iv27</td><td>1.541254</td><td>0.3571157</td><td>NA</td><td>1.589982e-05</td><td>0.8961659</td><td>2.190498</td><td>15272</td><td>thanks sent</td><td>4.315839</td><td>15274</td><td>2702</td><td>glm.nb</td><td>all</td><td>all</td></tr>\n",
       "</tbody>\n",
       "</table>\n"
      ],
      "text/latex": [
       "A data.frame: 1 × 15\n",
       "\\begin{tabular}{r|lllllllllllllll}\n",
       "  & factor & Estimate & Std..Error & t.value & pvalue & CI.Lower & CI.Upper & DF & model & z.value & n.size & n.thanked.count & estimator & lang & subgroup\\\\\n",
       "  & <chr> & <dbl> & <dbl> & <dbl> & <dbl> & <dbl> & <dbl> & <int> & <chr> & <dbl> & <int> & <int> & <chr> & <chr> & <chr>\\\\\n",
       "\\hline\n",
       "\tiv27 & iv27 & 1.541254 & 0.3571157 & NA & 1.589982e-05 & 0.8961659 & 2.190498 & 15272 & thanks sent & 4.315839 & 15274 & 2702 & glm.nb & all & all\\\\\n",
       "\\end{tabular}\n"
      ],
      "text/markdown": [
       "\n",
       "A data.frame: 1 × 15\n",
       "\n",
       "| <!--/--> | factor &lt;chr&gt; | Estimate &lt;dbl&gt; | Std..Error &lt;dbl&gt; | t.value &lt;dbl&gt; | pvalue &lt;dbl&gt; | CI.Lower &lt;dbl&gt; | CI.Upper &lt;dbl&gt; | DF &lt;int&gt; | model &lt;chr&gt; | z.value &lt;dbl&gt; | n.size &lt;int&gt; | n.thanked.count &lt;int&gt; | estimator &lt;chr&gt; | lang &lt;chr&gt; | subgroup &lt;chr&gt; |\n",
       "|---|---|---|---|---|---|---|---|---|---|---|---|---|---|---|---|\n",
       "| iv27 | iv27 | 1.541254 | 0.3571157 | NA | 1.589982e-05 | 0.8961659 | 2.190498 | 15272 | thanks sent | 4.315839 | 15274 | 2702 | glm.nb | all | all |\n",
       "\n"
      ],
      "text/plain": [
       "     factor Estimate Std..Error t.value pvalue       CI.Lower  CI.Upper DF   \n",
       "iv27 iv27   1.541254 0.3571157  NA      1.589982e-05 0.8961659 2.190498 15272\n",
       "     model       z.value  n.size n.thanked.count estimator lang subgroup\n",
       "iv27 thanks sent 4.315839 15274  2702            glm.nb    all  all     "
      ]
     },
     "metadata": {},
     "output_type": "display_data"
    }
   ],
   "source": [
    "rt1"
   ]
  },
  {
   "cell_type": "code",
   "execution_count": 191,
   "metadata": {},
   "outputs": [],
   "source": [
    "options(repr.plot.width = 8, repr.plot.height = 5, repr.plot.res = 100)\n",
    "\n",
    "ymax = 15\n",
    "ymin = -10\n",
    "scale.by = 5\n",
    "rt1 <- subset(all.cace.models.iv.df, model==\"thanks sent\" & lang == \"all\" & subgroup == \"all\")\n",
    "rt2 <- subset(all.cace.models.iv.df, model==\"thanks sent\" & lang!=\"all\" & subgroup == \"newcomer\")\n",
    "rt3 <- subset(all.cace.models.iv.df, model==\"thanks sent\" & lang != \"all\" & subgroup == \"experienced\")\n",
    "\n",
    "thanks.sent.iv.est <- prettyNum(exp(rt1$Estimate), digits=2)\n",
    "thanks.sent.iv.ci.lower <- prettyNum(exp(rt1$CI.Lower), digits=2, format=\"fg\")\n",
    "thanks.sent.iv.ci.upper <- prettyNum(exp(rt1$CI.Upper), digits=2, format=\"fg\")\n",
    "thanks.sent.iv.part <- prettyNum(rt1$n.size, big.mark=\",\")\n",
    "thanks.sent.iv.new.ar <- prettyNum(subset(rt2, lang==\"ar\")$n.size, big.mark=',')\n",
    "thanks.sent.iv.new.de <- prettyNum(subset(rt2, lang==\"de\")$n.size, big.mark=',')\n",
    "thanks.sent.iv.new.pl <- prettyNum(subset(rt2, lang==\"pl\")$n.size, big.mark=',')\n",
    "thanks.sent.iv.exp.fa <- prettyNum(subset(rt3, lang==\"fa\")$n.size, big.mark=',')\n",
    "thanks.sent.iv.exp.pl <- prettyNum(subset(rt3, lang==\"pl\")$n.size, big.mark=',')\n",
    "thanks.sent.iv.assigned.perc <-round(rt1$n.thanked.count/(rt1$n.size/2)*100)\n",
    "thanks.sent.iv.assigned.total <-prettyNum(rt1$n.size/2, big.mark=\",\")\n",
    "thanks.sent.iv.assigned.dimest <- prettyNum(rt1$pvalue, digits=2)\n",
    "\n",
    "\n",
    "thanks.sent.iv.ylab <- \"Negative binomial estimate\\nof thanks sent\"\n",
    "thanks.sent.iv.plot.caption <- str_interp(\"Organizing to thank Wikipedia volunteers caused them to thank others and increased the thanks they sent \n",
    "by ${thanks.sent.iv.est} times on average\")\n",
    "#thanks.sent.iv.plot.caption\n",
    "#rt3"
   ]
  },
  {
   "cell_type": "code",
   "execution_count": 192,
   "metadata": {},
   "outputs": [],
   "source": [
    "rt.all.plot <- ggplot(rt1, aes(lang, Estimate)) +\n",
    "        geom_hline(yintercept = 0, linetype=\"dashed\", color=\"#999999\") +\n",
    "            geom_errorbar(aes(ymax=CI.Upper, ymin=CI.Lower), \n",
    "                          size=1, color=chartpalette[1], width=0.5) +\n",
    "            geom_point(color=chartpalette[1], size=dotsize) +\n",
    "            ylab(thanks.sent.iv.ylab) +\n",
    "            scale_y_continuous(limits=c(ymin, ymax), breaks=seq(ymin, ymax, by=scale.by)) +\n",
    "            cat.theme + \n",
    "            theme(axis.title.x=element_blank(),\n",
    "                  axis.text.x = element_text(size=12, face=\"bold\", color=chartpalette[1]))\n",
    "\n",
    "\n",
    "\n",
    "rt.newcomer.plot <- ggplot(rt2, aes(lang, Estimate)) +\n",
    "        geom_hline(yintercept = 0, linetype=\"dashed\", color=\"#999999\") +\n",
    "        geom_errorbar(aes(ymax=CI.Upper, ymin=CI.Lower), \n",
    "                      size=1, color=chartpalette[4], width=0.1) +\n",
    "        geom_point(color=chartpalette[4], size=dotsize) +\n",
    "        annotate(geom=\"text\", x=2.6,y=ymax-0.25, label=lab.newc, \n",
    "                 color=chartpalette[4], fontface=2, size=4, hjust=0) +\n",
    "        scale_y_continuous(limits=c(ymin, ymax), breaks=seq(ymin, ymax, by=scale.by)) + \n",
    "        cat.theme +\n",
    "        theme(axis.text.y = element_blank(),\n",
    "              axis.title  = element_blank(), \n",
    "              axis.title.x = element_blank(),\n",
    "              axis.title.y = element_blank(),\n",
    "              axis.text.x = element_text(size=12, face=\"bold\", color=chartpalette[4]))\n",
    "\n",
    "\n",
    "rt.experienced.plot <- ggplot(rt3, aes(lang, Estimate)) +\n",
    "        geom_hline(yintercept = 0, linetype=\"dashed\", color=\"#999999\") +\n",
    "        geom_errorbar(aes(ymax=CI.Upper, ymin=CI.Lower), \n",
    "                      size=1, color=chartpalette[3], width=0.1) +\n",
    "        geom_point(color=chartpalette[3], size=dotsize) +\n",
    "        annotate(geom=\"text\", x=1.4,y=ymax-0.25, label=lab.exp, \n",
    "                 color=chartpalette[3], fontface=2, size=4, hjust=0) +\n",
    "        scale_y_continuous( limits=c(ymin, ymax), breaks=seq(ymin, ymax, by=scale.by)) + \n",
    "        cat.theme + \n",
    "        theme(axis.text.y = element_blank(),\n",
    "              axis.title=element_blank(),\n",
    "              axis.title.x = element_blank(),\n",
    "              axis.title.y = element_blank(),\n",
    "              axis.text.x = element_text(size=12, face=\"bold\", color=chartpalette[3]))\n",
    "\n",
    "# rt.newcomer.plot\n",
    "# rt.all.plot\n",
    "#rt.experienced.plot"
   ]
  },
  {
   "cell_type": "code",
   "execution_count": 193,
   "metadata": {},
   "outputs": [
    {
     "data": {
      "image/png": "[encoded data removed]",
      "text/plain": [
       "plot without title"
      ]
     },
     "metadata": {
      "image/png": {
       "height": 250,
       "width": 400
      }
     },
     "output_type": "display_data"
    }
   ],
   "source": [
    "thanks.sent.iv.plot <- ggarrange(rt.all.plot,  rt.experienced.plot, rt.newcomer.plot, ncol=3, nrow=1, widths=c(1.2,2.5, 4))\n",
    "\n",
    "ggsave(file.path('../figs', 'thanks.sent.iv.plot.pdf'),\n",
    "    width=6, height=2, device=\"pdf\", units='in',\n",
    "    plot = thanks.sent.iv.plot)\n",
    "\n",
    "# thanks.sent.iv.plot <- annotate_figure(thanks.sent.iv.plot,\n",
    "#                         bottom=text_grob(thanks.sent.iv.plot.caption, \n",
    "#                                          hjust=0, x=0, size=10, \n",
    "#                                          color=chartpalette[4]))+\n",
    "#                     ggsave(file.path('../figs', 'thanks.sent.iv.plot.png'),\n",
    "#                           width=6, height=4 , units='in')\n",
    "thanks.sent.iv.plot"
   ]
  },
  {
   "cell_type": "markdown",
   "metadata": {},
   "source": [
    "# Analyze Participant Thanks"
   ]
  },
  {
   "cell_type": "code",
   "execution_count": 194,
   "metadata": {},
   "outputs": [
    {
     "data": {
      "text/html": [
       "<style>\n",
       ".list-inline {list-style: none; margin:0; padding: 0}\n",
       ".list-inline>li {display: inline-block}\n",
       ".list-inline>li:not(:last-child)::after {content: \"\\00b7\"; padding: 0 .5ex}\n",
       "</style>\n",
       "<ol class=list-inline><li>'condition'</li><li>'identifiable.thanks.sent'</li><li>'reciprocal.thanks.sent'</li><li>'nonreciprocal.thanks.sent'</li><li>'lang'</li><li>'any.reciprocal.thanks'</li><li>'any.nonreciprocal.thanks'</li></ol>\n"
      ],
      "text/latex": [
       "\\begin{enumerate*}\n",
       "\\item 'condition'\n",
       "\\item 'identifiable.thanks.sent'\n",
       "\\item 'reciprocal.thanks.sent'\n",
       "\\item 'nonreciprocal.thanks.sent'\n",
       "\\item 'lang'\n",
       "\\item 'any.reciprocal.thanks'\n",
       "\\item 'any.nonreciprocal.thanks'\n",
       "\\end{enumerate*}\n"
      ],
      "text/markdown": [
       "1. 'condition'\n",
       "2. 'identifiable.thanks.sent'\n",
       "3. 'reciprocal.thanks.sent'\n",
       "4. 'nonreciprocal.thanks.sent'\n",
       "5. 'lang'\n",
       "6. 'any.reciprocal.thanks'\n",
       "7. 'any.nonreciprocal.thanks'\n",
       "\n",
       "\n"
      ],
      "text/plain": [
       "[1] \"condition\"                 \"identifiable.thanks.sent\" \n",
       "[3] \"reciprocal.thanks.sent\"    \"nonreciprocal.thanks.sent\"\n",
       "[5] \"lang\"                      \"any.reciprocal.thanks\"    \n",
       "[7] \"any.nonreciprocal.thanks\" "
      ]
     },
     "metadata": {},
     "output_type": "display_data"
    }
   ],
   "source": [
    "colnames(participant.thanks)"
   ]
  },
  {
   "cell_type": "code",
   "execution_count": 195,
   "metadata": {},
   "outputs": [
    {
     "name": "stdout",
     "output_type": "stream",
     "text": [
      "[1] \"according to the thanks dataset,  266 treatment group accounts sent thanks\"\n",
      "[1] \"according to the earlier participant dataset,  261 treatment group accounts sent thanks\"\n"
     ]
    }
   ],
   "source": [
    "print(paste(\"according to the thanks dataset, \", nrow(subset(participant.thanks, identifiable.thanks.sent>0 & condition==\"1\")), \"treatment group accounts sent thanks\"))\n",
    "\n",
    "print(paste(\"according to the earlier participant dataset, \", nrow(subset(participants, thanks.sent>0 & TREAT==1)), \"treatment group accounts sent thanks\"))"
   ]
  },
  {
   "cell_type": "code",
   "execution_count": 196,
   "metadata": {},
   "outputs": [
    {
     "name": "stdout",
     "output_type": "stream",
     "text": [
      "[1] \"according to the thanks dataset 1505 thanks were sent by treatment group accounts\"\n",
      "[1] \"according to the participant dataset 1418 thanks were sent by treatment group accounts\"\n"
     ]
    }
   ],
   "source": [
    "print(paste(\"according to the thanks dataset\", sum(subset(participant.thanks, condition=='1')$identifiable.thanks.sent), \"thanks were sent by treatment group accounts\"))\n",
    "\n",
    "print(paste(\"according to the participant dataset\", sum(subset(participants, TREAT==1)$thanks.sent), \"thanks were sent by treatment group accounts\"))"
   ]
  },
  {
   "cell_type": "code",
   "execution_count": 197,
   "metadata": {},
   "outputs": [
    {
     "data": {
      "text/html": [
       "<style>\n",
       ".list-inline {list-style: none; margin:0; padding: 0}\n",
       ".list-inline>li {display: inline-block}\n",
       ".list-inline>li:not(:last-child)::after {content: \"\\00b7\"; padding: 0 .5ex}\n",
       "</style>\n",
       "<ol class=list-inline><li>'condition'</li><li>'identifiable.thanks.sent'</li><li>'reciprocal.thanks.sent'</li><li>'nonreciprocal.thanks.sent'</li><li>'lang'</li><li>'any.reciprocal.thanks'</li><li>'any.nonreciprocal.thanks'</li></ol>\n"
      ],
      "text/latex": [
       "\\begin{enumerate*}\n",
       "\\item 'condition'\n",
       "\\item 'identifiable.thanks.sent'\n",
       "\\item 'reciprocal.thanks.sent'\n",
       "\\item 'nonreciprocal.thanks.sent'\n",
       "\\item 'lang'\n",
       "\\item 'any.reciprocal.thanks'\n",
       "\\item 'any.nonreciprocal.thanks'\n",
       "\\end{enumerate*}\n"
      ],
      "text/markdown": [
       "1. 'condition'\n",
       "2. 'identifiable.thanks.sent'\n",
       "3. 'reciprocal.thanks.sent'\n",
       "4. 'nonreciprocal.thanks.sent'\n",
       "5. 'lang'\n",
       "6. 'any.reciprocal.thanks'\n",
       "7. 'any.nonreciprocal.thanks'\n",
       "\n",
       "\n"
      ],
      "text/plain": [
       "[1] \"condition\"                 \"identifiable.thanks.sent\" \n",
       "[3] \"reciprocal.thanks.sent\"    \"nonreciprocal.thanks.sent\"\n",
       "[5] \"lang\"                      \"any.reciprocal.thanks\"    \n",
       "[7] \"any.nonreciprocal.thanks\" "
      ]
     },
     "metadata": {},
     "output_type": "display_data"
    }
   ],
   "source": [
    "colnames(participant.thanks)"
   ]
  },
  {
   "cell_type": "code",
   "execution_count": 198,
   "metadata": {},
   "outputs": [],
   "source": [
    "#participant.thanks\n",
    "participant.thanks$any.reciprocal.thanks <- as.integer(participant.thanks$reciprocal.thanks.sent>0)\n",
    "participant.thanks$any.nonreciprocal.thanks <- as.integer(participant.thanks$nonreciprocal.thanks.sent>0)"
   ]
  },
  {
   "cell_type": "code",
   "execution_count": 199,
   "metadata": {},
   "outputs": [
    {
     "data": {
      "text/html": [
       "<table class=\"dataframe\">\n",
       "<caption>A data.frame: 4 × 5</caption>\n",
       "<thead>\n",
       "\t<tr><th scope=col>lang</th><th scope=col>reciprocal.thanks.sent</th><th scope=col>nonreciprocal.thanks.sent</th><th scope=col>any.reciprocal.thanks</th><th scope=col>any.nonreciprocal.thanks</th></tr>\n",
       "\t<tr><th scope=col>&lt;chr&gt;</th><th scope=col>&lt;int&gt;</th><th scope=col>&lt;int&gt;</th><th scope=col>&lt;int&gt;</th><th scope=col>&lt;int&gt;</th></tr>\n",
       "</thead>\n",
       "<tbody>\n",
       "\t<tr><td>ar</td><td>0</td><td>  91</td><td>0</td><td> 36</td></tr>\n",
       "\t<tr><td>de</td><td>1</td><td> 404</td><td>1</td><td>130</td></tr>\n",
       "\t<tr><td>fa</td><td>2</td><td> 748</td><td>2</td><td>105</td></tr>\n",
       "\t<tr><td>pl</td><td>3</td><td>1303</td><td>3</td><td>216</td></tr>\n",
       "</tbody>\n",
       "</table>\n"
      ],
      "text/latex": [
       "A data.frame: 4 × 5\n",
       "\\begin{tabular}{lllll}\n",
       " lang & reciprocal.thanks.sent & nonreciprocal.thanks.sent & any.reciprocal.thanks & any.nonreciprocal.thanks\\\\\n",
       " <chr> & <int> & <int> & <int> & <int>\\\\\n",
       "\\hline\n",
       "\t ar & 0 &   91 & 0 &  36\\\\\n",
       "\t de & 1 &  404 & 1 & 130\\\\\n",
       "\t fa & 2 &  748 & 2 & 105\\\\\n",
       "\t pl & 3 & 1303 & 3 & 216\\\\\n",
       "\\end{tabular}\n"
      ],
      "text/markdown": [
       "\n",
       "A data.frame: 4 × 5\n",
       "\n",
       "| lang &lt;chr&gt; | reciprocal.thanks.sent &lt;int&gt; | nonreciprocal.thanks.sent &lt;int&gt; | any.reciprocal.thanks &lt;int&gt; | any.nonreciprocal.thanks &lt;int&gt; |\n",
       "|---|---|---|---|---|\n",
       "| ar | 0 |   91 | 0 |  36 |\n",
       "| de | 1 |  404 | 1 | 130 |\n",
       "| fa | 2 |  748 | 2 | 105 |\n",
       "| pl | 3 | 1303 | 3 | 216 |\n",
       "\n"
      ],
      "text/plain": [
       "  lang reciprocal.thanks.sent nonreciprocal.thanks.sent any.reciprocal.thanks\n",
       "1 ar   0                        91                      0                    \n",
       "2 de   1                       404                      1                    \n",
       "3 fa   2                       748                      2                    \n",
       "4 pl   3                      1303                      3                    \n",
       "  any.nonreciprocal.thanks\n",
       "1  36                     \n",
       "2 130                     \n",
       "3 105                     \n",
       "4 216                     "
      ]
     },
     "metadata": {},
     "output_type": "display_data"
    }
   ],
   "source": [
    "treat.reciprocal.thanks.df <- aggregate( . ~ lang, \n",
    "                                        data=participant.thanks[c('reciprocal.thanks.sent', \n",
    "                                                                  'nonreciprocal.thanks.sent', \n",
    "                                                                  'any.reciprocal.thanks',  \n",
    "                                                                  'any.nonreciprocal.thanks', \n",
    "                                                                  'lang')], \n",
    "                                        FUN=sum)\n",
    "treat.reciprocal.thanks.df"
   ]
  },
  {
   "cell_type": "code",
   "execution_count": 201,
   "metadata": {},
   "outputs": [
    {
     "data": {
      "text/html": [
       "'99.8'"
      ],
      "text/latex": [
       "'99.8'"
      ],
      "text/markdown": [
       "'99.8'"
      ],
      "text/plain": [
       "[1] \"99.8\""
      ]
     },
     "metadata": {},
     "output_type": "display_data"
    }
   ],
   "source": [
    "## percentage of thanks sent to people who did not thank them\n",
    "prettyNum(sum(treat.reciprocal.thanks.df$nonreciprocal.thanks.sent)/ (sum(treat.reciprocal.thanks.df$nonreciprocal.thanks.sent) + sum(treat.reciprocal.thanks.df$reciprocal.thanks.sent))*100, digits=3)"
   ]
  },
  {
   "cell_type": "markdown",
   "metadata": {},
   "source": [
    "# Save Data for LaTeX file"
   ]
  },
  {
   "cell_type": "code",
   "execution_count": 202,
   "metadata": {},
   "outputs": [],
   "source": [
    "dfs<-Filter(function(x) is.data.frame(get(x)) , ls())\n",
    "save(list=dfs, file=\"paper-data.RData\", version = 2) # overleaf uses R 3.4 which requires version 2 of Rdata I believe"
   ]
  },
  {
   "cell_type": "code",
   "execution_count": 203,
   "metadata": {},
   "outputs": [
    {
     "data": {
      "text/html": [
       "<style>\n",
       ".list-inline {list-style: none; margin:0; padding: 0}\n",
       ".list-inline>li {display: inline-block}\n",
       ".list-inline>li:not(:last-child)::after {content: \"\\00b7\"; padding: 0 .5ex}\n",
       "</style>\n",
       "<ol class=list-inline><li>'private.anonymous.id'</li><li>'randomization.block.id'</li><li>'labor.hours.per.day.diff'</li><li>'two.week.retention'</li><li>'thanks.sent'</li><li>'thanks.sent.pre.treatment'</li><li>'wikipedians.value.contributions'</li><li>'community.friendly'</li><li>'complier'</li><li>'lang'</li><li>'prev.experience.assignment'</li><li>'prev.experience.treatment'</li><li>'year'</li><li>'has.email'</li><li>'remembered.thanks'</li><li>'overall.exp'</li><li>'social.value.1'</li><li>'social.value.3'</li><li>'social.value.4'</li><li>'social.warmth.2'</li><li>'social.warmth.3'</li><li>'randomization.arm'</li><li>'number.thanks.received'</li><li>'number.skips.received'</li><li>'thanks.not.received.skipped'</li><li>'thanks.not.received.not.seen'</li><li>'thanks.not.received.error'</li><li>'thanks.not.received.user.deleted'</li><li>'received.multiple.thanks'</li><li>'complier.app.any.reason'</li><li>'TREAT'</li><li>'block'</li><li>'prev.experience'</li><li>'newcomer'</li><li>'prev.experience.assignment.days'</li></ol>\n"
      ],
      "text/latex": [
       "\\begin{enumerate*}\n",
       "\\item 'private.anonymous.id'\n",
       "\\item 'randomization.block.id'\n",
       "\\item 'labor.hours.per.day.diff'\n",
       "\\item 'two.week.retention'\n",
       "\\item 'thanks.sent'\n",
       "\\item 'thanks.sent.pre.treatment'\n",
       "\\item 'wikipedians.value.contributions'\n",
       "\\item 'community.friendly'\n",
       "\\item 'complier'\n",
       "\\item 'lang'\n",
       "\\item 'prev.experience.assignment'\n",
       "\\item 'prev.experience.treatment'\n",
       "\\item 'year'\n",
       "\\item 'has.email'\n",
       "\\item 'remembered.thanks'\n",
       "\\item 'overall.exp'\n",
       "\\item 'social.value.1'\n",
       "\\item 'social.value.3'\n",
       "\\item 'social.value.4'\n",
       "\\item 'social.warmth.2'\n",
       "\\item 'social.warmth.3'\n",
       "\\item 'randomization.arm'\n",
       "\\item 'number.thanks.received'\n",
       "\\item 'number.skips.received'\n",
       "\\item 'thanks.not.received.skipped'\n",
       "\\item 'thanks.not.received.not.seen'\n",
       "\\item 'thanks.not.received.error'\n",
       "\\item 'thanks.not.received.user.deleted'\n",
       "\\item 'received.multiple.thanks'\n",
       "\\item 'complier.app.any.reason'\n",
       "\\item 'TREAT'\n",
       "\\item 'block'\n",
       "\\item 'prev.experience'\n",
       "\\item 'newcomer'\n",
       "\\item 'prev.experience.assignment.days'\n",
       "\\end{enumerate*}\n"
      ],
      "text/markdown": [
       "1. 'private.anonymous.id'\n",
       "2. 'randomization.block.id'\n",
       "3. 'labor.hours.per.day.diff'\n",
       "4. 'two.week.retention'\n",
       "5. 'thanks.sent'\n",
       "6. 'thanks.sent.pre.treatment'\n",
       "7. 'wikipedians.value.contributions'\n",
       "8. 'community.friendly'\n",
       "9. 'complier'\n",
       "10. 'lang'\n",
       "11. 'prev.experience.assignment'\n",
       "12. 'prev.experience.treatment'\n",
       "13. 'year'\n",
       "14. 'has.email'\n",
       "15. 'remembered.thanks'\n",
       "16. 'overall.exp'\n",
       "17. 'social.value.1'\n",
       "18. 'social.value.3'\n",
       "19. 'social.value.4'\n",
       "20. 'social.warmth.2'\n",
       "21. 'social.warmth.3'\n",
       "22. 'randomization.arm'\n",
       "23. 'number.thanks.received'\n",
       "24. 'number.skips.received'\n",
       "25. 'thanks.not.received.skipped'\n",
       "26. 'thanks.not.received.not.seen'\n",
       "27. 'thanks.not.received.error'\n",
       "28. 'thanks.not.received.user.deleted'\n",
       "29. 'received.multiple.thanks'\n",
       "30. 'complier.app.any.reason'\n",
       "31. 'TREAT'\n",
       "32. 'block'\n",
       "33. 'prev.experience'\n",
       "34. 'newcomer'\n",
       "35. 'prev.experience.assignment.days'\n",
       "\n",
       "\n"
      ],
      "text/plain": [
       " [1] \"private.anonymous.id\"             \"randomization.block.id\"          \n",
       " [3] \"labor.hours.per.day.diff\"         \"two.week.retention\"              \n",
       " [5] \"thanks.sent\"                      \"thanks.sent.pre.treatment\"       \n",
       " [7] \"wikipedians.value.contributions\"  \"community.friendly\"              \n",
       " [9] \"complier\"                         \"lang\"                            \n",
       "[11] \"prev.experience.assignment\"       \"prev.experience.treatment\"       \n",
       "[13] \"year\"                             \"has.email\"                       \n",
       "[15] \"remembered.thanks\"                \"overall.exp\"                     \n",
       "[17] \"social.value.1\"                   \"social.value.3\"                  \n",
       "[19] \"social.value.4\"                   \"social.warmth.2\"                 \n",
       "[21] \"social.warmth.3\"                  \"randomization.arm\"               \n",
       "[23] \"number.thanks.received\"           \"number.skips.received\"           \n",
       "[25] \"thanks.not.received.skipped\"      \"thanks.not.received.not.seen\"    \n",
       "[27] \"thanks.not.received.error\"        \"thanks.not.received.user.deleted\"\n",
       "[29] \"received.multiple.thanks\"         \"complier.app.any.reason\"         \n",
       "[31] \"TREAT\"                            \"block\"                           \n",
       "[33] \"prev.experience\"                  \"newcomer\"                        \n",
       "[35] \"prev.experience.assignment.days\" "
      ]
     },
     "metadata": {},
     "output_type": "display_data"
    }
   ],
   "source": [
    "colnames(participants)"
   ]
  },
  {
   "cell_type": "code",
   "execution_count": null,
   "metadata": {},
   "outputs": [],
   "source": []
  },
  {
   "cell_type": "code",
   "execution_count": null,
   "metadata": {},
   "outputs": [],
   "source": []
  }
 ],
 "metadata": {
  "kernelspec": {
   "display_name": "R",
   "language": "R",
   "name": "ir"
  },
  "language_info": {
   "codemirror_mode": "r",
   "file_extension": ".r",
   "mimetype": "text/x-r-source",
   "name": "R",
   "pygments_lexer": "r",
   "version": "4.3.3"
  },
  "varInspector": {
   "cols": {
    "lenName": 16,
    "lenType": 16,
    "lenVar": 40
   },
   "kernels_config": {
    "python": {
     "delete_cmd_postfix": "",
     "delete_cmd_prefix": "del ",
     "library": "var_list.py",
     "varRefreshCmd": "print(var_dic_list())"
    },
    "r": {
     "delete_cmd_postfix": ") ",
     "delete_cmd_prefix": "rm(",
     "library": "var_list.r",
     "varRefreshCmd": "cat(var_dic_list()) "
    }
   },
   "types_to_exclude": [
    "module",
    "function",
    "builtin_function_or_method",
    "instance",
    "_Feature"
   ],
   "window_display": false
  }
 },
 "nbformat": 4,
 "nbformat_minor": 4
}
