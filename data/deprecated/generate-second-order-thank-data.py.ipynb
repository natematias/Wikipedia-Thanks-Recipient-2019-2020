{
 "cells": [
  {
   "cell_type": "markdown",
   "metadata": {},
   "source": [
    "# Generate second order thanks dataset for final analysis (NO LONGER IN USE)\n",
    "    J. Nathan Matias, March 2021"
   ]
  },
  {
   "cell_type": "code",
   "execution_count": 41,
   "metadata": {},
   "outputs": [],
   "source": [
    "import csv, os, sys, datetime\n",
    "from collections import Counter, defaultdict\n",
    "import pandas as pd"
   ]
  },
  {
   "cell_type": "code",
   "execution_count": 5,
   "metadata": {},
   "outputs": [],
   "source": [
    "anonymous_ids = {}\n",
    "\n",
    "if 'TRESORDIR' in os.environ:\n",
    "    data_path = os.environ['TRESORDIR']\n",
    "else:\n",
    "    data_path = os.path.expanduser(\"~\") + '/Tresors'\n"
   ]
  },
  {
   "cell_type": "markdown",
   "metadata": {},
   "source": [
    "## Load Anonymous IDs"
   ]
  },
  {
   "cell_type": "code",
   "execution_count": 6,
   "metadata": {},
   "outputs": [],
   "source": [
    "user_name_anon_ids = {}\n",
    "with open(data_path + \"/CivilServant/projects/wikipedia-integration/gratitude-study/datasets/misc/thankee_public_anonymous_ids_20200212.csv\") as f:\n",
    "   for row in csv.DictReader(f):\n",
    "       user_name_anon_ids[row['user_name']] = row['public_anonymous_id']"
   ]
  },
  {
   "cell_type": "markdown",
   "metadata": {},
   "source": [
    "## Load Second Order Thanks"
   ]
  },
  {
   "cell_type": "code",
   "execution_count": 7,
   "metadata": {},
   "outputs": [],
   "source": [
    "\n",
    "second_order_thanks = []\n",
    "thank_filename = 'gratitude-second-gen-thanks-analysis-with-reciprocal.csv'\n",
    "filepath = \"CivilServant/projects/wikipedia-integration/gratitude-study/Data Drills/thankee/post_experiment_analysis\"\n",
    "\n",
    "with open(os.path.join(data_path, filepath, thank_filename)) as f:\n",
    "    for row in csv.DictReader(f):\n",
    "        new_row = {}\n",
    "        for col in ['second.gen.thank.ts', 'lang','behavior.start.dt','second.gen.recipient.is.first.gen.sender']:\n",
    "            new_row[col] = row[col]\n",
    "        if 'user.name' in user_name_anon_ids.keys():\n",
    "            new_row['public_anonymous_id'] = user_name_anon_ids[row['user.name']]\n",
    "        else:\n",
    "            new_row['public_anonymous_id'] = None\n",
    "        second_order_thanks.append(row)"
   ]
  },
  {
   "cell_type": "markdown",
   "metadata": {},
   "source": [
    "# Load Username to Experiment Condition Dataset"
   ]
  },
  {
   "cell_type": "code",
   "execution_count": 8,
   "metadata": {},
   "outputs": [],
   "source": [
    "uname_condition_fname = 'gratitude-thankee-username-arms.csv'\n",
    "\n",
    "uname_condition = {}\n",
    "\n",
    "with open(os.path.join(data_path, filepath, uname_condition_fname)) as f:\n",
    "    for row in csv.DictReader(f):\n",
    "        uname_condition[row['username']] = row['arm']"
   ]
  },
  {
   "cell_type": "markdown",
   "metadata": {},
   "source": [
    "## How often do we have a match on the user names?\n"
   ]
  },
  {
   "cell_type": "code",
   "execution_count": 9,
   "metadata": {},
   "outputs": [
    {
     "name": "stdout",
     "output_type": "stream",
     "text": [
      "488 unique usernames making 2552 thanks\n",
      "15429 usernames in the index\n"
     ]
    }
   ],
   "source": [
    "print(\"{0} unique usernames making {1} thanks\".format(len(set([x['user.name'] for x in second_order_thanks])), len(second_order_thanks)))\n",
    "print(\"{0} usernames in the index\".format(len(uname_condition)))"
   ]
  },
  {
   "cell_type": "code",
   "execution_count": 11,
   "metadata": {},
   "outputs": [
    {
     "name": "stdout",
     "output_type": "stream",
     "text": [
      "488 total participants with thanks\n"
     ]
    }
   ],
   "source": [
    "thanks_by_participant = defaultdict(list)\n",
    "\n",
    "for thank in second_order_thanks:\n",
    "    thank['condition'] = uname_condition[thank['user.name']]\n",
    "    thanks_by_participant[thank['user.name']].append(thank)\n",
    "\n",
    "print(\"{0} total participants with thanks\".format(len(thanks_by_participant)))"
   ]
  },
  {
   "cell_type": "code",
   "execution_count": 12,
   "metadata": {},
   "outputs": [],
   "source": [
    "## Take in a list of thanks sent by an account\n",
    "## and create a single row for the analysis\n",
    "def generate_analysis_row(thanks_list):\n",
    "    total_thanks = 0\n",
    "    reciprocal_thanks = 0\n",
    "    nonreciprocal_thanks = 0\n",
    "    lang = None\n",
    "    for thank in thanks_list:\n",
    "        total_thanks += 1\n",
    "        lang = thank['lang']\n",
    "        if(thank['second.gen.recipient.is.first.gen.sender']==\"True\"):\n",
    "            reciprocal_thanks += 1\n",
    "        else:\n",
    "            nonreciprocal_thanks += 1\n",
    "    account_row = {\n",
    "        \"condition\": thank['condition'],\n",
    "        \"identifiable.thanks.sent\": total_thanks,\n",
    "        \"reciprocal.thanks.sent\": reciprocal_thanks,\n",
    "        \"nonreciprocal.thanks.sent\": nonreciprocal_thanks,\n",
    "        \"lang\": lang\n",
    "    }\n",
    "    return account_row"
   ]
  },
  {
   "cell_type": "code",
   "execution_count": 13,
   "metadata": {},
   "outputs": [],
   "source": [
    "participant_thanks = []\n",
    "\n",
    "for thanks_list in thanks_by_participant.values():\n",
    "    participant_thanks.append(generate_analysis_row(thanks_list))    "
   ]
  },
  {
   "cell_type": "code",
   "execution_count": 14,
   "metadata": {},
   "outputs": [
    {
     "data": {
      "text/plain": [
       "Counter({0: 482, 1: 6})"
      ]
     },
     "execution_count": 14,
     "metadata": {},
     "output_type": "execute_result"
    }
   ],
   "source": [
    "## check that the code works\n",
    "Counter([x['reciprocal.thanks.sent'] for x in participant_thanks])"
   ]
  },
  {
   "cell_type": "markdown",
   "metadata": {},
   "source": [
    "# Write to File"
   ]
  },
  {
   "cell_type": "code",
   "execution_count": 51,
   "metadata": {},
   "outputs": [],
   "source": [
    "thank_analysis_filename = datetime.datetime.strftime(datetime.datetime.utcnow(), format=\"%Y-%M-%d-secondary-thanks.csv\")#\n",
    "\n",
    "pd.DataFrame(participant_thanks).to_csv(os.path.join(data_path, filepath, thank_analysis_filename), index=False)"
   ]
  }
 ],
 "metadata": {
  "kernelspec": {
   "display_name": "Python 3",
   "language": "python",
   "name": "python3"
  },
  "language_info": {
   "codemirror_mode": {
    "name": "ipython",
    "version": 3
   },
   "file_extension": ".py",
   "mimetype": "text/x-python",
   "name": "python",
   "nbconvert_exporter": "python",
   "pygments_lexer": "ipython3",
   "version": "3.9.19"
  }
 },
 "nbformat": 4,
 "nbformat_minor": 4
}
