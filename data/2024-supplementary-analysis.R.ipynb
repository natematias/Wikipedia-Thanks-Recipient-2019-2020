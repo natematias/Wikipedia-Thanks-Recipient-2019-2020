{
 "cells": [
  {
   "cell_type": "markdown",
   "metadata": {},
   "source": [
    "# Wikipedia Thanks Recipient Supplementary Materials Analysis \n",
    "# [PROVISIONAL- DO NOT SHARE OR CITE UNLESS YOU WANT TO DISTRIBUTE POTENTIALLY-INACCURATE INFORMATION]\n",
    "[J. Nathan Matias](https://natematias.com), May 2024\n",
    "\n",
    "Key documents:\n",
    "* [pre-analysis plan: Receiving Thanks on Wikipedia](https://osf.io/c67rg/)\n",
    "* [data format description](https://docs.google.com/document/d/1plhoDbQryYQ32vZMXu8YmlLSp30QTdup43k6uTePOT4/edit#heading=h.fxaguwxn13cj)\n",
    "* Tresorit data in `Tresors/CivilServant/projects/wikipedia-integration/gratitude-study`\n",
    "* [Research Design Decision Document](https://docs.google.com/document/d/1p9rjbAoA4fVHimAGcx3GZ-8xUHXkCtF5WkFT_jxdTOg/edit)\n",
    "* [Thanker Recruitment Plan](https://docs.google.com/document/d/1K5TNwTdru12z9Nj5ZA-dOH-zfMI8tjJHOacTpf5AVqE/edit)\n",
    "* [Lab Notebook - CivilServant Wikipedia Gratitude Projecg 2019](https://docs.google.com/document/d/1vmzHJcBs0z_4efo7YDdlC9AhlkEezJnXAMIpVtR-hFM/edit)\n",
    "\n",
    "Goals:\n",
    "* Document every part of the study:\n",
    "  * The approval process for each language\n",
    "  * Dates for each language\n",
    "  * Thanker summary table:\n",
    "      * Number of thankers for each language\n",
    "      * If possible, summary statistics about the thankers (how long they had contributed to Wikipedia, how many edits they had mad over time), by language\n",
    "      * Number of thanks they reviewed\n",
    "      * Number of thanks they sent\n",
    "  * Thank recipient summary table\n",
    "      * How many were selected by the algorithm per language\n",
    "      * How many edits they had made at the time\n",
    "      * How many were selected by human reviewers\n",
    "      * How many edits they had made at that time?\n"
   ]
  },
  {
   "cell_type": "code",
   "execution_count": 19,
   "metadata": {},
   "outputs": [],
   "source": [
    "# library(plyr)\n",
    "# library(AER)\n",
    "# library(tidyverse)\n",
    "# library(magrittr)\n",
    "# library(gmodels)\n",
    "# library(MASS)\n",
    "# library(estimatr)\n",
    "# library(ri2)\n",
    "library(ggplot2)\n",
    "library(sys)\n",
    "\n",
    "#library(ggpubr)   # contains ggarrange\n",
    "#library(png)      # to load logo\n",
    "#library(grid)\n",
    "\n",
    "### TODO: Add Source Sans as a font for ggplot2\n",
    "#library(sysfonts) # to load source sans pro\n",
    "# https://rdrr.io/github/kjhealy/sourcesans/src/R/sourcesans.r\n",
    "\n",
    "## Set visual style\n",
    "catpalette   <- c(\"#333333\", \"#ea5324\", \"#005073\", \"#7D868C\", \"#BDBBBB\", \"#F2F2F2\",\"#F6F2EB\")\n",
    "chartpalette <- c(\"#ea5324\", \"#005073\", \"#7D868C\", \"#333333\", \"#F2F2F2\",\"#BDBBBB\", \"#F6F2EB\")\n",
    "\n",
    "cat.theme <-  theme_bw() +\n",
    "              theme(plot.title = element_text(size=13, face=\"bold\", color=catpalette[3]),\n",
    "                    axis.title.x =element_text(size=10, hjust = -0.01, color = catpalette[1]),\n",
    "                    axis.title.y =element_text(size=10, color = catpalette[1]),\n",
    "                    panel.background = element_rect(fill=catpalette[6]))"
   ]
  },
  {
   "cell_type": "markdown",
   "metadata": {},
   "source": [
    "# Load Data"
   ]
  },
  {
   "cell_type": "code",
   "execution_count": 9,
   "metadata": {},
   "outputs": [],
   "source": [
    "data.path = Sys.getenv('TRESORDIR', '~/Tresors')\n",
    "tresor.path = 'CivilServant/projects/wikipedia-integration/gratitude-study/Data Drills/thankee/post_experiment_analysis'\n",
    "fname = 'grat-thankee-all-pre-post-treatment-vars.csv'\n",
    "thank.fname = '2021-04-30-secondary-thanks.csv'\n",
    "f.path = file.path(data.path, tresor.path, fname)\n",
    "all.participants <- read.csv(f.path)\n",
    "participant.thanks <- read.csv(file.path(data.path, tresor.path, thank.fname))"
   ]
  },
  {
   "cell_type": "code",
   "execution_count": null,
   "metadata": {},
   "outputs": [],
   "source": []
  },
  {
   "cell_type": "code",
   "execution_count": 12,
   "metadata": {},
   "outputs": [],
   "source": [
    "start.date = \"2019-08-02\"\n",
    "end.date   = \"2020-02-11\"\n",
    "\n",
    "end.caption.text = \"Details at: citizensandtech.org/research/how-do-wikipedians-thank-each-other/\n",
    "\n",
    "\n",
    "Citizens & Technology Lab - citizensandtech.org\n",
    "© Creative Commons International Attribution 4.0\"\n",
    "\n",
    "lab.anewc <- \"all newcomers\"\n",
    "lab.newc <- \"newcomers\"\n",
    "lab.exp <- \"experienced\""
   ]
  },
  {
   "cell_type": "code",
   "execution_count": 13,
   "metadata": {},
   "outputs": [
    {
     "data": {
      "text/html": [
       "15558"
      ],
      "text/latex": [
       "15558"
      ],
      "text/markdown": [
       "15558"
      ],
      "text/plain": [
       "[1] 15558"
      ]
     },
     "metadata": {},
     "output_type": "display_data"
    }
   ],
   "source": [
    "# cat.logo.filename <- \"../../assets/CAT-Logo-Horizontal-social-media-preview-color.png\"\n",
    "# logo.img <- readPNG(cat.logo.filename)\n",
    "# logo.pngob <- rasterGrob(logo.img)\n",
    "nrow(all.participants)"
   ]
  },
  {
   "cell_type": "code",
   "execution_count": 34,
   "metadata": {},
   "outputs": [],
   "source": [
    "# # Sys.glob(file.path(data.path,\"CivilServant/projects/wikipedia-integration/gratitude-study/Data Drills/thanker/historical_survey_merged/*.csv\"))\n",
    "\n",
    "\n",
    "# ar.filename <- 'ar-merged-20190427.csv'\n",
    "# de.filename <- 'de-merged-20190427.csv'\n",
    "# fa.filename <- 'fa-merged-20190427.csv'\n",
    "# pl.filename <- 'pl-merged-20190427.csv'\n",
    "# thanker.folder <- \"CivilServant/projects/wikipedia-integration/gratitude-study/Data Drills/thanker/historical_survey_merged/\"\n",
    "\n",
    "# ar.thankers <- read.csv(file.path(data.path, thanker.folder, ar.filename))\n"
   ]
  },
  {
   "cell_type": "code",
   "execution_count": 40,
   "metadata": {},
   "outputs": [
    {
     "data": {
      "text/html": [
       "2552"
      ],
      "text/latex": [
       "2552"
      ],
      "text/markdown": [
       "2552"
      ],
      "text/plain": [
       "[1] 2552"
      ]
     },
     "metadata": {},
     "output_type": "display_data"
    }
   ],
   "source": [
    "all.thanks.sent <- read.csv(file.path(data.path, tresor.path,\"gratitude-second-gen-thanks-analysis-with-reciprocal.tsv\"), sep=\"\\t\")\n",
    "nrow(ar.thanks.sent)"
   ]
  },
  {
   "cell_type": "code",
   "execution_count": 41,
   "metadata": {},
   "outputs": [
    {
     "data": {
      "text/html": [
       "<style>\n",
       ".list-inline {list-style: none; margin:0; padding: 0}\n",
       ".list-inline>li {display: inline-block}\n",
       ".list-inline>li:not(:last-child)::after {content: \"\\00b7\"; padding: 0 .5ex}\n",
       "</style>\n",
       "<ol class=list-inline><li>'-1'</li><li>'Reem Al-Kashif'</li><li>'Maimaid'</li><li>'Gereon K.'</li><li>'Steinsplitter'</li><li>'DerHexer'</li><li>'Gelli1742'</li><li>'Wintergoldhähnchen'</li><li>'HeinrichStuerzl'</li><li>'MoreInput'</li><li>'John Red'</li><li>'DCB'</li><li>'Andreassolar'</li><li>'ZweiZahn'</li><li>'ZellmerLP'</li><li>'Elmi1966'</li><li>'Heavytrader-Gunnar'</li><li>'Manib'</li><li>'ToFei'</li><li>'Goldmull'</li><li>'Curryfranke'</li><li>'Sujalajus'</li><li>'MichaelSchoenitzer'</li><li>'Del45'</li><li>'Joachim Mohr'</li><li>'Bcoh'</li><li>'EwkaC'</li><li>'PMG'</li><li>'Szoltys'</li><li>'Magalia'</li><li>'Albertus teolog'</li><li>'Gytha'</li><li>'Zala'</li><li>'Yarl'</li><li>'Nostrix'</li><li>'Tufor'</li><li>'Mathieu Mars'</li><li>'Tomasz Bladyniec'</li><li>'Wojciech Pędzich'</li><li>'Openbk'</li><li>'Asbb'</li><li>'Gharouni'</li><li>'Arash.pt'</li><li>'Alishahryari'</li><li>'Armin1718'</li></ol>\n"
      ],
      "text/latex": [
       "\\begin{enumerate*}\n",
       "\\item '-1'\n",
       "\\item 'Reem Al-Kashif'\n",
       "\\item 'Maimaid'\n",
       "\\item 'Gereon K.'\n",
       "\\item 'Steinsplitter'\n",
       "\\item 'DerHexer'\n",
       "\\item 'Gelli1742'\n",
       "\\item 'Wintergoldhähnchen'\n",
       "\\item 'HeinrichStuerzl'\n",
       "\\item 'MoreInput'\n",
       "\\item 'John Red'\n",
       "\\item 'DCB'\n",
       "\\item 'Andreassolar'\n",
       "\\item 'ZweiZahn'\n",
       "\\item 'ZellmerLP'\n",
       "\\item 'Elmi1966'\n",
       "\\item 'Heavytrader-Gunnar'\n",
       "\\item 'Manib'\n",
       "\\item 'ToFei'\n",
       "\\item 'Goldmull'\n",
       "\\item 'Curryfranke'\n",
       "\\item 'Sujalajus'\n",
       "\\item 'MichaelSchoenitzer'\n",
       "\\item 'Del45'\n",
       "\\item 'Joachim Mohr'\n",
       "\\item 'Bcoh'\n",
       "\\item 'EwkaC'\n",
       "\\item 'PMG'\n",
       "\\item 'Szoltys'\n",
       "\\item 'Magalia'\n",
       "\\item 'Albertus teolog'\n",
       "\\item 'Gytha'\n",
       "\\item 'Zala'\n",
       "\\item 'Yarl'\n",
       "\\item 'Nostrix'\n",
       "\\item 'Tufor'\n",
       "\\item 'Mathieu Mars'\n",
       "\\item 'Tomasz Bladyniec'\n",
       "\\item 'Wojciech Pędzich'\n",
       "\\item 'Openbk'\n",
       "\\item 'Asbb'\n",
       "\\item 'Gharouni'\n",
       "\\item 'Arash.pt'\n",
       "\\item 'Alishahryari'\n",
       "\\item 'Armin1718'\n",
       "\\end{enumerate*}\n"
      ],
      "text/markdown": [
       "1. '-1'\n",
       "2. 'Reem Al-Kashif'\n",
       "3. 'Maimaid'\n",
       "4. 'Gereon K.'\n",
       "5. 'Steinsplitter'\n",
       "6. 'DerHexer'\n",
       "7. 'Gelli1742'\n",
       "8. 'Wintergoldhähnchen'\n",
       "9. 'HeinrichStuerzl'\n",
       "10. 'MoreInput'\n",
       "11. 'John Red'\n",
       "12. 'DCB'\n",
       "13. 'Andreassolar'\n",
       "14. 'ZweiZahn'\n",
       "15. 'ZellmerLP'\n",
       "16. 'Elmi1966'\n",
       "17. 'Heavytrader-Gunnar'\n",
       "18. 'Manib'\n",
       "19. 'ToFei'\n",
       "20. 'Goldmull'\n",
       "21. 'Curryfranke'\n",
       "22. 'Sujalajus'\n",
       "23. 'MichaelSchoenitzer'\n",
       "24. 'Del45'\n",
       "25. 'Joachim Mohr'\n",
       "26. 'Bcoh'\n",
       "27. 'EwkaC'\n",
       "28. 'PMG'\n",
       "29. 'Szoltys'\n",
       "30. 'Magalia'\n",
       "31. 'Albertus teolog'\n",
       "32. 'Gytha'\n",
       "33. 'Zala'\n",
       "34. 'Yarl'\n",
       "35. 'Nostrix'\n",
       "36. 'Tufor'\n",
       "37. 'Mathieu Mars'\n",
       "38. 'Tomasz Bladyniec'\n",
       "39. 'Wojciech Pędzich'\n",
       "40. 'Openbk'\n",
       "41. 'Asbb'\n",
       "42. 'Gharouni'\n",
       "43. 'Arash.pt'\n",
       "44. 'Alishahryari'\n",
       "45. 'Armin1718'\n",
       "\n",
       "\n"
      ],
      "text/plain": [
       " [1] \"-1\"                 \"Reem Al-Kashif\"     \"Maimaid\"           \n",
       " [4] \"Gereon K.\"          \"Steinsplitter\"      \"DerHexer\"          \n",
       " [7] \"Gelli1742\"          \"Wintergoldhähnchen\" \"HeinrichStuerzl\"   \n",
       "[10] \"MoreInput\"          \"John Red\"           \"DCB\"               \n",
       "[13] \"Andreassolar\"       \"ZweiZahn\"           \"ZellmerLP\"         \n",
       "[16] \"Elmi1966\"           \"Heavytrader-Gunnar\" \"Manib\"             \n",
       "[19] \"ToFei\"              \"Goldmull\"           \"Curryfranke\"       \n",
       "[22] \"Sujalajus\"          \"MichaelSchoenitzer\" \"Del45\"             \n",
       "[25] \"Joachim Mohr\"       \"Bcoh\"               \"EwkaC\"             \n",
       "[28] \"PMG\"                \"Szoltys\"            \"Magalia\"           \n",
       "[31] \"Albertus teolog\"    \"Gytha\"              \"Zala\"              \n",
       "[34] \"Yarl\"               \"Nostrix\"            \"Tufor\"             \n",
       "[37] \"Mathieu Mars\"       \"Tomasz Bladyniec\"   \"Wojciech Pędzich\"  \n",
       "[40] \"Openbk\"             \"Asbb\"               \"Gharouni\"          \n",
       "[43] \"Arash.pt\"           \"Alishahryari\"       \"Armin1718\"         "
      ]
     },
     "metadata": {},
     "output_type": "display_data"
    }
   ],
   "source": [
    "unique(all.thanks.sent$first.gen.sender.user.name)"
   ]
  },
  {
   "cell_type": "code",
   "execution_count": null,
   "metadata": {},
   "outputs": [],
   "source": []
  }
 ],
 "metadata": {
  "kernelspec": {
   "display_name": "R",
   "language": "R",
   "name": "ir"
  },
  "language_info": {
   "codemirror_mode": "r",
   "file_extension": ".r",
   "mimetype": "text/x-r-source",
   "name": "R",
   "pygments_lexer": "r",
   "version": "4.3.3"
  },
  "varInspector": {
   "cols": {
    "lenName": 16,
    "lenType": 16,
    "lenVar": 40
   },
   "kernels_config": {
    "python": {
     "delete_cmd_postfix": "",
     "delete_cmd_prefix": "del ",
     "library": "var_list.py",
     "varRefreshCmd": "print(var_dic_list())"
    },
    "r": {
     "delete_cmd_postfix": ") ",
     "delete_cmd_prefix": "rm(",
     "library": "var_list.r",
     "varRefreshCmd": "cat(var_dic_list()) "
    }
   },
   "types_to_exclude": [
    "module",
    "function",
    "builtin_function_or_method",
    "instance",
    "_Feature"
   ],
   "window_display": false
  }
 },
 "nbformat": 4,
 "nbformat_minor": 4
}
