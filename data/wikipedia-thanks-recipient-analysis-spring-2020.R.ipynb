{
 "cells": [
  {
   "cell_type": "markdown",
   "metadata": {},
   "source": [
    "# Wikipedia Thanks Recipient Analysis Spring 2020 \n",
    "# [PROVISIONAL- DO NOT SHARE OR CITE UNLESS YOU WANT TO DISTRIBUTE POTENTIALLY-INACCURATE INFORMATION]\n",
    "[J. Nathan Matias](https://natematias.com), May 2020\n",
    "\n",
    "Key documents:\n",
    "* [pre-analysis plan: Receiving Thanks on Wikipedia](https://osf.io/c67rg/)\n",
    "* [data format description](https://docs.google.com/document/d/1plhoDbQryYQ32vZMXu8YmlLSp30QTdup43k6uTePOT4/edit#heading=h.fxaguwxn13cj)\n",
    "\n",
    "Decisions:\n",
    "* With only 786 survey compliers, we are way under the sample needed to test our survey questions. So we will only report summary statistics for survey questions.\n",
    "* Since we aren't testing survey-based hypotheses, we will reduce the number of comparisons that we adjust for.\n",
    "* In this code, I don't adjust for language and sub-group in the meta-analysis. That's unnecessary because difference_in_means accounts for the randomization strategy. I misunderstood that at the time I pre-registered."
   ]
  },
  {
   "cell_type": "code",
   "execution_count": 47,
   "metadata": {},
   "outputs": [],
   "source": [
    "library(plyr)\n",
    "library(AER)\n",
    "library(tidyverse)\n",
    "library(magrittr)\n",
    "library(gmodels)\n",
    "library(MASS)\n",
    "library(estimatr)\n",
    "library(ri2)\n",
    "library(ggplot2)\n",
    "library(ggpubr)   # contains ggarrange\n",
    "library(png)      # to load logo\n",
    "library(grid)\n",
    "\n",
    "### TODO: Add Source Sans as a font for ggplot2\n",
    "library(sysfonts) # to load source sans pro\n",
    "# https://rdrr.io/github/kjhealy/sourcesans/src/R/sourcesans.r\n",
    "\n",
    "## Set visual style\n",
    "catpalette   <- c(\"#333333\", \"#ea5324\", \"#005073\", \"#7D868C\", \"#BDBBBB\", \"#F2F2F2\",\"#F6F2EB\")\n",
    "chartpalette <- c(\"#ea5324\", \"#005073\", \"#7D868C\", \"#333333\", \"#F2F2F2\",\"#BDBBBB\", \"#F6F2EB\")\n",
    "\n",
    "cat.theme <-  theme_bw() +\n",
    "              theme(plot.title = element_text(size=13, face=\"bold\", color=catpalette[3]),\n",
    "                    axis.title.x =element_text(size=10, hjust = -0.01, color = catpalette[1]),\n",
    "                    axis.title.y =element_text(size=10, color = catpalette[1]),\n",
    "                    panel.background = element_rect(fill=catpalette[6]))"
   ]
  },
  {
   "cell_type": "markdown",
   "metadata": {},
   "source": [
    "# Load Data"
   ]
  },
  {
   "cell_type": "code",
   "execution_count": 48,
   "metadata": {},
   "outputs": [],
   "source": [
    "data.path = Sys.getenv('TRESORDIR', '~/Tresors')\n",
    "tresor.path = 'CivilServant/projects/wikipedia-integration/gratitude-study/Data Drills/thankee/post_experiment_analysis'\n",
    "fname = 'grat-thankee-all-pre-post-treatment-vars.csv'\n",
    "f.path = file.path(data.path, tresor.path, fname)\n",
    "all.participants <- read.csv(f.path)"
   ]
  },
  {
   "cell_type": "code",
   "execution_count": 49,
   "metadata": {},
   "outputs": [],
   "source": [
    "start.date = \"2019-08-02\"\n",
    "end.date   = \"2020-02-11\"\n",
    "\n",
    "end.caption.text = \"Details at: citizensandtech.org/research/how-do-wikipedians-thank-each-other/\n",
    "\n",
    "\n",
    "Citizens & Technology Lab - citizensandtech.org\n",
    "© Creative Commons International Attribution 4.0\"\n",
    "\n",
    "lab.anewc <- \"all newcomers\"\n",
    "lab.newc <- \"newcomers\"\n",
    "lab.exp <- \"experienced\""
   ]
  },
  {
   "cell_type": "code",
   "execution_count": 50,
   "metadata": {},
   "outputs": [],
   "source": [
    "# cat.logo.filename <- \"../../assets/CAT-Logo-Horizontal-social-media-preview-color.png\"\n",
    "# logo.img <- readPNG(cat.logo.filename)\n",
    "# logo.pngob <- rasterGrob(logo.img)"
   ]
  },
  {
   "cell_type": "markdown",
   "metadata": {},
   "source": [
    "### Convert columns to column names and formats from the experiment plan"
   ]
  },
  {
   "cell_type": "code",
   "execution_count": 51,
   "metadata": {},
   "outputs": [],
   "source": [
    "all.participants$two.week.retention  %<>% as.logical\n",
    "all.participants$complier  %<>% as.logical\n",
    "all.participants$has.email  %<>% as.logical\n",
    "all.participants$thanks.not.received.skipped %<>% as.logical\n",
    "all.participants$thanks.not.received.not.seen  %<>% as.logical\n",
    "all.participants$thanks.not.received.error  %<>% as.logical\n",
    "all.participants$thanks.not.received.user.deleted  %<>% as.logical\n",
    "all.participants$received.multiple.thanks  %<>% as.logical\n",
    "all.participants$complier.app.any.reason  %<>% as.logical\n",
    "\n",
    "all.participants$TREAT <- all.participants$randomization.arm\n",
    "all.participants$block <- all.participants$randomization.block.id\n",
    "all.participants$prev.experience <- all.participants$prev.experience.assignment\n",
    "all.participants$newcomer <- all.participants$prev.experience==\"bin_0\"\n",
    "\n",
    "all.participants$prev.experience.assignment.days <- \n",
    "    as.numeric(str_replace(all.participants$prev.experience, \"bin_\", \"\"))"
   ]
  },
  {
   "cell_type": "markdown",
   "metadata": {},
   "source": [
    "### Remove blocks that include accounts that were deleted"
   ]
  },
  {
   "cell_type": "code",
   "execution_count": 52,
   "metadata": {},
   "outputs": [],
   "source": [
    "blocks.to.omit.deleted <- subset(all.participants, thanks.not.received.user.deleted)$block"
   ]
  },
  {
   "cell_type": "markdown",
   "metadata": {},
   "source": [
    "#### Remove Blocks that were Multiply Thanked"
   ]
  },
  {
   "cell_type": "code",
   "execution_count": 53,
   "metadata": {},
   "outputs": [
    {
     "data": {
      "text/html": [
       "81"
      ],
      "text/latex": [
       "81"
      ],
      "text/markdown": [
       "81"
      ],
      "text/plain": [
       "[1] 81"
      ]
     },
     "metadata": {},
     "output_type": "display_data"
    }
   ],
   "source": [
    "length(unique(subset(all.participants,received.multiple.thanks)$block))\n",
    "blocks.to.omit.multiple.thanks <- unique(subset(all.participants,received.multiple.thanks)$block)"
   ]
  },
  {
   "cell_type": "code",
   "execution_count": 54,
   "metadata": {},
   "outputs": [],
   "source": [
    "participants <- subset(all.participants, \n",
    "                       (block %in% blocks.to.omit.deleted)!=TRUE & \n",
    "                       (block %in% blocks.to.omit.multiple.thanks)!=TRUE\n",
    "                      )"
   ]
  },
  {
   "cell_type": "markdown",
   "metadata": {},
   "source": [
    "# Baseline Descriptive Information\n",
    "\n",
    "## Study Participants"
   ]
  },
  {
   "cell_type": "code",
   "execution_count": 55,
   "metadata": {},
   "outputs": [],
   "source": [
    "# CrossTable(participants$lang, participants$TREAT, \n",
    "#            prop.c = FALSE, prop.r=FALSE, \n",
    "#            prop.t=FALSE, prop.chisq = FALSE)"
   ]
  },
  {
   "cell_type": "markdown",
   "metadata": {},
   "source": [
    "## Previous Experience by Language\n"
   ]
  },
  {
   "cell_type": "code",
   "execution_count": 56,
   "metadata": {},
   "outputs": [],
   "source": [
    "# CrossTable(participants$prev.experience.assignment.days, \n",
    "#            participants$lang, \n",
    "#            prop.c = FALSE, prop.r=FALSE, \n",
    "#            prop.t=FALSE, prop.chisq = FALSE)"
   ]
  },
  {
   "cell_type": "code",
   "execution_count": 57,
   "metadata": {},
   "outputs": [],
   "source": [
    "# CrossTable(participants$lang, \n",
    "#            participants$newcomer, \n",
    "#            prop.c = FALSE, prop.r=FALSE, \n",
    "#            prop.t=FALSE, prop.chisq = FALSE)"
   ]
  },
  {
   "cell_type": "markdown",
   "metadata": {},
   "source": [
    "## Treatment by Previous Experience"
   ]
  },
  {
   "cell_type": "code",
   "execution_count": 58,
   "metadata": {},
   "outputs": [],
   "source": [
    "# CrossTable(participants$prev.experience.assignment.days, participants$TREAT, \n",
    "#            prop.c = FALSE, prop.r=FALSE, \n",
    "#            prop.t=FALSE, prop.chisq = FALSE)"
   ]
  },
  {
   "cell_type": "markdown",
   "metadata": {},
   "source": [
    "## Received Thanks by Experience and Language"
   ]
  },
  {
   "cell_type": "code",
   "execution_count": 59,
   "metadata": {},
   "outputs": [],
   "source": [
    "# CrossTable(subset(participants, TREAT==1)$newcomer, \n",
    "#            subset(participants, TREAT==1)$complier.app.any.reason,\n",
    "#            prop.t=FALSE, prop.chisq=FALSE, prop.c=FALSE)"
   ]
  },
  {
   "cell_type": "code",
   "execution_count": 60,
   "metadata": {},
   "outputs": [],
   "source": [
    "# CrossTable(paste(subset(participants, TREAT==1)$lang, \n",
    "#                  subset(participants, TREAT==1)$newcomer), \n",
    "#            subset(participants, TREAT==1)$complier.app.any.reason,\n",
    "#            prop.t=FALSE, prop.chisq=FALSE, prop.c=FALSE)"
   ]
  },
  {
   "cell_type": "markdown",
   "metadata": {},
   "source": [
    "## Survey Compliance\n",
    "\n",
    "### Survey Compliance by Language"
   ]
  },
  {
   "cell_type": "code",
   "execution_count": 61,
   "metadata": {},
   "outputs": [
    {
     "data": {
      "text/html": [
       "0.0502160534241194"
      ],
      "text/latex": [
       "0.0502160534241194"
      ],
      "text/markdown": [
       "0.0502160534241194"
      ],
      "text/plain": [
       "[1] 0.05021605"
      ]
     },
     "metadata": {},
     "output_type": "display_data"
    }
   ],
   "source": [
    "sum(participants$complier)/nrow(participants)"
   ]
  },
  {
   "cell_type": "code",
   "execution_count": 62,
   "metadata": {},
   "outputs": [],
   "source": [
    "# CrossTable(participants$prev.experience.assignment.days, participants$complier, \n",
    "#            prop.c = FALSE, prop.r=TRUE, \n",
    "#            prop.t=FALSE, prop.chisq = FALSE)"
   ]
  },
  {
   "cell_type": "markdown",
   "metadata": {},
   "source": [
    "# Analysis"
   ]
  },
  {
   "cell_type": "markdown",
   "metadata": {},
   "source": [
    "## Create Study Sub-Samples"
   ]
  },
  {
   "cell_type": "code",
   "execution_count": 63,
   "metadata": {},
   "outputs": [],
   "source": [
    "newcomers.df <- subset(participants, newcomer==TRUE)\n",
    "experienced.df <- subset(participants, newcomer==FALSE)\n",
    "newcomer.compliers.df <- subset(newcomers.df,complier==TRUE)"
   ]
  },
  {
   "cell_type": "code",
   "execution_count": 64,
   "metadata": {},
   "outputs": [],
   "source": [
    "# CrossTable(newcomers.df$lang, newcomers.df$TREAT, \n",
    "#            prop.c = FALSE, prop.r=FALSE, \n",
    "#            prop.t=FALSE, prop.chisq = FALSE)"
   ]
  },
  {
   "cell_type": "code",
   "execution_count": 65,
   "metadata": {},
   "outputs": [],
   "source": [
    "# CrossTable(experienced.df$lang, experienced.df$TREAT, \n",
    "#            prop.c = FALSE, prop.r=FALSE, \n",
    "#            prop.t=FALSE, prop.chisq = FALSE)"
   ]
  },
  {
   "cell_type": "code",
   "execution_count": 66,
   "metadata": {},
   "outputs": [],
   "source": [
    "# CrossTable(newcomers.df$TREAT, newcomers.df$complier, \n",
    "#            prop.c = FALSE, prop.r=TRUE, \n",
    "#            prop.t=FALSE, prop.chisq = FALSE)\n",
    "\n",
    "# summary(lm(complier ~ TREAT, data=newcomers.df))"
   ]
  },
  {
   "cell_type": "markdown",
   "metadata": {},
   "source": [
    "# Per-Language Analysis Method"
   ]
  },
  {
   "cell_type": "code",
   "execution_count": 67,
   "metadata": {},
   "outputs": [],
   "source": [
    "df.estimates <- function(df, lang=\"all\", subgroup=\"all\"){\n",
    "\n",
    "    df.compliers <- subset(df, complier)\n",
    "\n",
    "    thanks.model.formula <- \"thanks.sent ~ TREAT\"\n",
    "    if(lang==\"all\"){\n",
    "        thanks.model.formula <- paste(thanks.model.formula, \" + lang\")\n",
    "    }\n",
    "    \n",
    "    if(subgroup==\"all\"){\n",
    "        thanks.model.formula <- paste(thanks.model.formula, \" + newcomer\")\n",
    "    }\n",
    "    \n",
    "        \n",
    "    thanks.model         <- glm.nb(thanks.model.formula, data=df)\n",
    "    m.thanks.sent        <- coef(summary(thanks.model))\n",
    "    m.thanks.sent        <- data.frame(cbind(m.thanks.sent, confint(thanks.model)))\n",
    "    names(m.thanks.sent)[4] <- \"pvalue\"\n",
    "    names(m.thanks.sent)[5] <- \"CI.Lower\"\n",
    "    names(m.thanks.sent)[6] <- \"CI.Upper\"\n",
    "    m.thanks.sent$DF       <- thanks.model$df.residual\n",
    "    m.thanks.sent$model    <- \"thanks sent\"\n",
    "    m.thanks.sent$t.value  <- NA\n",
    "    m.thanks.sent$n.size   <- nrow(df)\n",
    "    m.thanks.sent$n.thanked.count <- nrow(subset(df, complier.app.any.reason))\n",
    "    \n",
    "    m.retention            <- data.frame(coef(summary(difference_in_means(two.week.retention ~ TREAT, blocks=block, ci=TRUE, data=df))))\n",
    "    m.retention$model      <- \"retention\"\n",
    "    m.retention$z.value    <- NA\n",
    "    m.retention$n.size     <- nrow(df)\n",
    "    m.retention$n.thanked.count <- nrow(subset(df, complier.app.any.reason))\n",
    "    \n",
    "    m.labor.hours          <- data.frame(coef(summary(difference_in_means(labor.hours.per.day.diff ~ TREAT, blocks=block, ci=TRUE, data=df))))\n",
    "    m.labor.hours$model    <- \"labor hours\"\n",
    "    m.labor.hours$z.value  <- NA\n",
    "    m.labor.hours$n.size   <- nrow(df)\n",
    "    m.labor.hours$n.thanked.count <- nrow(subset(df, complier.app.any.reason))\n",
    "\n",
    "    m.manip.check          <- data.frame(coef(summary(difference_in_means(remembered.thanks<=3 ~ TREAT, ci=TRUE, data=df.compliers))))\n",
    "    m.manip.check$model    <- \"manipulation check\"\n",
    "    m.manip.check$z.value  <- NA\n",
    "    m.manip.check$n.size   <- nrow(df.compliers)\n",
    "    m.manip.check$n.thanked.count <-  nrow(subset(df.compliers, complier.app.any.reason))\n",
    "\n",
    "    names(m.retention)[4]           <- \"pvalue\"\n",
    "    names(m.manip.check)[4]         <- \"pvalue\"\n",
    "    names(m.labor.hours)[4]         <- \"pvalue\"\n",
    "\n",
    "\n",
    "    m.thanks.sent$estimator        <- \"glm.nb\"\n",
    "    m.retention$estimator          <- \"difference_in_means\"\n",
    "    m.labor.hours$estimator        <- \"difference_in_means\"\n",
    "    m.manip.check$estimator        <- \"difference_in_means\"\n",
    "\n",
    "    result.df <- rbind(m.thanks.sent, m.retention, \n",
    "                       m.labor.hours, m.manip.check)\n",
    "    \n",
    "    result.df <- result.df[str_detect(row.names(result.df), \"TREAT\"),]\n",
    "    \n",
    "    #result.df[row.names(result.df)!=\"(Intercept)\",]\n",
    "    \n",
    "    result.df$lang     <- lang\n",
    "    result.df$subgroup <- subgroup\n",
    "    \n",
    "    result.df\n",
    "}"
   ]
  },
  {
   "cell_type": "markdown",
   "metadata": {},
   "source": [
    "### Aggregate and Adjust Results for All Participants"
   ]
  },
  {
   "cell_type": "code",
   "execution_count": 68,
   "metadata": {},
   "outputs": [
    {
     "name": "stderr",
     "output_type": "stream",
     "text": [
      "Waiting for profiling to be done...\n",
      "Waiting for profiling to be done...\n"
     ]
    }
   ],
   "source": [
    "all.results <- df.estimates(participants)\n",
    "all.results <- subset(all.results, model!=\"labor hours\")\n",
    "\n",
    "all.newcomer.results <- df.estimates(subset(participants, newcomer), subgroup=\"newcomer\")\n",
    "all.results <- rbind(all.results, subset(all.newcomer.results, model==\"labor hours\"))\n",
    "\n",
    "## Adjust for multiple comparisons\n",
    "# adjustment needs to be done at the level of each\n",
    "# dataframe, since the tests are different for \n",
    "# different subgroups and languages.\n",
    "# When doing adjustment for multiple comparisons\n",
    "# we omit the manipulation check, since it's not\n",
    "# one of the confirmatory tests\n",
    "all.results[all.results$model!=\"manipulation check\",]$pvalue <- p.adjust(all.results[all.results$model!=\"manipulation check\",]$pvalue, method=\"holm\")"
   ]
  },
  {
   "cell_type": "code",
   "execution_count": 69,
   "metadata": {},
   "outputs": [
    {
     "data": {
      "text/html": [
       "<table>\n",
       "<thead><tr><th></th><th scope=col>model</th><th scope=col>Estimate</th><th scope=col>pvalue</th><th scope=col>CI.Lower</th><th scope=col>CI.Upper</th><th scope=col>n.size</th><th scope=col>estimator</th><th scope=col>subgroup</th></tr></thead>\n",
       "<tbody>\n",
       "\t<tr><th scope=row>TREAT</th><td>thanks sent        </td><td>0.474498984        </td><td>2.054607e-03       </td><td> 0.1895588964      </td><td>0.76009838         </td><td>15274              </td><td>glm.nb             </td><td>all                </td></tr>\n",
       "\t<tr><th scope=row>TREAT1</th><td>retention          </td><td>0.021998167        </td><td>9.329827e-04       </td><td> 0.0100450078      </td><td>0.03395133         </td><td>15274              </td><td>difference_in_means</td><td>all                </td></tr>\n",
       "\t<tr><th scope=row>TREAT3</th><td>manipulation check </td><td>0.292051066        </td><td>2.074219e-16       </td><td> 0.2238649972      </td><td>0.36023713         </td><td>  767              </td><td>difference_in_means</td><td>all                </td></tr>\n",
       "\t<tr><th scope=row>TREAT2</th><td>labor hours        </td><td>0.002876707        </td><td>1.150049e-01       </td><td>-0.0007008952      </td><td>0.00645431         </td><td> 9984              </td><td>difference_in_means</td><td>newcomer           </td></tr>\n",
       "</tbody>\n",
       "</table>\n"
      ],
      "text/latex": [
       "\\begin{tabular}{r|llllllll}\n",
       "  & model & Estimate & pvalue & CI.Lower & CI.Upper & n.size & estimator & subgroup\\\\\n",
       "\\hline\n",
       "\tTREAT & thanks sent         & 0.474498984         & 2.054607e-03        &  0.1895588964       & 0.76009838          & 15274               & glm.nb              & all                \\\\\n",
       "\tTREAT1 & retention               & 0.021998167             & 9.329827e-04            &  0.0100450078           & 0.03395133              & 15274                   & difference\\_in\\_means & all                    \\\\\n",
       "\tTREAT3 & manipulation check      & 0.292051066             & 2.074219e-16            &  0.2238649972           & 0.36023713              &   767                   & difference\\_in\\_means & all                    \\\\\n",
       "\tTREAT2 & labor hours             & 0.002876707             & 1.150049e-01            & -0.0007008952           & 0.00645431              &  9984                   & difference\\_in\\_means & newcomer               \\\\\n",
       "\\end{tabular}\n"
      ],
      "text/markdown": [
       "\n",
       "| <!--/--> | model | Estimate | pvalue | CI.Lower | CI.Upper | n.size | estimator | subgroup |\n",
       "|---|---|---|---|---|---|---|---|---|\n",
       "| TREAT | thanks sent         | 0.474498984         | 2.054607e-03        |  0.1895588964       | 0.76009838          | 15274               | glm.nb              | all                 |\n",
       "| TREAT1 | retention           | 0.021998167         | 9.329827e-04        |  0.0100450078       | 0.03395133          | 15274               | difference_in_means | all                 |\n",
       "| TREAT3 | manipulation check  | 0.292051066         | 2.074219e-16        |  0.2238649972       | 0.36023713          |   767               | difference_in_means | all                 |\n",
       "| TREAT2 | labor hours         | 0.002876707         | 1.150049e-01        | -0.0007008952       | 0.00645431          |  9984               | difference_in_means | newcomer            |\n",
       "\n"
      ],
      "text/plain": [
       "       model              Estimate    pvalue       CI.Lower      CI.Upper  \n",
       "TREAT  thanks sent        0.474498984 2.054607e-03  0.1895588964 0.76009838\n",
       "TREAT1 retention          0.021998167 9.329827e-04  0.0100450078 0.03395133\n",
       "TREAT3 manipulation check 0.292051066 2.074219e-16  0.2238649972 0.36023713\n",
       "TREAT2 labor hours        0.002876707 1.150049e-01 -0.0007008952 0.00645431\n",
       "       n.size estimator           subgroup\n",
       "TREAT  15274  glm.nb              all     \n",
       "TREAT1 15274  difference_in_means all     \n",
       "TREAT3   767  difference_in_means all     \n",
       "TREAT2  9984  difference_in_means newcomer"
      ]
     },
     "metadata": {},
     "output_type": "display_data"
    }
   ],
   "source": [
    "all.results[c(\"model\",\"Estimate\", \"pvalue\", \"CI.Lower\", \"CI.Upper\", \"n.size\", \"estimator\", \"subgroup\")]"
   ]
  },
  {
   "cell_type": "markdown",
   "metadata": {},
   "source": [
    "# Generate Sub-Group Analyses"
   ]
  },
  {
   "cell_type": "code",
   "execution_count": 70,
   "metadata": {},
   "outputs": [
    {
     "name": "stderr",
     "output_type": "stream",
     "text": [
      "Waiting for profiling to be done...\n",
      "Waiting for profiling to be done...\n",
      "Waiting for profiling to be done...\n"
     ]
    }
   ],
   "source": [
    "ar.newcomer.results <- df.estimates(subset(participants, lang==\"ar\" & newcomer), lang=\"ar\", subgroup=\"newcomer\")\n",
    "de.newcomer.results <- df.estimates(subset(participants, lang==\"de\" & newcomer), lang=\"de\", subgroup=\"newcomer\")\n",
    "pl.newcomer.results <- df.estimates(subset(participants, lang==\"pl\" & newcomer), lang=\"pl\", subgroup=\"newcomer\")"
   ]
  },
  {
   "cell_type": "code",
   "execution_count": 71,
   "metadata": {},
   "outputs": [
    {
     "name": "stderr",
     "output_type": "stream",
     "text": [
      "Waiting for profiling to be done...\n",
      "Waiting for profiling to be done...\n"
     ]
    }
   ],
   "source": [
    "fa.experienced.results <- df.estimates(subset(participants, lang==\"fa\" & newcomer!=TRUE), lang=\"fa\", subgroup=\"experienced\")\n",
    "fa.experienced.results <- subset(fa.experienced.results,model!=\"labor hours\")\n",
    "\n",
    "pl.experienced.results <- df.estimates(subset(participants, lang==\"pl\" & newcomer!=TRUE), lang=\"pl\", subgroup=\"experienced\")\n",
    "pl.experienced.results <- subset(pl.experienced.results,model!=\"labor hours\")"
   ]
  },
  {
   "cell_type": "code",
   "execution_count": 72,
   "metadata": {},
   "outputs": [],
   "source": [
    "ar.newcomer.results[ar.newcomer.results$model!=\"manipulation check\",]$pvalue <- \n",
    "        p.adjust(ar.newcomer.results[ar.newcomer.results$model!=\"manipulation check\",]$pvalue, method=\"holm\")\n",
    "\n",
    "de.newcomer.results[de.newcomer.results$model!=\"manipulation check\",]$pvalue <- \n",
    "        p.adjust(de.newcomer.results[de.newcomer.results$model!=\"manipulation check\",]$pvalue, method=\"holm\")\n",
    "\n",
    "pl.newcomer.results[pl.newcomer.results$model!=\"manipulation check\",]$pvalue <- \n",
    "        p.adjust(pl.newcomer.results[pl.newcomer.results$model!=\"manipulation check\",]$pvalue, method=\"holm\")\n",
    "\n",
    "fa.experienced.results[fa.experienced.results$model!=\"manipulation check\",]$pvalue <- \n",
    "        p.adjust(fa.experienced.results[fa.experienced.results$model!=\"manipulation check\",]$pvalue, method=\"holm\")\n",
    "\n",
    "pl.experienced.results[pl.experienced.results$model!=\"manipulation check\",]$pvalue <- \n",
    "        p.adjust(pl.experienced.results[pl.experienced.results$model!=\"manipulation check\",]$pvalue, method=\"holm\")"
   ]
  },
  {
   "cell_type": "code",
   "execution_count": 73,
   "metadata": {},
   "outputs": [],
   "source": [
    "all.lang.results <- rbind(ar.newcomer.results, de.newcomer.results,\n",
    "                          pl.newcomer.results, fa.experienced.results,\n",
    "                          pl.experienced.results, all.results)\n",
    "\n",
    "#all.lang.results"
   ]
  },
  {
   "cell_type": "markdown",
   "metadata": {},
   "source": [
    "### Adjust Sub-Group Analyses for Multiple Comparisons"
   ]
  },
  {
   "cell_type": "code",
   "execution_count": 74,
   "metadata": {},
   "outputs": [],
   "source": [
    "all.results[all.results$model!=\"manipulation check\",]$pvalue <- p.adjust(all.results[all.results$model!=\"manipulation check\",]$pvalue, method=\"holm\")"
   ]
  },
  {
   "cell_type": "markdown",
   "metadata": {},
   "source": [
    "# Plot Results"
   ]
  },
  {
   "cell_type": "markdown",
   "metadata": {},
   "source": [
    "### Plot Effect on Labor Hours"
   ]
  },
  {
   "cell_type": "code",
   "execution_count": 75,
   "metadata": {},
   "outputs": [
    {
     "data": {
      "text/html": [
       "<table>\n",
       "<thead><tr><th></th><th scope=col>Estimate</th><th scope=col>Std..Error</th><th scope=col>z.value</th><th scope=col>pvalue</th><th scope=col>CI.Lower</th><th scope=col>CI.Upper</th><th scope=col>DF</th><th scope=col>model</th><th scope=col>t.value</th><th scope=col>n.size</th><th scope=col>n.thanked.count</th><th scope=col>estimator</th><th scope=col>lang</th><th scope=col>subgroup</th></tr></thead>\n",
       "<tbody>\n",
       "\t<tr><th scope=row>TREAT23</th><td>0.002876707        </td><td>0.001824898        </td><td>NA                 </td><td>0.1150049          </td><td>-0.0007008952      </td><td>0.00645431         </td><td>4991               </td><td>labor hours        </td><td>1.576366           </td><td>9984               </td><td>1572               </td><td>difference_in_means</td><td>all                </td><td>newcomer           </td></tr>\n",
       "</tbody>\n",
       "</table>\n"
      ],
      "text/latex": [
       "\\begin{tabular}{r|llllllllllllll}\n",
       "  & Estimate & Std..Error & z.value & pvalue & CI.Lower & CI.Upper & DF & model & t.value & n.size & n.thanked.count & estimator & lang & subgroup\\\\\n",
       "\\hline\n",
       "\tTREAT23 & 0.002876707             & 0.001824898             & NA                      & 0.1150049               & -0.0007008952           & 0.00645431              & 4991                    & labor hours             & 1.576366                & 9984                    & 1572                    & difference\\_in\\_means & all                     & newcomer               \\\\\n",
       "\\end{tabular}\n"
      ],
      "text/markdown": [
       "\n",
       "| <!--/--> | Estimate | Std..Error | z.value | pvalue | CI.Lower | CI.Upper | DF | model | t.value | n.size | n.thanked.count | estimator | lang | subgroup |\n",
       "|---|---|---|---|---|---|---|---|---|---|---|---|---|---|---|\n",
       "| TREAT23 | 0.002876707         | 0.001824898         | NA                  | 0.1150049           | -0.0007008952       | 0.00645431          | 4991                | labor hours         | 1.576366            | 9984                | 1572                | difference_in_means | all                 | newcomer            |\n",
       "\n"
      ],
      "text/plain": [
       "        Estimate    Std..Error  z.value pvalue    CI.Lower      CI.Upper   DF  \n",
       "TREAT23 0.002876707 0.001824898 NA      0.1150049 -0.0007008952 0.00645431 4991\n",
       "        model       t.value  n.size n.thanked.count estimator           lang\n",
       "TREAT23 labor hours 1.576366 9984   1572            difference_in_means all \n",
       "        subgroup\n",
       "TREAT23 newcomer"
      ]
     },
     "metadata": {},
     "output_type": "display_data"
    }
   ],
   "source": [
    "subset(all.lang.results, lang==\"all\" & model == \"labor hours\")"
   ]
  },
  {
   "cell_type": "code",
   "execution_count": 81,
   "metadata": {
    "scrolled": false
   },
   "outputs": [
    {
     "data": {},
     "metadata": {},
     "output_type": "display_data"
    },
    {
     "data": {
      "image/png": "[encoded data removed]",
      "text/plain": [
       "plot without title"
      ]
     },
     "metadata": {},
     "output_type": "display_data"
    }
   ],
   "source": [
    "options(repr.plot.width = 8, repr.plot.height = 5, repr.plot.res = 100)\n",
    "\n",
    "df1 <- subset(all.lang.results, model==\"labor hours\" & lang == \"all\" & subgroup==\"newcomer\")\n",
    "\n",
    "df2 <- subset(all.lang.results, model==\"labor hours\" & subgroup==\"newcomer\" & lang!=\"all\")\n",
    "\n",
    "\n",
    "labor.hours.participants.count <- prettyNum(df1$n.size, big.mark=\",\")\n",
    "labor.hours.participants.count.new.ar <- prettyNum(subset(df2, lang==\"ar\")$n.size, big.mark=',')\n",
    "labor.hours.participants.count.new.de <- prettyNum(subset(df2, lang==\"de\")$n.size, big.mark=',')\n",
    "labor.hours.participants.count.new.pl <-prettyNum(subset(df2, lang==\"pl\")$n.size, big.mark=',')\n",
    "labor.hours.participants.assigned.perc <-round(df1$n.thanked.count/(df1$n.size/2)*100)\n",
    "labor.hours.participants.assigned.total <-prettyNum(df1$n.size/2, big.mark=\",\")\n",
    "labor.hours.participants.assigned.dimest <- prettyNum(df1$pvalue, digits=2)\n",
    "labor.hours.ylab <- \"Difference in\\nDaily Labor Hours\"\n",
    "\n",
    "\n",
    "labor.hours.plot.caption <- str_interp(\"This study did not detect an effect of organized thanks on changes in the amount of time that \n",
    "newcomers contribute to Wikipedia on average.\")\n",
    "\n",
    "\n",
    "all.plot <- ggplot(df1, aes(lang, Estimate)) +\n",
    "        geom_hline(yintercept = 0, linetype=\"dashed\", color=\"#999999\") +\n",
    "        geom_errorbar(aes(ymax=df1$CI.Upper, ymin=df1$CI.Lower), \n",
    "                      size=1, color=chartpalette[1], width=0.1) +\n",
    "        geom_point(color=chartpalette[1]) +\n",
    "        ylab(labor.hours.ylab) +\n",
    "        cat.theme + \n",
    "        theme(axis.title.x=element_blank(),\n",
    "              axis.text.x = element_text(size=12, face=\"bold\", color=chartpalette[1])) +\n",
    "        ylim(-0.01, 0.015)\n",
    "\n",
    "\n",
    "\n",
    "lang.plot <- ggplot(df2, aes(lang, Estimate)) +\n",
    "        geom_hline(yintercept = 0, linetype=\"dashed\", color=\"#999999\") +\n",
    "        geom_errorbar(aes(ymax=df2$CI.Upper, ymin=df2$CI.Lower), \n",
    "                      size=1, color=chartpalette[3], width=0.1) +\n",
    "        geom_point(color=chartpalette[3]) +\n",
    "        cat.theme +\n",
    "        theme(axis.text.y = element_blank(),\n",
    "              axis.title  = element_blank(), \n",
    "              axis.text.x = element_text(size=12, face=\"bold\", color=chartpalette[3])) +\n",
    "        ylab(\"\") +\n",
    "        xlab(\"\") +\n",
    "        ylim(-0.01, 0.015)\n",
    "\n",
    "labor.hours.plot <- ggarrange(all.plot, lang.plot, ncol=2, nrow=1, widths=c(1.5,3.2))\n",
    "\n",
    "labor.hours.plot + ggsave(file.path('../figs', 'labor.hours.plot.pdf'),\n",
    "                          width=6, height=2 , units='in', device=\"pdf\")\n",
    "\n",
    "# labor.hours.plot <- annotate_figure(labor.hours.plot,\n",
    "#                         bottom=text_grob(labor.hours.plot.caption, \n",
    "#                                          hjust=0, x=0, size=10, \n",
    "#                                          color=chartpalette[4])) +\n",
    "#                     ggsave(file.path('../figs', 'labor.hours.plot.png'),\n",
    "#                           width=6, height=3.375 , units='in')\n",
    "#labor.hours.plot"
   ]
  },
  {
   "cell_type": "markdown",
   "metadata": {},
   "source": [
    "### Plot Effect on Two-Week Retention"
   ]
  },
  {
   "cell_type": "code",
   "execution_count": 32,
   "metadata": {},
   "outputs": [],
   "source": [
    "# subset(all.lang.results, lang==\"all\" & model == \"retention\")\n",
    "# subset(all.newcomer.results, model==\"retention\")"
   ]
  },
  {
   "cell_type": "code",
   "execution_count": 91,
   "metadata": {
    "scrolled": false
   },
   "outputs": [
    {
     "data": {},
     "metadata": {},
     "output_type": "display_data"
    },
    {
     "data": {
      "image/png": "[encoded data removed]",
      "text/plain": [
       "plot without title"
      ]
     },
     "metadata": {},
     "output_type": "display_data"
    }
   ],
   "source": [
    "options(repr.plot.width = 8, repr.plot.height = 5, repr.plot.res = 100)\n",
    "\n",
    "ymax = 0.09\n",
    "ymin = -0.03\n",
    "\n",
    "df1 <- subset(all.lang.results, model==\"retention\" & lang == \"all\")\n",
    "df2 <- subset(all.lang.results, model==\"retention\" & lang!=\"all\" & subgroup == \"newcomer\")\n",
    "df3 <- subset(all.newcomer.results, model==\"retention\")\n",
    "df4 <- subset(all.lang.results, model==\"retention\" & lang != \"all\" & subgroup == \"experienced\")\n",
    "\n",
    "\n",
    "retention.plot.est <- prettyNum(df1$Estimate*100, digits=1, format=\"fg\")\n",
    "retention.plot.count.part <-prettyNum(df1$n.size, big.mark=\",\")\n",
    "retention.plot.count.part.new.ar <- prettyNum(subset(df2, lang==\"ar\")$n.size, big.mark=',')\n",
    "retention.plot.count.part.new.de <- prettyNum(subset(df2, lang==\"de\")$n.size, big.mark=',')\n",
    "retention.plot.count.part.new.pl <- prettyNum(subset(df2, lang==\"pl\")$n.size, big.mark=',')\n",
    "retention.plot.count.part.exp.fa <- prettyNum(subset(df4, lang==\"fa\")$n.size, big.mark=',')\n",
    "retention.plot.count.part.exp.pl <-prettyNum(subset(df4, lang==\"pl\")$n.size, big.mark=',')\n",
    "retention.plot.participants.assigned.perc <-round(df1$n.thanked.count/(df1$n.size/2)*100)\n",
    "retention.plot.participants.assigned.total <-prettyNum(df1$n.size/2, big.mark=\",\")\n",
    "retention.plot.participants.assigned.dimest <- prettyNum(df1$pvalue, digits=2)\n",
    "\n",
    "retention.plot.ylab <- \"Effect on Two\\nWeek Retention\"\n",
    "retention.plot.caption <- str_interp(\n",
    "    \"Organized thanking increases two-week retention of Wikipedia contributors by ${retention.plot.est} percentage \n",
    "points on average among experienced and newcomer accounts\")\n",
    " \n",
    "all.plot <- ggplot(df1, aes(lang, Estimate)) +\n",
    "        geom_hline(yintercept = 0, linetype=\"dashed\", color=\"#999999\") +\n",
    "            geom_errorbar(aes(ymax=df1$CI.Upper, ymin=df1$CI.Lower), \n",
    "                          size=1, color=chartpalette[1], width=0.1) +\n",
    "            geom_point(color=chartpalette[1]) +\n",
    "            ylab(retention.plot.ylab) +\n",
    "            scale_y_continuous(limits=c(ymin, ymax), breaks=seq(ymin, ymax, by=0.01)) +\n",
    "            cat.theme + \n",
    "            theme(axis.title.x=element_blank(),\n",
    "                  axis.text.x = element_text(size=12, face=\"bold\", color=chartpalette[1]))\n",
    "\n",
    "\n",
    "\n",
    "lang.plot <- ggplot(df2, aes(lang, Estimate)) +\n",
    "        geom_hline(yintercept = 0, linetype=\"dashed\", color=\"#999999\") +\n",
    "        geom_errorbar(aes(ymax=df2$CI.Upper, ymin=df2$CI.Lower), \n",
    "                      size=1, color=chartpalette[4], width=0.1) +\n",
    "        geom_point(color=chartpalette[4]) +\n",
    "        annotate(geom=\"text\", x=3.5,y=0.085, label=lab.newc, \n",
    "                 color=chartpalette[4], fontface=2, size=4, hjust=1) +\n",
    "        scale_y_continuous(limits=c(ymin, ymax), breaks=seq(ymin, ymax, by=0.01)) + \n",
    "        cat.theme +\n",
    "        theme(axis.text.y = element_blank(),\n",
    "              axis.title  = element_blank(), \n",
    "              axis.text.x = element_text(size=12, face=\"bold\", color=chartpalette[4]))\n",
    "\n",
    "\n",
    "\n",
    "# all.newcomer.plot <- ggplot(df3, aes(lang, Estimate)) +\n",
    "#         geom_hline(yintercept = 0, linetype=\"dashed\", color=\"#999999\") +\n",
    "#         geom_errorbar(aes(ymax=df3$CI.Upper, ymin=df3$CI.Lower), \n",
    "#                       size=1, color=chartpalette[4], width=0.1) +\n",
    "#         geom_point(color=chartpalette[4]) +\n",
    "#         scale_y_continuous(limits=c(ymin, ymax), breaks=seq(ymin, ymax, by=0.01)) + \n",
    "#         scale_x_discrete(labels =c(lab.anewc))  +\n",
    "#         cat.theme + \n",
    "#         theme(axis.text.y = element_blank(),\n",
    "#               axis.title=element_blank(),\n",
    "#               axis.text.x = element_text(size=12, face=\"bold\", color=chartpalette[4]))\n",
    "\n",
    "\n",
    "experienced.plot <- ggplot(df4, aes(lang, Estimate)) +\n",
    "        geom_hline(yintercept = 0, linetype=\"dashed\", color=\"#999999\") +\n",
    "        geom_errorbar(aes(ymax=df4$CI.Upper, ymin=df4$CI.Lower), \n",
    "                      size=1, color=chartpalette[3], width=0.1) +\n",
    "        geom_point(color=chartpalette[3]) +\n",
    "        annotate(geom=\"text\", x=2.5,y=0.085, label=lab.exp, \n",
    "                 color=chartpalette[3], fontface=2, size=4, hjust=1) +\n",
    "        scale_y_continuous( limits=c(ymin, ymax), breaks=seq(ymin, ymax, by=0.01)) + \n",
    "        cat.theme + \n",
    "        theme(axis.text.y = element_blank(),\n",
    "              axis.title=element_blank(),\n",
    "              axis.text.x = element_text(size=12, face=\"bold\", color=chartpalette[3]))\n",
    "\n",
    "retention.plot <- ggarrange(all.plot, experienced.plot, lang.plot, ncol=3, nrow=1, widths=c(2,3, 4))\n",
    "\n",
    "retention.plot + ggsave(file.path('../figs', 'retention.plot.pdf'),\n",
    "                          width=6, height=2 , device=\"pdf\", units='in')\n",
    "\n",
    "\n",
    "# retention.plot <- annotate_figure(retention.plot,\n",
    "#                         bottom=text_grob(retention.plot.caption, \n",
    "#                                          hjust=0, x=0, size=10, \n",
    "#                                          color=chartpalette[4]))+\n",
    "#                     ggsave(file.path('../figs', 'retention.plot.png'),\n",
    "#                           width=6, height=3.375 , units='in')\n",
    "#retention.plot"
   ]
  },
  {
   "cell_type": "markdown",
   "metadata": {},
   "source": [
    "### Plot effect on rate of thanks"
   ]
  },
  {
   "cell_type": "code",
   "execution_count": 34,
   "metadata": {},
   "outputs": [],
   "source": [
    "# subset(all.lang.results, model==\"thanks sent\" & lang == \"all\")"
   ]
  },
  {
   "cell_type": "code",
   "execution_count": 94,
   "metadata": {},
   "outputs": [
    {
     "data": {},
     "metadata": {},
     "output_type": "display_data"
    },
    {
     "data": {
      "image/png": "[encoded data removed]",
      "text/plain": [
       "plot without title"
      ]
     },
     "metadata": {},
     "output_type": "display_data"
    }
   ],
   "source": [
    "options(repr.plot.width = 8, repr.plot.height = 5, repr.plot.res = 100)\n",
    "\n",
    "ymax = 6\n",
    "ymin = 0\n",
    "scale.by = 0.5\n",
    "\n",
    "df1 <- subset(all.lang.results, model==\"thanks sent\" & lang == \"all\")\n",
    "df2 <- subset(all.lang.results, model==\"thanks sent\" & lang!=\"all\" & subgroup == \"newcomer\")\n",
    "df3 <- subset(all.lang.results, model==\"thanks sent\" & lang != \"all\" & subgroup == \"experienced\")\n",
    "\n",
    "thanks.sent.est <- prettyNum(exp(df1$Estimate), digits=2)\n",
    "thanks.sent.ci.lower <- prettyNum(exp(df1$CI.Lower), digits=2, format=\"fg\")\n",
    "thanks.sent.ci.upper <- prettyNum(exp(df1$CI.Upper), digits=2, format=\"fg\")\n",
    "thanks.sent.part <- prettyNum(df1$n.size, big.mark=\",\")\n",
    "thanks.sent.new.ar <- prettyNum(subset(df2, lang==\"ar\")$n.size, big.mark=',')\n",
    "thanks.sent.new.de <- prettyNum(subset(df2, lang==\"de\")$n.size, big.mark=',')\n",
    "thanks.sent.new.pl <- prettyNum(subset(df2, lang==\"pl\")$n.size, big.mark=',')\n",
    "thanks.sent.exp.fa <- prettyNum(subset(df3, lang==\"fa\")$n.size, big.mark=',')\n",
    "thanks.sent.exp.pl <- prettyNum(subset(df3, lang==\"pl\")$n.size, big.mark=',')\n",
    "thanks.sent.assigned.perc <-round(df1$n.thanked.count/(df1$n.size/2)*100)\n",
    "thanks.sent.assigned.total <-prettyNum(df1$n.size/2, big.mark=\",\")\n",
    "thanks.sent.assigned.dimest <- prettyNum(df1$pvalue, digits=2)\n",
    "\n",
    "\n",
    "\n",
    "thanks.sent.ylab <- \"Incidence rate ratio\\nof thanks sent\"\n",
    "thanks.sent.plot.caption <- str_interp(\"Organizing to thank Wikipedia volunteers caused them to thank others and increased the thanks they sent \n",
    "by ${thanks.sent.est} times on average\")\n",
    "\n",
    "\n",
    "all.plot <- ggplot(df1, aes(lang, exp(Estimate))) +\n",
    "        geom_hline(yintercept = 1, linetype=\"dashed\", color=\"#999999\") +\n",
    "            geom_errorbar(aes(ymax=exp(df1$CI.Upper), ymin=exp(df1$CI.Lower)), \n",
    "                          size=1, color=chartpalette[1], width=0.25) +\n",
    "            geom_point(color=chartpalette[1]) +\n",
    "            ylab(thanks.sent.ylab) +\n",
    "            scale_y_continuous(limits=c(ymin, ymax), breaks=seq(ymin, ymax, by=scale.by)) +\n",
    "            cat.theme + \n",
    "            theme(axis.title.x=element_blank(),\n",
    "                  axis.text.x = element_text(size=12, face=\"bold\", color=chartpalette[1]))\n",
    "\n",
    "\n",
    "\n",
    "newcomer.plot <- ggplot(df2, aes(lang, exp(Estimate))) +\n",
    "        geom_hline(yintercept = 1, linetype=\"dashed\", color=\"#999999\") +\n",
    "        geom_errorbar(aes(ymax=exp(df2$CI.Upper), ymin=exp(df2$CI.Lower)), \n",
    "                      size=1, color=chartpalette[4], width=0.1) +\n",
    "        geom_point(color=chartpalette[4]) +\n",
    "        annotate(geom=\"text\", x=0.45,y=6, label=lab.newc, \n",
    "                 color=chartpalette[4], fontface=2, size=4, hjust=0) +\n",
    "        scale_y_continuous(limits=c(ymin, ymax), breaks=seq(ymin, ymax, by=scale.by)) + \n",
    "        cat.theme +\n",
    "        theme(axis.text.y = element_blank(),\n",
    "              axis.title  = element_blank(), \n",
    "              axis.text.x = element_text(size=12, face=\"bold\", color=chartpalette[4]))\n",
    "\n",
    "\n",
    "\n",
    "experienced.plot <- ggplot(df3, aes(lang, exp(Estimate))) +\n",
    "        geom_hline(yintercept = 1, linetype=\"dashed\", color=\"#999999\") +\n",
    "        geom_errorbar(aes(ymax=exp(df3$CI.Upper), ymin=exp(df3$CI.Lower)), \n",
    "                      size=1, color=chartpalette[3], width=0.1) +\n",
    "        geom_point(color=chartpalette[3]) +\n",
    "        annotate(geom=\"text\", x=0.45,y=6, label=lab.exp, \n",
    "                 color=chartpalette[3], fontface=2, size=4, hjust=0) +\n",
    "        scale_y_continuous( limits=c(ymin, ymax), breaks=seq(ymin, ymax, by=scale.by)) + \n",
    "        cat.theme + \n",
    "        theme(axis.text.y = element_blank(),\n",
    "              axis.title=element_blank(),\n",
    "              axis.text.x = element_text(size=12, face=\"bold\", color=chartpalette[3]))\n",
    "\n",
    "thanks.sent.plot <- ggarrange(all.plot,  experienced.plot, newcomer.plot, ncol=3, nrow=1, widths=c(1.2,2.5, 4))\n",
    "\n",
    "thanks.sent.plot + ggsave(file.path('../figs', 'thanks.sent.plot.pdf'),\n",
    "                          width=6, height=2, device=\"pdf\", units='in')\n",
    "\n",
    "# thanks.sent.plot <- annotate_figure(thanks.sent.plot,\n",
    "#                         bottom=text_grob(thanks.sent.plot.caption, \n",
    "#                                          hjust=0, x=0, size=10, \n",
    "#                                          color=chartpalette[4]))+\n",
    "#                     ggsave(file.path('../figs', 'thanks.sent.plot.png'),\n",
    "#                           width=6, height=4 , units='in')\n",
    "#thanks.sent.plot"
   ]
  },
  {
   "cell_type": "markdown",
   "metadata": {},
   "source": [
    "### Checking that people who received thanks actually remembered receiving it, 42 days later"
   ]
  },
  {
   "cell_type": "code",
   "execution_count": 36,
   "metadata": {},
   "outputs": [],
   "source": [
    "#  plot.effect.facets(subset(all.lang.results, model==\"manipulation check\"), \"Intent to Treat Effect of Receiving Thanks on Remembering that Thanks Was Received\")"
   ]
  },
  {
   "cell_type": "markdown",
   "metadata": {},
   "source": [
    "# Tables of All Results"
   ]
  },
  {
   "cell_type": "code",
   "execution_count": 37,
   "metadata": {},
   "outputs": [
    {
     "data": {
      "text/html": [
       "<table>\n",
       "<thead><tr><th></th><th scope=col>Estimate</th><th scope=col>Std..Error</th><th scope=col>z.value</th><th scope=col>pvalue</th><th scope=col>CI.Lower</th><th scope=col>CI.Upper</th><th scope=col>DF</th><th scope=col>model</th><th scope=col>t.value</th><th scope=col>n.size</th><th scope=col>n.thanked.count</th><th scope=col>estimator</th><th scope=col>lang</th><th scope=col>subgroup</th></tr></thead>\n",
       "<tbody>\n",
       "\t<tr><th scope=row>TREAT</th><td> 0.405465108       </td><td>0.435633350        </td><td>0.9307485          </td><td>6.621430e-01       </td><td>-4.513355e-01      </td><td>1.266331151        </td><td> 3034.00000        </td><td>thanks sent        </td><td>        NA         </td><td> 3036              </td><td> 189               </td><td>glm.nb             </td><td>ar                 </td><td>newcomer           </td></tr>\n",
       "\t<tr><th scope=row>TREAT1</th><td> 0.027009223       </td><td>0.011373685        </td><td>       NA          </td><td>5.305927e-02       </td><td> 4.699410e-03      </td><td>0.049319036        </td><td> 1517.00000        </td><td>retention          </td><td> 2.3747117         </td><td> 3036              </td><td> 189               </td><td>difference_in_means</td><td>ar                 </td><td>newcomer           </td></tr>\n",
       "\t<tr><th scope=row>TREAT2</th><td>-0.002333275       </td><td>0.002399823        </td><td>       NA          </td><td>6.621430e-01       </td><td>-7.040598e-03      </td><td>0.002374048        </td><td> 1517.00000        </td><td>labor hours        </td><td>-0.9722694         </td><td> 3036              </td><td> 189               </td><td>difference_in_means</td><td>ar                 </td><td>newcomer           </td></tr>\n",
       "\t<tr><th scope=row>TREAT3</th><td> 0.200000000       </td><td>0.210818511        </td><td>       NA          </td><td>3.558411e-01       </td><td>-2.441866e-01      </td><td>0.644186588        </td><td>   17.30769        </td><td>manipulation check </td><td> 0.9486833         </td><td>   22              </td><td>  11               </td><td>difference_in_means</td><td>ar                 </td><td>newcomer           </td></tr>\n",
       "\t<tr><th scope=row>TREAT4</th><td> 0.656242624       </td><td>0.260767478        </td><td>2.5165815          </td><td>3.554984e-02       </td><td> 1.438366e-01      </td><td>1.169359242        </td><td> 5316.00000        </td><td>thanks sent        </td><td>        NA         </td><td> 5318              </td><td>1268               </td><td>glm.nb             </td><td>de                 </td><td>newcomer           </td></tr>\n",
       "\t<tr><th scope=row>TREAT11</th><td> 0.016923656       </td><td>0.010192528        </td><td>       NA          </td><td>9.695231e-02       </td><td>-3.062433e-03      </td><td>0.036909744        </td><td> 2658.00000        </td><td>retention          </td><td> 1.6603983         </td><td> 5318              </td><td>1268               </td><td>difference_in_means</td><td>de                 </td><td>newcomer           </td></tr>\n",
       "\t<tr><th scope=row>TREAT21</th><td> 0.005559013       </td><td>0.002806535        </td><td>       NA          </td><td>9.544694e-02       </td><td> 5.580008e-05      </td><td>0.011062226        </td><td> 2658.00000        </td><td>labor hours        </td><td> 1.9807391         </td><td> 5318              </td><td>1268               </td><td>difference_in_means</td><td>de                 </td><td>newcomer           </td></tr>\n",
       "\t<tr><th scope=row>TREAT31</th><td> 0.369369369       </td><td>0.077406029        </td><td>       NA          </td><td>4.445988e-06       </td><td> 2.163661e-01      </td><td>0.522372655        </td><td>  143.50657        </td><td>manipulation check </td><td> 4.7718424         </td><td>  146              </td><td>  74               </td><td>difference_in_means</td><td>de                 </td><td>newcomer           </td></tr>\n",
       "\t<tr><th scope=row>TREAT5</th><td> 0.896746136       </td><td>0.449821136        </td><td>1.9935616          </td><td>1.386000e-01       </td><td> 1.075717e-02      </td><td>1.788012090        </td><td> 1628.00000        </td><td>thanks sent        </td><td>        NA         </td><td> 1630              </td><td> 115               </td><td>glm.nb             </td><td>pl                 </td><td>newcomer           </td></tr>\n",
       "\t<tr><th scope=row>TREAT12</th><td> 0.017177914       </td><td>0.018447266        </td><td>       NA          </td><td>7.040625e-01       </td><td>-1.903190e-02      </td><td>0.053387732        </td><td>  814.00000        </td><td>retention          </td><td> 0.9311902         </td><td> 1630              </td><td> 115               </td><td>difference_in_means</td><td>pl                 </td><td>newcomer           </td></tr>\n",
       "\t<tr><th scope=row>TREAT22</th><td> 0.003829471       </td><td>0.004590713        </td><td>       NA          </td><td>7.040625e-01       </td><td>-5.181560e-03      </td><td>0.012840501        </td><td>  814.00000        </td><td>labor hours        </td><td> 0.8341778         </td><td> 1630              </td><td> 115               </td><td>difference_in_means</td><td>pl                 </td><td>newcomer           </td></tr>\n",
       "\t<tr><th scope=row>TREAT32</th><td> 0.266666667       </td><td>0.216491771        </td><td>       NA          </td><td>2.331294e-01       </td><td>-1.865885e-01      </td><td>0.719921794        </td><td>   18.91820        </td><td>manipulation check </td><td> 1.2317635         </td><td>   22              </td><td>  12               </td><td>difference_in_means</td><td>pl                 </td><td>newcomer           </td></tr>\n",
       "\t<tr><th scope=row>TREAT6</th><td> 0.125739678       </td><td>0.365660287        </td><td>0.3438702          </td><td>7.309439e-01       </td><td>-5.976532e-01      </td><td>0.849154107        </td><td> 2352.00000        </td><td>thanks sent        </td><td>        NA         </td><td> 2354              </td><td>  75               </td><td>glm.nb             </td><td>fa                 </td><td>experienced        </td></tr>\n",
       "\t<tr><th scope=row>TREAT13</th><td> 0.053525913       </td><td>0.017328479        </td><td>       NA          </td><td>4.112216e-03       </td><td> 1.952773e-02      </td><td>0.087524099        </td><td> 1176.00000        </td><td>retention          </td><td> 3.0888986         </td><td> 2354              </td><td>  75               </td><td>difference_in_means</td><td>fa                 </td><td>experienced        </td></tr>\n",
       "\t<tr><th scope=row>TREAT33</th><td>-0.500000000       </td><td>0.500000000        </td><td>       NA          </td><td>5.000000e-01       </td><td>-6.853102e+00      </td><td>5.853102368        </td><td>    1.00000        </td><td>manipulation check </td><td>-1.0000000         </td><td>    4              </td><td>   2               </td><td>difference_in_means</td><td>fa                 </td><td>experienced        </td></tr>\n",
       "\t<tr><th scope=row>TREAT7</th><td> 0.323400155       </td><td>0.270780632        </td><td>1.1943253          </td><td>4.647015e-01       </td><td>-2.100154e-01      </td><td>0.856848674        </td><td> 2934.00000        </td><td>thanks sent        </td><td>        NA         </td><td> 2936              </td><td>1055               </td><td>glm.nb             </td><td>pl                 </td><td>experienced        </td></tr>\n",
       "\t<tr><th scope=row>TREAT14</th><td> 0.003405995       </td><td>0.015129963        </td><td>       NA          </td><td>8.219205e-01       </td><td>-2.627267e-02      </td><td>0.033084664        </td><td> 1467.00000        </td><td>retention          </td><td> 0.2251159         </td><td> 2936              </td><td>1055               </td><td>difference_in_means</td><td>pl                 </td><td>experienced        </td></tr>\n",
       "\t<tr><th scope=row>TREAT34</th><td> 0.280817844       </td><td>0.040359277        </td><td>       NA          </td><td>9.727908e-12       </td><td> 2.015429e-01      </td><td>0.360092804        </td><td>  557.09011        </td><td>manipulation check </td><td> 6.9579503         </td><td>  573              </td><td> 270               </td><td>difference_in_means</td><td>pl                 </td><td>experienced        </td></tr>\n",
       "\t<tr><th scope=row>TREAT8</th><td> 0.474498984       </td><td>0.144534751        </td><td>3.2829405          </td><td>2.054607e-03       </td><td> 1.895589e-01      </td><td>0.760098381        </td><td>15268.00000        </td><td>thanks sent        </td><td>        NA         </td><td>15274              </td><td>2702               </td><td>glm.nb             </td><td>all                </td><td>all                </td></tr>\n",
       "\t<tr><th scope=row>TREAT15</th><td> 0.021998167       </td><td>0.006097696        </td><td>       NA          </td><td>9.329827e-04       </td><td> 1.004501e-02      </td><td>0.033951326        </td><td> 7636.00000        </td><td>retention          </td><td> 3.6076195         </td><td>15274              </td><td>2702               </td><td>difference_in_means</td><td>all                </td><td>all                </td></tr>\n",
       "\t<tr><th scope=row>TREAT35</th><td> 0.292051066       </td><td>0.034733535        </td><td>       NA          </td><td>2.074219e-16       </td><td> 2.238650e-01      </td><td>0.360237134        </td><td>  753.04830        </td><td>manipulation check </td><td> 8.4083313         </td><td>  767              </td><td> 369               </td><td>difference_in_means</td><td>all                </td><td>all                </td></tr>\n",
       "\t<tr><th scope=row>TREAT23</th><td> 0.002876707       </td><td>0.001824898        </td><td>       NA          </td><td>1.150049e-01       </td><td>-7.008952e-04      </td><td>0.006454310        </td><td> 4991.00000        </td><td>labor hours        </td><td> 1.5763658         </td><td> 9984              </td><td>1572               </td><td>difference_in_means</td><td>all                </td><td>newcomer           </td></tr>\n",
       "</tbody>\n",
       "</table>\n"
      ],
      "text/latex": [
       "\\begin{tabular}{r|llllllllllllll}\n",
       "  & Estimate & Std..Error & z.value & pvalue & CI.Lower & CI.Upper & DF & model & t.value & n.size & n.thanked.count & estimator & lang & subgroup\\\\\n",
       "\\hline\n",
       "\tTREAT &  0.405465108        & 0.435633350         & 0.9307485           & 6.621430e-01        & -4.513355e-01       & 1.266331151         &  3034.00000         & thanks sent         &         NA          &  3036               &  189                & glm.nb              & ar                  & newcomer           \\\\\n",
       "\tTREAT1 &  0.027009223            & 0.011373685             &        NA               & 5.305927e-02            &  4.699410e-03           & 0.049319036             &  1517.00000             & retention               &  2.3747117              &  3036                   &  189                    & difference\\_in\\_means & ar                      & newcomer               \\\\\n",
       "\tTREAT2 & -0.002333275            & 0.002399823             &        NA               & 6.621430e-01            & -7.040598e-03           & 0.002374048             &  1517.00000             & labor hours             & -0.9722694              &  3036                   &  189                    & difference\\_in\\_means & ar                      & newcomer               \\\\\n",
       "\tTREAT3 &  0.200000000            & 0.210818511             &        NA               & 3.558411e-01            & -2.441866e-01           & 0.644186588             &    17.30769             & manipulation check      &  0.9486833              &    22                   &   11                    & difference\\_in\\_means & ar                      & newcomer               \\\\\n",
       "\tTREAT4 &  0.656242624        & 0.260767478         & 2.5165815           & 3.554984e-02        &  1.438366e-01       & 1.169359242         &  5316.00000         & thanks sent         &         NA          &  5318               & 1268                & glm.nb              & de                  & newcomer           \\\\\n",
       "\tTREAT11 &  0.016923656            & 0.010192528             &        NA               & 9.695231e-02            & -3.062433e-03           & 0.036909744             &  2658.00000             & retention               &  1.6603983              &  5318                   & 1268                    & difference\\_in\\_means & de                      & newcomer               \\\\\n",
       "\tTREAT21 &  0.005559013            & 0.002806535             &        NA               & 9.544694e-02            &  5.580008e-05           & 0.011062226             &  2658.00000             & labor hours             &  1.9807391              &  5318                   & 1268                    & difference\\_in\\_means & de                      & newcomer               \\\\\n",
       "\tTREAT31 &  0.369369369            & 0.077406029             &        NA               & 4.445988e-06            &  2.163661e-01           & 0.522372655             &   143.50657             & manipulation check      &  4.7718424              &   146                   &   74                    & difference\\_in\\_means & de                      & newcomer               \\\\\n",
       "\tTREAT5 &  0.896746136        & 0.449821136         & 1.9935616           & 1.386000e-01        &  1.075717e-02       & 1.788012090         &  1628.00000         & thanks sent         &         NA          &  1630               &  115                & glm.nb              & pl                  & newcomer           \\\\\n",
       "\tTREAT12 &  0.017177914            & 0.018447266             &        NA               & 7.040625e-01            & -1.903190e-02           & 0.053387732             &   814.00000             & retention               &  0.9311902              &  1630                   &  115                    & difference\\_in\\_means & pl                      & newcomer               \\\\\n",
       "\tTREAT22 &  0.003829471            & 0.004590713             &        NA               & 7.040625e-01            & -5.181560e-03           & 0.012840501             &   814.00000             & labor hours             &  0.8341778              &  1630                   &  115                    & difference\\_in\\_means & pl                      & newcomer               \\\\\n",
       "\tTREAT32 &  0.266666667            & 0.216491771             &        NA               & 2.331294e-01            & -1.865885e-01           & 0.719921794             &    18.91820             & manipulation check      &  1.2317635              &    22                   &   12                    & difference\\_in\\_means & pl                      & newcomer               \\\\\n",
       "\tTREAT6 &  0.125739678        & 0.365660287         & 0.3438702           & 7.309439e-01        & -5.976532e-01       & 0.849154107         &  2352.00000         & thanks sent         &         NA          &  2354               &   75                & glm.nb              & fa                  & experienced        \\\\\n",
       "\tTREAT13 &  0.053525913            & 0.017328479             &        NA               & 4.112216e-03            &  1.952773e-02           & 0.087524099             &  1176.00000             & retention               &  3.0888986              &  2354                   &   75                    & difference\\_in\\_means & fa                      & experienced            \\\\\n",
       "\tTREAT33 & -0.500000000            & 0.500000000             &        NA               & 5.000000e-01            & -6.853102e+00           & 5.853102368             &     1.00000             & manipulation check      & -1.0000000              &     4                   &    2                    & difference\\_in\\_means & fa                      & experienced            \\\\\n",
       "\tTREAT7 &  0.323400155        & 0.270780632         & 1.1943253           & 4.647015e-01        & -2.100154e-01       & 0.856848674         &  2934.00000         & thanks sent         &         NA          &  2936               & 1055                & glm.nb              & pl                  & experienced        \\\\\n",
       "\tTREAT14 &  0.003405995            & 0.015129963             &        NA               & 8.219205e-01            & -2.627267e-02           & 0.033084664             &  1467.00000             & retention               &  0.2251159              &  2936                   & 1055                    & difference\\_in\\_means & pl                      & experienced            \\\\\n",
       "\tTREAT34 &  0.280817844            & 0.040359277             &        NA               & 9.727908e-12            &  2.015429e-01           & 0.360092804             &   557.09011             & manipulation check      &  6.9579503              &   573                   &  270                    & difference\\_in\\_means & pl                      & experienced            \\\\\n",
       "\tTREAT8 &  0.474498984        & 0.144534751         & 3.2829405           & 2.054607e-03        &  1.895589e-01       & 0.760098381         & 15268.00000         & thanks sent         &         NA          & 15274               & 2702                & glm.nb              & all                 & all                \\\\\n",
       "\tTREAT15 &  0.021998167            & 0.006097696             &        NA               & 9.329827e-04            &  1.004501e-02           & 0.033951326             &  7636.00000             & retention               &  3.6076195              & 15274                   & 2702                    & difference\\_in\\_means & all                     & all                    \\\\\n",
       "\tTREAT35 &  0.292051066            & 0.034733535             &        NA               & 2.074219e-16            &  2.238650e-01           & 0.360237134             &   753.04830             & manipulation check      &  8.4083313              &   767                   &  369                    & difference\\_in\\_means & all                     & all                    \\\\\n",
       "\tTREAT23 &  0.002876707            & 0.001824898             &        NA               & 1.150049e-01            & -7.008952e-04           & 0.006454310             &  4991.00000             & labor hours             &  1.5763658              &  9984                   & 1572                    & difference\\_in\\_means & all                     & newcomer               \\\\\n",
       "\\end{tabular}\n"
      ],
      "text/markdown": [
       "\n",
       "| <!--/--> | Estimate | Std..Error | z.value | pvalue | CI.Lower | CI.Upper | DF | model | t.value | n.size | n.thanked.count | estimator | lang | subgroup |\n",
       "|---|---|---|---|---|---|---|---|---|---|---|---|---|---|---|\n",
       "| TREAT |  0.405465108        | 0.435633350         | 0.9307485           | 6.621430e-01        | -4.513355e-01       | 1.266331151         |  3034.00000         | thanks sent         |         NA          |  3036               |  189                | glm.nb              | ar                  | newcomer            |\n",
       "| TREAT1 |  0.027009223        | 0.011373685         |        NA           | 5.305927e-02        |  4.699410e-03       | 0.049319036         |  1517.00000         | retention           |  2.3747117          |  3036               |  189                | difference_in_means | ar                  | newcomer            |\n",
       "| TREAT2 | -0.002333275        | 0.002399823         |        NA           | 6.621430e-01        | -7.040598e-03       | 0.002374048         |  1517.00000         | labor hours         | -0.9722694          |  3036               |  189                | difference_in_means | ar                  | newcomer            |\n",
       "| TREAT3 |  0.200000000        | 0.210818511         |        NA           | 3.558411e-01        | -2.441866e-01       | 0.644186588         |    17.30769         | manipulation check  |  0.9486833          |    22               |   11                | difference_in_means | ar                  | newcomer            |\n",
       "| TREAT4 |  0.656242624        | 0.260767478         | 2.5165815           | 3.554984e-02        |  1.438366e-01       | 1.169359242         |  5316.00000         | thanks sent         |         NA          |  5318               | 1268                | glm.nb              | de                  | newcomer            |\n",
       "| TREAT11 |  0.016923656        | 0.010192528         |        NA           | 9.695231e-02        | -3.062433e-03       | 0.036909744         |  2658.00000         | retention           |  1.6603983          |  5318               | 1268                | difference_in_means | de                  | newcomer            |\n",
       "| TREAT21 |  0.005559013        | 0.002806535         |        NA           | 9.544694e-02        |  5.580008e-05       | 0.011062226         |  2658.00000         | labor hours         |  1.9807391          |  5318               | 1268                | difference_in_means | de                  | newcomer            |\n",
       "| TREAT31 |  0.369369369        | 0.077406029         |        NA           | 4.445988e-06        |  2.163661e-01       | 0.522372655         |   143.50657         | manipulation check  |  4.7718424          |   146               |   74                | difference_in_means | de                  | newcomer            |\n",
       "| TREAT5 |  0.896746136        | 0.449821136         | 1.9935616           | 1.386000e-01        |  1.075717e-02       | 1.788012090         |  1628.00000         | thanks sent         |         NA          |  1630               |  115                | glm.nb              | pl                  | newcomer            |\n",
       "| TREAT12 |  0.017177914        | 0.018447266         |        NA           | 7.040625e-01        | -1.903190e-02       | 0.053387732         |   814.00000         | retention           |  0.9311902          |  1630               |  115                | difference_in_means | pl                  | newcomer            |\n",
       "| TREAT22 |  0.003829471        | 0.004590713         |        NA           | 7.040625e-01        | -5.181560e-03       | 0.012840501         |   814.00000         | labor hours         |  0.8341778          |  1630               |  115                | difference_in_means | pl                  | newcomer            |\n",
       "| TREAT32 |  0.266666667        | 0.216491771         |        NA           | 2.331294e-01        | -1.865885e-01       | 0.719921794         |    18.91820         | manipulation check  |  1.2317635          |    22               |   12                | difference_in_means | pl                  | newcomer            |\n",
       "| TREAT6 |  0.125739678        | 0.365660287         | 0.3438702           | 7.309439e-01        | -5.976532e-01       | 0.849154107         |  2352.00000         | thanks sent         |         NA          |  2354               |   75                | glm.nb              | fa                  | experienced         |\n",
       "| TREAT13 |  0.053525913        | 0.017328479         |        NA           | 4.112216e-03        |  1.952773e-02       | 0.087524099         |  1176.00000         | retention           |  3.0888986          |  2354               |   75                | difference_in_means | fa                  | experienced         |\n",
       "| TREAT33 | -0.500000000        | 0.500000000         |        NA           | 5.000000e-01        | -6.853102e+00       | 5.853102368         |     1.00000         | manipulation check  | -1.0000000          |     4               |    2                | difference_in_means | fa                  | experienced         |\n",
       "| TREAT7 |  0.323400155        | 0.270780632         | 1.1943253           | 4.647015e-01        | -2.100154e-01       | 0.856848674         |  2934.00000         | thanks sent         |         NA          |  2936               | 1055                | glm.nb              | pl                  | experienced         |\n",
       "| TREAT14 |  0.003405995        | 0.015129963         |        NA           | 8.219205e-01        | -2.627267e-02       | 0.033084664         |  1467.00000         | retention           |  0.2251159          |  2936               | 1055                | difference_in_means | pl                  | experienced         |\n",
       "| TREAT34 |  0.280817844        | 0.040359277         |        NA           | 9.727908e-12        |  2.015429e-01       | 0.360092804         |   557.09011         | manipulation check  |  6.9579503          |   573               |  270                | difference_in_means | pl                  | experienced         |\n",
       "| TREAT8 |  0.474498984        | 0.144534751         | 3.2829405           | 2.054607e-03        |  1.895589e-01       | 0.760098381         | 15268.00000         | thanks sent         |         NA          | 15274               | 2702                | glm.nb              | all                 | all                 |\n",
       "| TREAT15 |  0.021998167        | 0.006097696         |        NA           | 9.329827e-04        |  1.004501e-02       | 0.033951326         |  7636.00000         | retention           |  3.6076195          | 15274               | 2702                | difference_in_means | all                 | all                 |\n",
       "| TREAT35 |  0.292051066        | 0.034733535         |        NA           | 2.074219e-16        |  2.238650e-01       | 0.360237134         |   753.04830         | manipulation check  |  8.4083313          |   767               |  369                | difference_in_means | all                 | all                 |\n",
       "| TREAT23 |  0.002876707        | 0.001824898         |        NA           | 1.150049e-01        | -7.008952e-04       | 0.006454310         |  4991.00000         | labor hours         |  1.5763658          |  9984               | 1572                | difference_in_means | all                 | newcomer            |\n",
       "\n"
      ],
      "text/plain": [
       "        Estimate     Std..Error  z.value   pvalue       CI.Lower     \n",
       "TREAT    0.405465108 0.435633350 0.9307485 6.621430e-01 -4.513355e-01\n",
       "TREAT1   0.027009223 0.011373685        NA 5.305927e-02  4.699410e-03\n",
       "TREAT2  -0.002333275 0.002399823        NA 6.621430e-01 -7.040598e-03\n",
       "TREAT3   0.200000000 0.210818511        NA 3.558411e-01 -2.441866e-01\n",
       "TREAT4   0.656242624 0.260767478 2.5165815 3.554984e-02  1.438366e-01\n",
       "TREAT11  0.016923656 0.010192528        NA 9.695231e-02 -3.062433e-03\n",
       "TREAT21  0.005559013 0.002806535        NA 9.544694e-02  5.580008e-05\n",
       "TREAT31  0.369369369 0.077406029        NA 4.445988e-06  2.163661e-01\n",
       "TREAT5   0.896746136 0.449821136 1.9935616 1.386000e-01  1.075717e-02\n",
       "TREAT12  0.017177914 0.018447266        NA 7.040625e-01 -1.903190e-02\n",
       "TREAT22  0.003829471 0.004590713        NA 7.040625e-01 -5.181560e-03\n",
       "TREAT32  0.266666667 0.216491771        NA 2.331294e-01 -1.865885e-01\n",
       "TREAT6   0.125739678 0.365660287 0.3438702 7.309439e-01 -5.976532e-01\n",
       "TREAT13  0.053525913 0.017328479        NA 4.112216e-03  1.952773e-02\n",
       "TREAT33 -0.500000000 0.500000000        NA 5.000000e-01 -6.853102e+00\n",
       "TREAT7   0.323400155 0.270780632 1.1943253 4.647015e-01 -2.100154e-01\n",
       "TREAT14  0.003405995 0.015129963        NA 8.219205e-01 -2.627267e-02\n",
       "TREAT34  0.280817844 0.040359277        NA 9.727908e-12  2.015429e-01\n",
       "TREAT8   0.474498984 0.144534751 3.2829405 2.054607e-03  1.895589e-01\n",
       "TREAT15  0.021998167 0.006097696        NA 9.329827e-04  1.004501e-02\n",
       "TREAT35  0.292051066 0.034733535        NA 2.074219e-16  2.238650e-01\n",
       "TREAT23  0.002876707 0.001824898        NA 1.150049e-01 -7.008952e-04\n",
       "        CI.Upper    DF          model              t.value    n.size\n",
       "TREAT   1.266331151  3034.00000 thanks sent                NA  3036 \n",
       "TREAT1  0.049319036  1517.00000 retention           2.3747117  3036 \n",
       "TREAT2  0.002374048  1517.00000 labor hours        -0.9722694  3036 \n",
       "TREAT3  0.644186588    17.30769 manipulation check  0.9486833    22 \n",
       "TREAT4  1.169359242  5316.00000 thanks sent                NA  5318 \n",
       "TREAT11 0.036909744  2658.00000 retention           1.6603983  5318 \n",
       "TREAT21 0.011062226  2658.00000 labor hours         1.9807391  5318 \n",
       "TREAT31 0.522372655   143.50657 manipulation check  4.7718424   146 \n",
       "TREAT5  1.788012090  1628.00000 thanks sent                NA  1630 \n",
       "TREAT12 0.053387732   814.00000 retention           0.9311902  1630 \n",
       "TREAT22 0.012840501   814.00000 labor hours         0.8341778  1630 \n",
       "TREAT32 0.719921794    18.91820 manipulation check  1.2317635    22 \n",
       "TREAT6  0.849154107  2352.00000 thanks sent                NA  2354 \n",
       "TREAT13 0.087524099  1176.00000 retention           3.0888986  2354 \n",
       "TREAT33 5.853102368     1.00000 manipulation check -1.0000000     4 \n",
       "TREAT7  0.856848674  2934.00000 thanks sent                NA  2936 \n",
       "TREAT14 0.033084664  1467.00000 retention           0.2251159  2936 \n",
       "TREAT34 0.360092804   557.09011 manipulation check  6.9579503   573 \n",
       "TREAT8  0.760098381 15268.00000 thanks sent                NA 15274 \n",
       "TREAT15 0.033951326  7636.00000 retention           3.6076195 15274 \n",
       "TREAT35 0.360237134   753.04830 manipulation check  8.4083313   767 \n",
       "TREAT23 0.006454310  4991.00000 labor hours         1.5763658  9984 \n",
       "        n.thanked.count estimator           lang subgroup   \n",
       "TREAT    189            glm.nb              ar   newcomer   \n",
       "TREAT1   189            difference_in_means ar   newcomer   \n",
       "TREAT2   189            difference_in_means ar   newcomer   \n",
       "TREAT3    11            difference_in_means ar   newcomer   \n",
       "TREAT4  1268            glm.nb              de   newcomer   \n",
       "TREAT11 1268            difference_in_means de   newcomer   \n",
       "TREAT21 1268            difference_in_means de   newcomer   \n",
       "TREAT31   74            difference_in_means de   newcomer   \n",
       "TREAT5   115            glm.nb              pl   newcomer   \n",
       "TREAT12  115            difference_in_means pl   newcomer   \n",
       "TREAT22  115            difference_in_means pl   newcomer   \n",
       "TREAT32   12            difference_in_means pl   newcomer   \n",
       "TREAT6    75            glm.nb              fa   experienced\n",
       "TREAT13   75            difference_in_means fa   experienced\n",
       "TREAT33    2            difference_in_means fa   experienced\n",
       "TREAT7  1055            glm.nb              pl   experienced\n",
       "TREAT14 1055            difference_in_means pl   experienced\n",
       "TREAT34  270            difference_in_means pl   experienced\n",
       "TREAT8  2702            glm.nb              all  all        \n",
       "TREAT15 2702            difference_in_means all  all        \n",
       "TREAT35  369            difference_in_means all  all        \n",
       "TREAT23 1572            difference_in_means all  newcomer   "
      ]
     },
     "metadata": {},
     "output_type": "display_data"
    }
   ],
   "source": [
    "all.lang.results"
   ]
  },
  {
   "cell_type": "markdown",
   "metadata": {},
   "source": [
    "# Complier Average Causal Effect\n",
    "We use two stage least squares regression to estimate the complier average causal effect.\n",
    "\n",
    "We will report this result in scientific papers after further validating the approach."
   ]
  },
  {
   "cell_type": "code",
   "execution_count": 38,
   "metadata": {},
   "outputs": [],
   "source": [
    "## this method generates complier average treatment effect estimates\n",
    "## for a given subgroup of the study. It assumes that rates of actual\n",
    "## thanking by volunteers will vary by language and newcomer status\n",
    "\n",
    "df.cace.estimates <- function(df, lang=\"all\", subgroup=\"all\"){\n",
    "\n",
    "    \n",
    "    treat.prob.formula <- \"complier.app.any.reason ~ TREAT\"\n",
    "    if(lang==\"all\"){\n",
    "        treat.prob.formula <- paste(treat.prob.formula, \" + lang\")\n",
    "    }\n",
    "    \n",
    "    if(subgroup==\"all\"){\n",
    "        treat.prob.formula <- paste(treat.prob.formula, \" + newcomer\")\n",
    "    }\n",
    "    \n",
    "    treat.prob.m <- lm(treat.prob.formula, data=df)\n",
    "    \n",
    "    df$iv <- predict(treat.prob.m, df)\n",
    "\n",
    "    df.compliers <- subset(df, complier)\n",
    "    \n",
    "\n",
    "    thanks.model         <- glm.nb(thanks.sent ~ iv, data=df)\n",
    "    m.thanks.sent        <- coef(summary(thanks.model))\n",
    "    m.thanks.sent        <- data.frame(cbind(m.thanks.sent, confint(thanks.model)))\n",
    "    names(m.thanks.sent)[4] <- \"pvalue\"\n",
    "    names(m.thanks.sent)[5] <- \"CI.Lower\"\n",
    "    names(m.thanks.sent)[6] <- \"CI.Upper\"\n",
    "    m.thanks.sent$DF       <- thanks.model$df.residual\n",
    "    m.thanks.sent$model    <- \"thanks sent\"\n",
    "    m.thanks.sent$t.value  <- NA\n",
    "    m.thanks.sent$n.size   <- nrow(df)\n",
    "    m.thanks.sent$n.thanked.count <- nrow(subset(df, complier.app.any.reason))\n",
    "    \n",
    "    retention.model        <- lm(two.week.retention ~ iv, data=df)\n",
    "    m.retention            <- data.frame(coef(summary(retention.model)))\n",
    "    m.retention            <- cbind(m.retention, confint(retention.model))\n",
    "    names(m.retention)[4]  <- \"pvalue\"\n",
    "    names(m.retention)[5]  <- \"CI.Lower\"\n",
    "    names(m.retention)[6]  <- \"CI.Upper\"\n",
    "    m.retention$DF         <- retention.model$df\n",
    "    m.retention$model      <- \"retention\"\n",
    "    m.retention$z.value    <- NA\n",
    "    m.retention$n.size     <- nrow(df)\n",
    "    m.retention$n.thanked.count <- nrow(subset(df, complier.app.any.reason))\n",
    "    \n",
    "    labor.hour.model       <- lm(labor.hours.per.day.diff ~ iv, data=df)\n",
    "    m.labor.hours          <- data.frame(coef(summary(labor.hour.model)))\n",
    "    m.labor.hours          <- cbind(m.labor.hours, confint(labor.hour.model))\n",
    "    names(m.labor.hours)[4] <- \"pvalue\"\n",
    "    names(m.labor.hours)[5] <- \"CI.Lower\"\n",
    "    names(m.labor.hours)[6] <- \"CI.Upper\"\n",
    "    m.labor.hours$DF       <- labor.hour.model$df    \n",
    "    m.labor.hours$model    <- \"labor hours\"\n",
    "    m.labor.hours$z.value  <- NA\n",
    "    m.labor.hours$n.size   <- nrow(df)\n",
    "    m.labor.hours$n.thanked.count <- nrow(subset(df, complier.app.any.reason))\n",
    "\n",
    "    manip.check.model      <- lm(remembered.thanks<=3 ~ iv, data=df.compliers)\n",
    "    m.manip.check          <- data.frame(coef(summary(manip.check.model)))\n",
    "    m.manip.check          <- cbind(m.manip.check, confint(manip.check.model))\n",
    "    names(m.manip.check)[4] <- \"pvalue\"\n",
    "    names(m.manip.check)[5] <- \"CI.Lower\"\n",
    "    names(m.manip.check)[6] <- \"CI.Upper\"\n",
    "    m.manip.check$DF       <- manip.check.model$df    \n",
    "    m.manip.check$model    <- \"manipulation check\"\n",
    "    m.manip.check$z.value  <- NA\n",
    "    m.manip.check$n.size   <- nrow(df.compliers)\n",
    "    m.manip.check$n.thanked.count <-  nrow(subset(df.compliers, complier.app.any.reason))\n",
    "\n",
    "    m.thanks.sent$estimator        <- \"glm.nb\"\n",
    "    m.retention$estimator          <- \"2sls\"\n",
    "    m.labor.hours$estimator        <- \"2sls\"\n",
    "    m.manip.check$estimator        <- \"2sls\"\n",
    "\n",
    "    result.df <- rbind(m.retention, m.labor.hours, m.thanks.sent,\n",
    "                       m.manip.check)\n",
    "    \n",
    "    #result.df <- result.df[row.names(result.df)!=\"(Intercept)\",]\n",
    "    \n",
    "    result.df$lang     <- lang\n",
    "    result.df$subgroup <- subgroup\n",
    "    \n",
    "    result.df\n",
    "}"
   ]
  },
  {
   "cell_type": "markdown",
   "metadata": {},
   "source": [
    "#### Estimate CACE Results"
   ]
  },
  {
   "cell_type": "code",
   "execution_count": 39,
   "metadata": {},
   "outputs": [
    {
     "name": "stderr",
     "output_type": "stream",
     "text": [
      "Waiting for profiling to be done...\n",
      "Waiting for profiling to be done...\n",
      "Waiting for profiling to be done...\n",
      "Waiting for profiling to be done...\n",
      "Waiting for profiling to be done...\n",
      "Waiting for profiling to be done...\n",
      "Waiting for profiling to be done...\n",
      "Waiting for profiling to be done...\n"
     ]
    }
   ],
   "source": [
    "ar.newcomer.cace.results <- df.cace.estimates(subset(participants, lang==\"ar\" & newcomer), lang=\"ar\", subgroup=\"newcomer\")\n",
    "de.newcomer.cace.results <- df.cace.estimates(subset(participants, lang==\"de\" & newcomer), lang=\"de\", subgroup=\"newcomer\")\n",
    "pl.newcomer.cace.results <- df.cace.estimates(subset(participants, lang==\"pl\" & newcomer), lang=\"pl\", subgroup=\"newcomer\")\n",
    "\n",
    "fa.experienced.cace.results <- df.cace.estimates(subset(participants, lang==\"fa\" & newcomer!=TRUE), lang=\"fa\", subgroup=\"experienced\")\n",
    "fa.experienced.cace.results <- subset(fa.experienced.cace.results,model!=\"labor hours\")\n",
    "\n",
    "pl.experienced.cace.results <- df.cace.estimates(subset(participants, lang==\"pl\" & newcomer!=TRUE), lang=\"pl\", subgroup=\"experienced\")\n",
    "pl.experienced.cace.results <- subset(pl.experienced.cace.results,model!=\"labor hours\")\n",
    "\n",
    "all.newcomer.cace.df <- df.cace.estimates(subset(participants, newcomer), subgroup=\"newcomer\")\n",
    "all.experienced.cace.df <- df.cace.estimates(subset(participants, newcomer!=TRUE), subgroup=\"experienced\")\n",
    "all.experienced.cace.df <- subset(all.experienced.cace.df,model!=\"labor hours\")\n",
    "\n",
    "all.cace.df <- df.cace.estimates(participants)\n",
    "\n",
    "all.cace.models.df <- rbind(\n",
    "    ar.newcomer.cace.results, \n",
    "    de.newcomer.cace.results, \n",
    "    pl.newcomer.cace.results,\n",
    "    fa.experienced.cace.results,\n",
    "    pl.experienced.cace.results,\n",
    "    all.newcomer.cace.df,\n",
    "    all.experienced.cace.df,\n",
    "    all.cace.df\n",
    "    )"
   ]
  },
  {
   "cell_type": "code",
   "execution_count": 40,
   "metadata": {},
   "outputs": [],
   "source": [
    "#all.cace.models.df"
   ]
  },
  {
   "cell_type": "code",
   "execution_count": 41,
   "metadata": {},
   "outputs": [],
   "source": [
    "# subset(all.cace.models.df, model ==\"retention\" & \n",
    "#                           str_detect(row.names(all.cace.models.df), \"Intercept\")!=TRUE)"
   ]
  },
  {
   "cell_type": "code",
   "execution_count": 42,
   "metadata": {},
   "outputs": [],
   "source": [
    "# plot.effect.facets(subset(all.cace.models.df, model ==\"retention\" & \n",
    "#                           str_detect(row.names(all.cace.models.df), \"Intercept\")!=TRUE),\n",
    "#                    title=\"Retention CACE\")"
   ]
  },
  {
   "cell_type": "code",
   "execution_count": 43,
   "metadata": {},
   "outputs": [],
   "source": [
    "# subset(all.cace.models.df, model ==\"labor hours\" & \n",
    "#                           str_detect(row.names(all.cace.models.df), \"Intercept\")!=TRUE)"
   ]
  },
  {
   "cell_type": "code",
   "execution_count": 44,
   "metadata": {},
   "outputs": [],
   "source": [
    "# plot.effect.facets(subset(all.cace.models.df, model ==\"labor hours\" & \n",
    "#                           subgroup!=\"all\" &\n",
    "#                           str_detect(row.names(all.cace.models.df), \"Intercept\")!=TRUE),\n",
    "#                    title=\"Labour Hours CACE\")"
   ]
  },
  {
   "cell_type": "code",
   "execution_count": 45,
   "metadata": {},
   "outputs": [],
   "source": [
    "# subset(all.cace.models.df, model ==\"thanks sent\" & \n",
    "#                           str_detect(row.names(all.cace.models.df), \"Intercept\")!=TRUE)"
   ]
  },
  {
   "cell_type": "code",
   "execution_count": 46,
   "metadata": {},
   "outputs": [],
   "source": [
    "# plot.effect.facets(subset(all.cace.models.df, model ==\"thanks sent\" & \n",
    "#                           str_detect(row.names(all.cace.models.df), \"Intercept\")!=TRUE),\n",
    "#                    title=\"Thanks Sent CACE\")"
   ]
  },
  {
   "cell_type": "markdown",
   "metadata": {},
   "source": [
    "# Create a Regression Table"
   ]
  },
  {
   "cell_type": "code",
   "execution_count": 1,
   "metadata": {},
   "outputs": [
    {
     "ename": "ERROR",
     "evalue": "Error in eval(expr, envir, enclos): object 'df3' not found\n",
     "output_type": "error",
     "traceback": [
      "Error in eval(expr, envir, enclos): object 'df3' not found\nTraceback:\n"
     ]
    }
   ],
   "source": [
    "df3"
   ]
  },
  {
   "cell_type": "markdown",
   "metadata": {},
   "source": [
    "# Save Data for LaTeX file"
   ]
  },
  {
   "cell_type": "code",
   "execution_count": 57,
   "metadata": {},
   "outputs": [],
   "source": [
    "dfs<-Filter(function(x) is.data.frame(get(x)) , ls())\n",
    "save(list=dfs, file=\"paper-data.RData\", version = 2) # overleaf uses R 3.4 which requires version 2 of Rdata I believe"
   ]
  }
 ],
 "metadata": {
  "kernelspec": {
   "display_name": "R",
   "language": "R",
   "name": "ir"
  },
  "language_info": {
   "codemirror_mode": "r",
   "file_extension": ".r",
   "mimetype": "text/x-r-source",
   "name": "R",
   "pygments_lexer": "r",
   "version": "3.5.1"
  },
  "varInspector": {
   "cols": {
    "lenName": 16,
    "lenType": 16,
    "lenVar": 40
   },
   "kernels_config": {
    "python": {
     "delete_cmd_postfix": "",
     "delete_cmd_prefix": "del ",
     "library": "var_list.py",
     "varRefreshCmd": "print(var_dic_list())"
    },
    "r": {
     "delete_cmd_postfix": ") ",
     "delete_cmd_prefix": "rm(",
     "library": "var_list.r",
     "varRefreshCmd": "cat(var_dic_list()) "
    }
   },
   "types_to_exclude": [
    "module",
    "function",
    "builtin_function_or_method",
    "instance",
    "_Feature"
   ],
   "window_display": false
  }
 },
 "nbformat": 4,
 "nbformat_minor": 2
}
